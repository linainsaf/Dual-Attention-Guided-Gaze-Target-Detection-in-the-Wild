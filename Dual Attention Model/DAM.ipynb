{
  "nbformat": 4,
  "nbformat_minor": 0,
  "metadata": {
    "colab": {
      "name": "DAM.ipynb",
      "provenance": [],
      "collapsed_sections": [],
      "mount_file_id": "1RCI7_AaGdMi59VsV5QdNhdImg-88z7pb",
      "authorship_tag": "ABX9TyOSwQNc/+1kk4Bi3UCDZv1F",
      "include_colab_link": true
    },
    "kernelspec": {
      "name": "python3",
      "display_name": "Python 3"
    },
    "language_info": {
      "name": "python"
    },
    "accelerator": "GPU"
  },
  "cells": [
    {
      "cell_type": "markdown",
      "metadata": {
        "id": "view-in-github",
        "colab_type": "text"
      },
      "source": [
        "<a href=\"https://colab.research.google.com/github/linainsaf/Dual-Attention-Guided-Gaze-Target-Detection-in-the-Wild/blob/main/DAM.ipynb\" target=\"_parent\"><img src=\"https://colab.research.google.com/assets/colab-badge.svg\" alt=\"Open In Colab\"/></a>"
      ]
    },
    {
      "cell_type": "code",
      "execution_count": 27,
      "metadata": {
        "id": "_wKf2pn0AJpr"
      },
      "outputs": [],
      "source": [
        "import pickle\n",
        "import numpy as np\n",
        "import cv2"
      ]
    },
    {
      "cell_type": "code",
      "source": [
        "def normalize (mat):\n",
        "    max_value = np.max(mat)\n",
        "    return mat/max_value\n",
        "\n",
        "def Md (Id,N,gz):    \n",
        "    r=16  # constante\n",
        "    sigma=0.3 #constante\n",
        "       \n",
        "    Fd=Id-np.sum(np.sum(N))/N.size\n",
        "    \n",
        "    \n",
        "    Mfront = np.maximum(Fd, np.zeros_like(Fd))\n",
        "    Mmid = np.maximum(1-r*Fd**2, np.zeros_like(Fd))\n",
        "    Mback = np.maximum(-Fd, np.zeros_like(Fd))\n",
        "    \n",
        "    if gz >-1 and gz<sigma:\n",
        "        return Mfront\n",
        "    elif gz >-sigma and gz<sigma:\n",
        "        return Mmid\n",
        "    elif gz >sigma and gz<1:\n",
        "        return Mback\n",
        "\n",
        "def Mf(H, G, I, alpha=6):\n",
        "    \"\"\"\n",
        "        H     : (hx, hy) head position\n",
        "        G     : (gx, gy) gaze target direction\n",
        "        I     : image\n",
        "        alpha : parameter to decide the angle of view\n",
        "        \n",
        "        return : FOV attention Map\n",
        "    \"\"\"\n",
        "    \n",
        "    FOV = np.zeros_like(I)\n",
        "    \n",
        "    for i in range(I.shape[0]):\n",
        "        for j in range(I.shape[1]):\n",
        "            \n",
        "            theta   = np.arccos( ( (np.array([i,j])-H)*G )/( np.linalg.norm(np.array([i,j])-H)*np.linalg.norm(G)) )\n",
        "            FOV[i,j] = np.max(1-((alpha*theta)/np.pi), 0)\n",
        "    \n",
        "    return FOV"
      ],
      "metadata": {
        "id": "Woura8vNBXbN"
      },
      "execution_count": 28,
      "outputs": []
    },
    {
      "cell_type": "code",
      "source": [
        "# get depth maps  from pickle file\n",
        "gaze_estimations = pickle.load( open( \"drive/MyDrive/MLA/prediction_gazefollow.pkl\", \"rb\" ) )\n",
        "heads_poses = pickle.load( open( \"drive/MyDrive/MLA/head_poses.pkl\", \"rb\" ) )\n",
        "depth_maps_imgs = pickle.load( open( \"drive/MyDrive/MLA/depth_estimation_maps_gaze_follow.pkl\", \"rb\" ) )\n",
        "depth_maps_names = pickle.load( open( \"drive/MyDrive/MLA/depth_estimation_maps_name_gaze_follow.pkl\", \"rb\" ) )\n",
        "heads = pickle.load( open( \"drive/MyDrive/MLA/imgs_heads_gaze_follow.pkl\", \"rb\" ) )\n",
        "\n",
        "removed =  []\n",
        "for i in range(len(heads)):\n",
        "  if  heads[i].any():\n",
        "      heads[i] = cv2.resize(heads[i], dsize=(224, 224), interpolation=cv2.INTER_CUBIC)\n",
        "  else : \n",
        "      removed.append(i)\n",
        "print(removed)"
      ],
      "metadata": {
        "colab": {
          "base_uri": "https://localhost:8080/"
        },
        "id": "dOQaohCuAPHL",
        "outputId": "699745ad-8c59-4c43-8984-6e713bb68f4f"
      },
      "execution_count": 53,
      "outputs": [
        {
          "output_type": "stream",
          "name": "stdout",
          "text": [
            "[22, 2026]\n"
          ]
        }
      ]
    },
    {
      "cell_type": "code",
      "source": [
        "del heads[removed[0]]\n",
        "del heads[removed[1]-1]\n",
        "del heads[0]\n"
      ],
      "metadata": {
        "id": "_uXkHgm0DPTi"
      },
      "execution_count": 54,
      "outputs": []
    },
    {
      "cell_type": "code",
      "source": [
        "# build the heatmaps\n",
        "# depth_maps -- depth maps\n",
        "#imgs_heads -- head images\n",
        "#gz \n",
        "#H -- head position\n",
        "#G -- gx, gy\n",
        "#I -- image\n",
        "def DAM(depth_maps,imgs_heads, gz, H, G, I, alpha=6):\n",
        "    \n",
        "    for i in range (np.size(depth_maps)):    \n",
        "        heat_maps=Md(depth_maps[i], imgs_heads[i], gz[i])*Mf(H[i], G[i], I[i], alpha) # on doit multiplier par le module FOV\n",
        "    \n",
        "    return heat_maps"
      ],
      "metadata": {
        "id": "Cmv53YdxAQP5"
      },
      "execution_count": 31,
      "outputs": []
    },
    {
      "cell_type": "code",
      "source": [
        "gz = gaze_estimations.cpu().detach().numpy()[:,2]"
      ],
      "metadata": {
        "id": "Hg3jlg1VJHFz"
      },
      "execution_count": 39,
      "outputs": []
    },
    {
      "cell_type": "code",
      "source": [
        "H = heads_poses.cpu().detach().numpy()"
      ],
      "metadata": {
        "id": "O1ihH4aqB02x"
      },
      "execution_count": 32,
      "outputs": []
    },
    {
      "cell_type": "code",
      "source": [
        "np.shape(depth_maps_imgs[0])"
      ],
      "metadata": {
        "colab": {
          "base_uri": "https://localhost:8080/"
        },
        "id": "sU7q1GdTLhKv",
        "outputId": "de67aabc-1a93-40ae-829f-e35a79bd5507"
      },
      "execution_count": 62,
      "outputs": [
        {
          "output_type": "execute_result",
          "data": {
            "text/plain": [
              "(400, 300)"
            ]
          },
          "metadata": {},
          "execution_count": 62
        }
      ]
    },
    {
      "cell_type": "code",
      "source": [
        "depth_maps_names"
      ],
      "metadata": {
        "colab": {
          "base_uri": "https://localhost:8080/"
        },
        "id": "lFzO4oJKKlzv",
        "outputId": "d707c959-2986-4fef-ece2-ace807b79287"
      },
      "execution_count": 51,
      "outputs": [
        {
          "output_type": "execute_result",
          "data": {
            "text/plain": [
              "array(['00001001.pfm', '00001001.png'], dtype='<U12')"
            ]
          },
          "metadata": {},
          "execution_count": 51
        }
      ]
    },
    {
      "cell_type": "code",
      "source": [
        "depth_maps = []\n",
        "depth_maps.append(depth_maps_imgs[:1000])\n",
        "depth_maps.append(depth_maps_imgs[1000:2000])\n",
        "depth_maps.append(depth_maps_imgs[2000:3000])\n",
        "depth_maps.append(depth_maps_imgs[3000:4000])"
      ],
      "metadata": {
        "id": "dH2MHy7CIjpc"
      },
      "execution_count": 33,
      "outputs": []
    },
    {
      "cell_type": "code",
      "source": [
        "heat_maps = DAM(depth_maps, heads, gz, H, I, alpha=6)"
      ],
      "metadata": {
        "id": "_cpQHHxfAQNK"
      },
      "execution_count": null,
      "outputs": []
    },
    {
      "cell_type": "code",
      "source": [
        ""
      ],
      "metadata": {
        "id": "WPxutERMAQGX"
      },
      "execution_count": null,
      "outputs": []
    }
  ]
}
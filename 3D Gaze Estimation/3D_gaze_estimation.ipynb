{
  "nbformat": 4,
  "nbformat_minor": 0,
  "metadata": {
    "colab": {
      "name": "3D gaze estimation.ipynb",
      "provenance": [],
      "collapsed_sections": [],
      "include_colab_link": true
    },
    "kernelspec": {
      "name": "python3",
      "display_name": "Python 3"
    },
    "language_info": {
      "name": "python"
    },
    "accelerator": "GPU"
  },
  "cells": [
    {
      "cell_type": "markdown",
      "metadata": {
        "id": "view-in-github",
        "colab_type": "text"
      },
      "source": [
        "<a href=\"https://colab.research.google.com/github/linainsaf/Dual-Attention-Guided-Gaze-Target-Detection-in-the-Wild/blob/main/3D_gaze_estimation.ipynb\" target=\"_parent\"><img src=\"https://colab.research.google.com/assets/colab-badge.svg\" alt=\"Open In Colab\"/></a>"
      ]
    },
    {
      "cell_type": "markdown",
      "metadata": {
        "id": "TH3uuXFQVuMw"
      },
      "source": [
        "## Depth Estimation Network"
      ]
    },
    {
      "cell_type": "code",
      "metadata": {
        "id": "YMGL0yrDVrmP"
      },
      "source": [
        "import cv2\n",
        "import torch\n",
        "import urllib.request\n",
        "import pickle\n",
        "import matplotlib.pyplot as plt\n",
        "import torch\n",
        "import numpy as np"
      ],
      "execution_count": 1,
      "outputs": []
    },
    {
      "cell_type": "markdown",
      "source": [
        "## Gazefollow 3D Gaze estimation"
      ],
      "metadata": {
        "id": "2jWtyCN35eVW"
      }
    },
    {
      "cell_type": "code",
      "source": [
        "import torchvision\n",
        "from torchvision import models \n",
        "from torchvision import transforms\n",
        "import torch.nn as nn\n",
        "from PIL import Image\n",
        "from matplotlib import cm\n",
        "import torch\n",
        "from torch.utils.data import Dataset, DataLoader\n",
        "from torchvision import transforms, utils\n",
        "from torchvision import datasets\n",
        "import math\n",
        "device = torch.device('cuda' if torch.cuda.is_available() else 'cpu')\n",
        "device"
      ],
      "metadata": {
        "colab": {
          "base_uri": "https://localhost:8080/"
        },
        "id": "kzc-jswdLh5K",
        "outputId": "65ba9885-2dcc-42b8-b9d1-8d8ea94308b5"
      },
      "execution_count": 2,
      "outputs": [
        {
          "output_type": "execute_result",
          "data": {
            "text/plain": [
              "device(type='cuda')"
            ]
          },
          "metadata": {},
          "execution_count": 2
        }
      ]
    },
    {
      "cell_type": "markdown",
      "source": [
        "## Load data and models"
      ],
      "metadata": {
        "id": "r4S4WqqJMNmB"
      }
    },
    {
      "cell_type": "code",
      "source": [
        "heads = pickle.load( open( \"drive/MyDrive/MLA/imgs_heads_gaze_follow.pkl\", \"rb\" ) )\n",
        "\n",
        "removed =  []\n",
        "for i in range(len(heads)):\n",
        "  if  heads[i].any():\n",
        "      heads[i] = cv2.resize(heads[i], dsize=(224, 224), interpolation=cv2.INTER_CUBIC)\n",
        "  else : \n",
        "      removed.append(i)\n",
        "print(removed)"
      ],
      "metadata": {
        "id": "kF5INkUz5qHX",
        "colab": {
          "base_uri": "https://localhost:8080/"
        },
        "outputId": "32893f0b-6f52-4c2d-c220-4bfc828f360c"
      },
      "execution_count": 3,
      "outputs": [
        {
          "output_type": "stream",
          "name": "stdout",
          "text": [
            "[22, 2026]\n"
          ]
        }
      ]
    },
    {
      "cell_type": "code",
      "metadata": {
        "id": "VRyiWet9guRP"
      },
      "source": [
        "eyes_l,eyes_r = pickle.load( open( \"drive/MyDrive/MLA/eyes.pkl\", \"rb\" ) )"
      ],
      "execution_count": 4,
      "outputs": []
    },
    {
      "cell_type": "code",
      "source": [
        "del heads[removed[0]]\n",
        "del heads[removed[1]-1]\n",
        "del heads[0]\n",
        "\n",
        "del eyes_l[0]\n",
        "del eyes_r[0]\n",
        "\n",
        "len(eyes_r),len(eyes_l), len(heads)"
      ],
      "metadata": {
        "colab": {
          "base_uri": "https://localhost:8080/"
        },
        "id": "3-BzRy0r_gEA",
        "outputId": "6f42feaf-f80a-460b-da06-e8f66bda7518"
      },
      "execution_count": 5,
      "outputs": [
        {
          "output_type": "execute_result",
          "data": {
            "text/plain": [
              "(3997, 3997, 3997)"
            ]
          },
          "metadata": {},
          "execution_count": 5
        }
      ]
    },
    {
      "cell_type": "code",
      "source": [
        "len(eyes_r),len(eyes_l), len(heads)"
      ],
      "metadata": {
        "colab": {
          "base_uri": "https://localhost:8080/"
        },
        "id": "qaZsrnecuCAS",
        "outputId": "3977067d-b8c5-4837-a56e-73bc56eb02e5"
      },
      "execution_count": 6,
      "outputs": [
        {
          "output_type": "execute_result",
          "data": {
            "text/plain": [
              "(3997, 3997, 3997)"
            ]
          },
          "metadata": {},
          "execution_count": 6
        }
      ]
    },
    {
      "cell_type": "code",
      "source": [
        "def createModel_resnet34(out_1, out_2):\n",
        "    model = torchvision.models.resnet34(pretrained = True)\n",
        "    num_ftrs = model.fc.in_features\n",
        "\n",
        "    for param in model.parameters():\n",
        "        param.requires_grad = False\n",
        "    \n",
        "    #Creating 3 Linear connected layers which can be trained\n",
        "    fc1 = nn.Linear(num_ftrs, out_1)\n",
        "    fc2 = nn.Linear(out_1, out_2)\n",
        "    fc3 = nn.Linear(out_2, 2)\n",
        "\n",
        "    layers = [fc1, fc2, fc3]\n",
        "    for linearLayer in layers:\n",
        "        #Applying He initialization to all layers\n",
        "        nn.init.kaiming_uniform_(linearLayer.weight, nonlinearity='leaky_relu')\n",
        "  \n",
        "\n",
        "\n",
        "    #Setting Resnet's fully connected layer to our collection of three Linear layers with nn.Sequential\n",
        "    model.fc = nn.Sequential(fc1, nn.LeakyReLU(),fc2, nn.LeakyReLU(),fc3)\n",
        "    model.double() #double to set variables to double\n",
        "    #Sending the device to the GPU if avaliable\n",
        "    model.to(device)\n",
        "\n",
        "    return model"
      ],
      "metadata": {
        "id": "KArHXZjdLTW1"
      },
      "execution_count": 7,
      "outputs": []
    },
    {
      "cell_type": "code",
      "source": [
        "def createModel_MLP(hidden,tensor_size):\n",
        "    model = nn.Sequential(\n",
        "      nn.Flatten(),\n",
        "      nn.Linear(tensor_size, hidden),\n",
        "      nn.ReLU(),\n",
        "      #nn.Linear(hidden, 128),\n",
        "      #nn.ReLU(),\n",
        "      nn.Linear(hidden, 3 ),\n",
        "    )\n",
        "    \n",
        "    model.double() #double to set variables to double\n",
        "    #Sending the device to the GPU if avaliable\n",
        "    model.to(device)\n",
        "\n",
        "    return model"
      ],
      "metadata": {
        "id": "13BX5D1vROcY"
      },
      "execution_count": 8,
      "outputs": []
    },
    {
      "cell_type": "code",
      "source": [
        "class eyeDataset(Dataset):\n",
        "    \"\"\"eye landmark dataset.\"\"\"\n",
        "\n",
        "    def __init__(self, imgs, transform=None):\n",
        "       \n",
        "        self.imgs = imgs\n",
        "        self.transform = transform\n",
        "\n",
        "    def __len__(self):\n",
        "        return len(self.imgs)\n",
        "\n",
        "    def __getitem__(self, idx):\n",
        "        if torch.is_tensor(idx):\n",
        "            idx = idx.tolist()\n",
        "\n",
        "        #img_name = os.path.join(self.root_dir,self.landmarks_frame.iloc[idx, 0])\n",
        "        image = self.imgs[idx] #io.imread(img_name)\n",
        "        image = Image.fromarray(image)\n",
        "        sample = {'image': image}\n",
        "\n",
        "        if self.transform:\n",
        "            sample['image'] = self.transform(sample['image'])\n",
        "\n",
        "        return sample"
      ],
      "metadata": {
        "id": "tUwKeHVjT7bs"
      },
      "execution_count": 9,
      "outputs": []
    },
    {
      "cell_type": "code",
      "source": [
        "def get_eye_features(left_eye_imgs, right_eye_imgs):\n",
        "    # model import\n",
        "    resnet = models.resnet18(pretrained=True)\n",
        "    resnet18 = nn.Sequential(*(list(resnet.children())[:-1])) #take 8 layers \n",
        "    resnet18.to(device)\n",
        "    # transfor data\n",
        "    preprocess = transforms.Compose([\n",
        "        transforms.ToTensor(),\n",
        "        transforms.Normalize(\n",
        "        mean=[0.485, 0.456, 0.406],\n",
        "        std=[0.229, 0.224, 0.225]\n",
        "    )])\n",
        "\n",
        "    # left eye \n",
        "    l_eye_set=eyeDataset(imgs=left_eye_imgs,transform=preprocess)\n",
        "    l_eye_loader = DataLoader(l_eye_set, batch_size=571, shuffle=False, num_workers=2)\n",
        "    tensor_size = 512\n",
        "    features_left =torch.zeros((1,tensor_size), dtype=torch.int32, device = 'cuda')\n",
        "\n",
        "    for i in range(len(l_eye_loader)):\n",
        "        l=next(iter(l_eye_loader))\n",
        "        outputs_l=l['image'].to(device)\n",
        "        left=resnet18(outputs_l).flatten(start_dim=1)\n",
        "        features_left = torch.cat((features_left,left), 0)\n",
        "\n",
        "    features_left=features_left[1:,:]\n",
        "\n",
        "    # right eye\n",
        "    r_eye_set=eyeDataset(imgs=right_eye_imgs,transform=preprocess)\n",
        "    r_eye_loader = DataLoader(r_eye_set, batch_size=571, shuffle=False, num_workers=2)\n",
        "    resnet18.eval()\n",
        "    tensor_size = 512 #2048\n",
        "    features_right =torch.zeros((1,tensor_size), dtype=torch.int32, device = 'cuda')\n",
        "    for i in range(len(r_eye_loader)):\n",
        "        r=next(iter(r_eye_loader))\n",
        "        outputs_r=r['image'].to(device)\n",
        "        right=resnet18(outputs_r).flatten(start_dim=1)# yields a tensor of size([batch_size, 2048])\n",
        "        features_right = torch.cat((features_right,right), 0)\n",
        "\n",
        "    features_right=features_right[1:,:]\n",
        "\n",
        "    return features_left, features_right\n"
      ],
      "metadata": {
        "id": "nCeLj0cUUIoj"
      },
      "execution_count": 10,
      "outputs": []
    },
    {
      "cell_type": "code",
      "source": [
        "class headposeDataset(Dataset):\n",
        "    \"\"\"Face Landmarks dataset.\"\"\"\n",
        "\n",
        "    def __init__(self, imgs, transform=None):\n",
        "        self.imgs = imgs\n",
        "        self.transform = transform\n",
        "\n",
        "    def __len__(self):\n",
        "        return len(self.imgs)\n",
        "\n",
        "    def __getitem__(self, idx):\n",
        "        if torch.is_tensor(idx):\n",
        "            idx = idx.tolist()\n",
        "\n",
        "        image = self.imgs[idx] \n",
        "        image = Image.fromarray(image)\n",
        "        '''\n",
        "        landmarks = np.zeros(2)\n",
        "        landmarks=np.zeros(2)\n",
        "        landmarks[0]= ex[0]\n",
        "        landmarks[1]= ex[1]\n",
        "        '''\n",
        "        if self.transform:\n",
        "            image = self.transform(image)\n",
        "\n",
        "        sample = {'image': image}\n",
        "\n",
        "        return sample"
      ],
      "metadata": {
        "id": "mRJGY5QPVxXR"
      },
      "execution_count": 11,
      "outputs": []
    },
    {
      "cell_type": "code",
      "source": [
        "class MLPDataset(Dataset):\n",
        "    \"\"\"prep_data_for_MLP.\"\"\"\n",
        "\n",
        "    def __init__(self, data_in, transform=None):\n",
        "        self.data_in = data_in\n",
        "        self.transform = transform\n",
        "\n",
        "    def __len__(self):\n",
        "        return len(self.data_in)\n",
        "\n",
        "    def __getitem__(self, idx):\n",
        "        if torch.is_tensor(idx):\n",
        "            idx = idx.tolist()\n",
        "        x = self.data_in[idx]\n",
        "\n",
        "        if self.transform:\n",
        "              x = self.transform(x)\n",
        "        return x"
      ],
      "metadata": {
        "id": "7LePde4o1Y9q"
      },
      "execution_count": 12,
      "outputs": []
    },
    {
      "cell_type": "code",
      "source": [
        "def head_pose_extraction(head_imgs):\n",
        "  batch_size= 128 #32\n",
        "  preprocess = transforms.Compose([transforms.ToTensor(), transforms.Lambda(lambda x: x.double()),\n",
        "      transforms.Normalize(mean=[0.485, 0.456, 0.406], std=[0.229, 0.224, 0.225])])\n",
        "  \n",
        "  head_tensor = headposeDataset(imgs=head_imgs, transform=preprocess)\n",
        "  head_tensor_batched = torch.utils.data.DataLoader(head_tensor, batch_size=batch_size, num_workers=2)\n",
        "\n",
        "  # head pose prediction\n",
        "  model_hp = createModel_resnet34(512, 128)\n",
        "  model_hp.load_state_dict(torch.load(\"drive/MyDrive/MLA/head_pose_extractor.pth\"))#,map_location=torch.device('cpu')))\n",
        "  model_hp.eval() \n",
        "\n",
        "  prediction_hp =torch.zeros((1,2), dtype=torch.int32, device = 'cuda')\n",
        "\n",
        "  for i, batch in enumerate(head_tensor_batched):\n",
        "    prediction = model_hp(batch[\"image\"].to(device))\n",
        "    prediction_hp = torch.cat((prediction_hp,prediction), 0)\n",
        "  prediction_hp=prediction_hp[1:,:]\n",
        "  return prediction_hp\n"
      ],
      "metadata": {
        "id": "Xo1shlw13j6M"
      },
      "execution_count": 13,
      "outputs": []
    },
    {
      "cell_type": "code",
      "source": [
        "#we multiply this operator with the features extracted from the resnet\n",
        "def l_op(l_imgs,r_imgs): \n",
        "    l_imgs = torch.as_tensor(np.array(l_imgs)).cuda()\n",
        "    r_imgs = torch.as_tensor(np.array(r_imgs)).cuda()\n",
        "    eyes_b =l_imgs.sum(axis = (3,2,1)) +r_imgs.sum(axis = (3,2,1))\n",
        "    lop = (eyes_b).bool()\n",
        "    lop = lop.int()\n",
        "    return lop\n",
        "\n",
        "def lop_eyes_features( lop, eyes_features):\n",
        "    x= eyes_features\n",
        "    for i in range(len(lop)):\n",
        "      x[i] = torch.mul(eyes_features[i],lop[i])\n",
        "    return x\n",
        "\n",
        "\n",
        "def mlp_gaze_estimation(prediction_hp, features_left, features_right, left_eye_imgs, right_eye_imgs):\n",
        "  batch_size= 571\n",
        "  #prepare head position input\n",
        "  h = torch.as_tensor(prediction_hp).cuda()\n",
        "  #prepare eyes features : concatenation + multiplication with l operator \n",
        "  eyes_features = torch.cat((features_left, features_right),1)\n",
        "  lop = l_op(left_eye_imgs, right_eye_imgs)\n",
        "  # Multiply eyes features and L operator\n",
        "  lop_EyesFeatures = lop_eyes_features(lop,eyes_features)\n",
        "  # Concatenate eyes features with h\n",
        "  input_data = torch.cat((h,eyes_features), 1)\n",
        "  #Normalize the concatenated tensor\n",
        "  input= input_data.clone().detach()\n",
        "  input = ((input.T - input.mean(axis = 1))/input.std(axis = 1)).T\n",
        "\n",
        "  #preprocess data \n",
        "  preprocess = transforms.Compose([transforms.Lambda(lambda x: x.double())])\n",
        "  dataset = MLPDataset(input, transform=preprocess)\n",
        "  dataset_batched = torch.utils.data.DataLoader(dataset, batch_size=batch_size)\n",
        "  #Model import\n",
        "  tensor_size= len(features_left[0])*2+len(prediction_hp[0])\n",
        "  model_gaze = createModel_MLP(256,tensor_size)\n",
        "  model_gaze.load_state_dict(torch.load(\"drive/MyDrive/MLA/MLP.pth\"))#,map_location=torch.device('cpu')))\n",
        "  model_gaze.eval() \n",
        "\n",
        "  gaze_prediction =torch.zeros((1,3), dtype=torch.int32, device = 'cuda')\n",
        "\n",
        "  for i, batch in enumerate(dataset_batched):\n",
        "    prediction = model_gaze(batch.to(device))\n",
        "    gaze_prediction = torch.cat((gaze_prediction,prediction), 0)\n",
        "  gaze_prediction = gaze_prediction[1:,:]\n",
        "\n",
        "  return gaze_prediction "
      ],
      "metadata": {
        "id": "WnsPywwT1iRT"
      },
      "execution_count": 14,
      "outputs": []
    },
    {
      "cell_type": "code",
      "source": [
        "def gaze_estimation(head_imgs, left_eye_imgs, right_eye_imgs):\n",
        "    # head pose prediction\n",
        "    prediction_hp =  head_pose_extraction(head_imgs)\n",
        "    print(\"head pose estimated\")\n",
        "\n",
        "    # Get eye features\n",
        "    features_left, features_right = get_eye_features(left_eye_imgs, right_eye_imgs)\n",
        "    print(\"eyes features extracted\")\n",
        "\n",
        "    # gaze prediction\n",
        "    gaze_prediction = mlp_gaze_estimation(prediction_hp, features_left, features_right, left_eye_imgs, right_eye_imgs)\n",
        "    print(\"3D gaze predicted\")\n",
        "\n",
        "    return gaze_prediction\n"
      ],
      "metadata": {
        "id": "T_etmim9AdlP"
      },
      "execution_count": 15,
      "outputs": []
    },
    {
      "cell_type": "code",
      "source": [
        "prediction = gaze_estimation(heads, eyes_l, eyes_r)"
      ],
      "metadata": {
        "colab": {
          "base_uri": "https://localhost:8080/"
        },
        "id": "SnI7tAq0-OA6",
        "outputId": "9e98c967-9cf7-4684-8aa6-1ffda8bfe6a7"
      },
      "execution_count": 16,
      "outputs": [
        {
          "output_type": "stream",
          "name": "stdout",
          "text": [
            "head pose estimated\n",
            "eyes features extracted\n",
            "3997\n",
            "0 tensor([[-7.3231e-01, -2.1861e-01,  1.2334e+00,  ..., -5.7748e-01,\n",
            "         -5.7748e-01,  2.0832e-02],\n",
            "        [-1.3898e+01,  2.8838e+01, -1.4590e-02,  ..., -1.4590e-02,\n",
            "         -1.4590e-02, -1.4590e-02],\n",
            "        [-1.2945e+01,  2.9277e+01, -1.5949e-02,  ..., -1.5949e-02,\n",
            "         -1.5949e-02, -1.5949e-02],\n",
            "        ...,\n",
            "        [-7.6054e-01, -9.3850e-02, -1.5427e-01,  ..., -4.9297e-01,\n",
            "         -4.9297e-01, -3.9891e-01],\n",
            "        [-1.7204e+01,  2.6999e+01, -9.5654e-03,  ..., -9.5654e-03,\n",
            "         -9.5654e-03, -9.5654e-03],\n",
            "        [-1.3500e+01,  2.9026e+01, -1.5162e-02,  ..., -1.5162e-02,\n",
            "         -1.5162e-02, -1.5162e-02]], device='cuda:0', dtype=torch.float64)\n",
            "1 tensor([[-1.0939e+01,  3.0083e+01, -1.8695e-02,  ..., -1.8695e-02,\n",
            "         -1.8695e-02, -1.8695e-02],\n",
            "        [-1.8100e+01,  2.6407e+01, -8.1130e-03,  ..., -8.1130e-03,\n",
            "         -8.1130e-03, -8.1130e-03],\n",
            "        [-1.4937e+01,  2.8314e+01, -1.3064e-02,  ..., -1.3064e-02,\n",
            "         -1.3064e-02, -1.3064e-02],\n",
            "        ...,\n",
            "        [-1.3409e+01,  2.9068e+01, -1.5293e-02,  ..., -1.5293e-02,\n",
            "         -1.5293e-02, -1.5293e-02],\n",
            "        [-1.1167e+01,  2.9999e+01, -1.8390e-02,  ..., -1.8390e-02,\n",
            "         -1.8390e-02, -1.8390e-02],\n",
            "        [-1.9083e+00,  6.9120e-01, -9.0843e-01,  ...,  2.3686e+00,\n",
            "         -9.6829e-01, -9.6829e-01]], device='cuda:0', dtype=torch.float64)\n",
            "2 tensor([[-1.3749e+01,  2.8909e+01, -1.4805e-02,  ..., -1.4805e-02,\n",
            "         -1.4805e-02, -1.4805e-02],\n",
            "        [-1.0104e+01,  3.0373e+01, -1.9793e-02,  ..., -1.9793e-02,\n",
            "         -1.9793e-02, -1.9793e-02],\n",
            "        [-1.7569e+01,  2.6763e+01, -8.9789e-03,  ..., -8.9789e-03,\n",
            "         -8.9789e-03, -8.9789e-03],\n",
            "        ...,\n",
            "        [-1.5029e+01,  2.8266e+01, -1.2926e-02,  ..., -1.2926e-02,\n",
            "         -1.2926e-02, -1.2926e-02],\n",
            "        [-1.7686e+00,  5.1786e-01, -9.0872e-01,  ...,  2.3694e+00,\n",
            "         -9.6860e-01, -9.6860e-01],\n",
            "        [-1.6079e+01,  2.7683e+01, -1.1332e-02,  ..., -1.1332e-02,\n",
            "         -1.1332e-02, -1.1332e-02]], device='cuda:0', dtype=torch.float64)\n",
            "3 tensor([[-2.4485e+01,  2.0627e+01,  3.7680e-03,  ...,  3.7680e-03,\n",
            "          3.7680e-03,  3.7680e-03],\n",
            "        [-1.6109e+01,  2.7665e+01, -1.1286e-02,  ..., -1.1286e-02,\n",
            "         -1.1286e-02, -1.1286e-02],\n",
            "        [-1.4346e+01,  2.8618e+01, -1.3937e-02,  ..., -1.3937e-02,\n",
            "         -1.3937e-02, -1.3937e-02],\n",
            "        ...,\n",
            "        [-1.3427e+01,  2.9060e+01, -1.5266e-02,  ..., -1.5266e-02,\n",
            "         -1.5266e-02, -1.5266e-02],\n",
            "        [-1.4247e+01,  2.8667e+01, -1.4082e-02,  ..., -1.4082e-02,\n",
            "         -1.4082e-02, -1.4082e-02],\n",
            "        [-1.7546e+01,  2.6778e+01, -9.0158e-03,  ..., -9.0158e-03,\n",
            "         -9.0158e-03, -9.0158e-03]], device='cuda:0', dtype=torch.float64)\n",
            "4 tensor([[-1.3906e+01,  2.8834e+01, -1.4579e-02,  ..., -1.4579e-02,\n",
            "         -1.4579e-02, -1.4579e-02],\n",
            "        [-1.5124e+01,  2.8215e+01, -1.2784e-02,  ..., -1.2784e-02,\n",
            "         -1.2784e-02, -1.2784e-02],\n",
            "        [-2.1093e+01,  2.4085e+01, -2.9214e-03,  ..., -2.9214e-03,\n",
            "         -2.9214e-03, -2.9214e-03],\n",
            "        ...,\n",
            "        [-6.1855e-01, -1.2172e-01, -1.5439e-01,  ..., -4.9313e-01,\n",
            "         -4.9313e-01, -3.9906e-01],\n",
            "        [-1.1857e+01,  2.9734e+01, -1.7457e-02,  ..., -1.7457e-02,\n",
            "         -1.7457e-02, -1.7457e-02],\n",
            "        [-1.9372e+01,  2.5489e+01, -5.9730e-03,  ..., -5.9730e-03,\n",
            "         -5.9730e-03, -5.9730e-03]], device='cuda:0', dtype=torch.float64)\n",
            "5 tensor([[-7.0509e-01, -2.2099e-01,  1.2334e+00,  ..., -5.7752e-01,\n",
            "         -5.7752e-01,  2.0808e-02],\n",
            "        [-1.4507e+01,  2.8537e+01, -1.3701e-02,  ..., -1.3701e-02,\n",
            "         -1.3701e-02, -1.3701e-02],\n",
            "        [-1.0967e+01,  3.0073e+01, -1.8658e-02,  ..., -1.8658e-02,\n",
            "         -1.8658e-02, -1.8658e-02],\n",
            "        ...,\n",
            "        [-6.4135e-01, -1.1025e-01, -1.5438e-01,  ..., -4.9311e-01,\n",
            "         -4.9311e-01, -3.9905e-01],\n",
            "        [-1.4096e+01,  2.8742e+01, -1.4302e-02,  ..., -1.4302e-02,\n",
            "         -1.4302e-02, -1.4302e-02],\n",
            "        [-1.9434e+01,  2.5442e+01, -5.8673e-03,  ..., -5.8673e-03,\n",
            "         -5.8673e-03, -5.8673e-03]], device='cuda:0', dtype=torch.float64)\n",
            "6 tensor([[-1.7833e+01,  2.6588e+01, -8.5503e-03,  ..., -8.5503e-03,\n",
            "         -8.5503e-03, -8.5503e-03],\n",
            "        [-1.9304e+00,  9.5811e-01, -9.0843e-01,  ...,  2.3677e+00,\n",
            "         -9.6828e-01, -9.6828e-01],\n",
            "        [-1.2923e+01,  2.9287e+01, -1.5981e-02,  ..., -1.5981e-02,\n",
            "         -1.5981e-02, -1.5981e-02],\n",
            "        ...,\n",
            "        [-9.8897e+00,  3.0443e+01, -2.0072e-02,  ..., -2.0072e-02,\n",
            "         -2.0072e-02, -2.0072e-02],\n",
            "        [-1.3460e+01,  2.9045e+01, -1.5220e-02,  ..., -1.5220e-02,\n",
            "         -1.5220e-02, -1.5220e-02],\n",
            "        [-8.8295e+00,  3.0766e+01, -2.1423e-02,  ..., -2.1423e-02,\n",
            "         -2.1423e-02, -2.1423e-02]], device='cuda:0', dtype=torch.float64)\n",
            "3D gaze predicted\n"
          ]
        }
      ]
    },
    {
      "cell_type": "code",
      "source": [
        "pickle.dump( prediction, open( \"prediction_gazefollow.pkl\", \"wb\" ) )"
      ],
      "metadata": {
        "id": "WC7qIMSCz4G2"
      },
      "execution_count": 20,
      "outputs": []
    },
    {
      "cell_type": "code",
      "source": [
        ""
      ],
      "metadata": {
        "id": "BLN9hvu-3z4p"
      },
      "execution_count": null,
      "outputs": []
    }
  ]
}
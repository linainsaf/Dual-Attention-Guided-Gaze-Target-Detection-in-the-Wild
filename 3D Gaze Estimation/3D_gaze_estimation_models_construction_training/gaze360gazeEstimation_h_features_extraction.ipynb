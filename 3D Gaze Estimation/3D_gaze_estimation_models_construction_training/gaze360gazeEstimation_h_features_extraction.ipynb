{
  "nbformat": 4,
  "nbformat_minor": 5,
  "metadata": {
    "kernelspec": {
      "display_name": "Python 3",
      "language": "python",
      "name": "python3"
    },
    "language_info": {
      "codemirror_mode": {
        "name": "ipython",
        "version": 3
      },
      "file_extension": ".py",
      "mimetype": "text/x-python",
      "name": "python",
      "nbconvert_exporter": "python",
      "pygments_lexer": "ipython3",
      "version": "3.8.8"
    },
    "colab": {
      "name": "gaze360gazeEstimation.ipynb",
      "provenance": [],
      "collapsed_sections": [
        "GhwFIBUN68rf",
        "QcZpMbJD7fhI",
        "m9hiKiKjJ3jt"
      ]
    },
    "accelerator": "GPU",
    "widgets": {
      "application/vnd.jupyter.widget-state+json": {
        "40dffc6891d54efc82470f0e1e6ef488": {
          "model_module": "@jupyter-widgets/controls",
          "model_name": "HBoxModel",
          "model_module_version": "1.5.0",
          "state": {
            "_view_name": "HBoxView",
            "_dom_classes": [],
            "_model_name": "HBoxModel",
            "_view_module": "@jupyter-widgets/controls",
            "_model_module_version": "1.5.0",
            "_view_count": null,
            "_view_module_version": "1.5.0",
            "box_style": "",
            "layout": "IPY_MODEL_3c071e0179304c1384dccd0fe1c43539",
            "_model_module": "@jupyter-widgets/controls",
            "children": [
              "IPY_MODEL_6c2a8fcdd48d435db68380156d43819c",
              "IPY_MODEL_9e62f988971c47f5b3f232459c5e9866",
              "IPY_MODEL_7c6f60289e2b491bbfd4dc63633832ae"
            ]
          }
        },
        "3c071e0179304c1384dccd0fe1c43539": {
          "model_module": "@jupyter-widgets/base",
          "model_name": "LayoutModel",
          "model_module_version": "1.2.0",
          "state": {
            "_view_name": "LayoutView",
            "grid_template_rows": null,
            "right": null,
            "justify_content": null,
            "_view_module": "@jupyter-widgets/base",
            "overflow": null,
            "_model_module_version": "1.2.0",
            "_view_count": null,
            "flex_flow": null,
            "width": null,
            "min_width": null,
            "border": null,
            "align_items": null,
            "bottom": null,
            "_model_module": "@jupyter-widgets/base",
            "top": null,
            "grid_column": null,
            "overflow_y": null,
            "overflow_x": null,
            "grid_auto_flow": null,
            "grid_area": null,
            "grid_template_columns": null,
            "flex": null,
            "_model_name": "LayoutModel",
            "justify_items": null,
            "grid_row": null,
            "max_height": null,
            "align_content": null,
            "visibility": null,
            "align_self": null,
            "height": null,
            "min_height": null,
            "padding": null,
            "grid_auto_rows": null,
            "grid_gap": null,
            "max_width": null,
            "order": null,
            "_view_module_version": "1.2.0",
            "grid_template_areas": null,
            "object_position": null,
            "object_fit": null,
            "grid_auto_columns": null,
            "margin": null,
            "display": null,
            "left": null
          }
        },
        "6c2a8fcdd48d435db68380156d43819c": {
          "model_module": "@jupyter-widgets/controls",
          "model_name": "HTMLModel",
          "model_module_version": "1.5.0",
          "state": {
            "_view_name": "HTMLView",
            "style": "IPY_MODEL_8c7e674a75b441ea842d7220c19eb4b5",
            "_dom_classes": [],
            "description": "",
            "_model_name": "HTMLModel",
            "placeholder": "​",
            "_view_module": "@jupyter-widgets/controls",
            "_model_module_version": "1.5.0",
            "value": "100%",
            "_view_count": null,
            "_view_module_version": "1.5.0",
            "description_tooltip": null,
            "_model_module": "@jupyter-widgets/controls",
            "layout": "IPY_MODEL_4d66fd5d098f4feb951d3dcb3c54e23a"
          }
        },
        "9e62f988971c47f5b3f232459c5e9866": {
          "model_module": "@jupyter-widgets/controls",
          "model_name": "FloatProgressModel",
          "model_module_version": "1.5.0",
          "state": {
            "_view_name": "ProgressView",
            "style": "IPY_MODEL_5635136ccbd04d6b8117c0f102401e2f",
            "_dom_classes": [],
            "description": "",
            "_model_name": "FloatProgressModel",
            "bar_style": "success",
            "max": 89843225,
            "_view_module": "@jupyter-widgets/controls",
            "_model_module_version": "1.5.0",
            "value": 89843225,
            "_view_count": null,
            "_view_module_version": "1.5.0",
            "orientation": "horizontal",
            "min": 0,
            "description_tooltip": null,
            "_model_module": "@jupyter-widgets/controls",
            "layout": "IPY_MODEL_eceba56db0b04b73acc8ee16892f0881"
          }
        },
        "7c6f60289e2b491bbfd4dc63633832ae": {
          "model_module": "@jupyter-widgets/controls",
          "model_name": "HTMLModel",
          "model_module_version": "1.5.0",
          "state": {
            "_view_name": "HTMLView",
            "style": "IPY_MODEL_6784db299f8e4018b179152f486112fa",
            "_dom_classes": [],
            "description": "",
            "_model_name": "HTMLModel",
            "placeholder": "​",
            "_view_module": "@jupyter-widgets/controls",
            "_model_module_version": "1.5.0",
            "value": " 85.7M/85.7M [00:04&lt;00:00, 26.7MB/s]",
            "_view_count": null,
            "_view_module_version": "1.5.0",
            "description_tooltip": null,
            "_model_module": "@jupyter-widgets/controls",
            "layout": "IPY_MODEL_6a0324b719764c41b0f4bebccd4b8b2a"
          }
        },
        "8c7e674a75b441ea842d7220c19eb4b5": {
          "model_module": "@jupyter-widgets/controls",
          "model_name": "DescriptionStyleModel",
          "model_module_version": "1.5.0",
          "state": {
            "_view_name": "StyleView",
            "_model_name": "DescriptionStyleModel",
            "description_width": "",
            "_view_module": "@jupyter-widgets/base",
            "_model_module_version": "1.5.0",
            "_view_count": null,
            "_view_module_version": "1.2.0",
            "_model_module": "@jupyter-widgets/controls"
          }
        },
        "4d66fd5d098f4feb951d3dcb3c54e23a": {
          "model_module": "@jupyter-widgets/base",
          "model_name": "LayoutModel",
          "model_module_version": "1.2.0",
          "state": {
            "_view_name": "LayoutView",
            "grid_template_rows": null,
            "right": null,
            "justify_content": null,
            "_view_module": "@jupyter-widgets/base",
            "overflow": null,
            "_model_module_version": "1.2.0",
            "_view_count": null,
            "flex_flow": null,
            "width": null,
            "min_width": null,
            "border": null,
            "align_items": null,
            "bottom": null,
            "_model_module": "@jupyter-widgets/base",
            "top": null,
            "grid_column": null,
            "overflow_y": null,
            "overflow_x": null,
            "grid_auto_flow": null,
            "grid_area": null,
            "grid_template_columns": null,
            "flex": null,
            "_model_name": "LayoutModel",
            "justify_items": null,
            "grid_row": null,
            "max_height": null,
            "align_content": null,
            "visibility": null,
            "align_self": null,
            "height": null,
            "min_height": null,
            "padding": null,
            "grid_auto_rows": null,
            "grid_gap": null,
            "max_width": null,
            "order": null,
            "_view_module_version": "1.2.0",
            "grid_template_areas": null,
            "object_position": null,
            "object_fit": null,
            "grid_auto_columns": null,
            "margin": null,
            "display": null,
            "left": null
          }
        },
        "5635136ccbd04d6b8117c0f102401e2f": {
          "model_module": "@jupyter-widgets/controls",
          "model_name": "ProgressStyleModel",
          "model_module_version": "1.5.0",
          "state": {
            "_view_name": "StyleView",
            "_model_name": "ProgressStyleModel",
            "description_width": "",
            "_view_module": "@jupyter-widgets/base",
            "_model_module_version": "1.5.0",
            "_view_count": null,
            "_view_module_version": "1.2.0",
            "bar_color": null,
            "_model_module": "@jupyter-widgets/controls"
          }
        },
        "eceba56db0b04b73acc8ee16892f0881": {
          "model_module": "@jupyter-widgets/base",
          "model_name": "LayoutModel",
          "model_module_version": "1.2.0",
          "state": {
            "_view_name": "LayoutView",
            "grid_template_rows": null,
            "right": null,
            "justify_content": null,
            "_view_module": "@jupyter-widgets/base",
            "overflow": null,
            "_model_module_version": "1.2.0",
            "_view_count": null,
            "flex_flow": null,
            "width": null,
            "min_width": null,
            "border": null,
            "align_items": null,
            "bottom": null,
            "_model_module": "@jupyter-widgets/base",
            "top": null,
            "grid_column": null,
            "overflow_y": null,
            "overflow_x": null,
            "grid_auto_flow": null,
            "grid_area": null,
            "grid_template_columns": null,
            "flex": null,
            "_model_name": "LayoutModel",
            "justify_items": null,
            "grid_row": null,
            "max_height": null,
            "align_content": null,
            "visibility": null,
            "align_self": null,
            "height": null,
            "min_height": null,
            "padding": null,
            "grid_auto_rows": null,
            "grid_gap": null,
            "max_width": null,
            "order": null,
            "_view_module_version": "1.2.0",
            "grid_template_areas": null,
            "object_position": null,
            "object_fit": null,
            "grid_auto_columns": null,
            "margin": null,
            "display": null,
            "left": null
          }
        },
        "6784db299f8e4018b179152f486112fa": {
          "model_module": "@jupyter-widgets/controls",
          "model_name": "DescriptionStyleModel",
          "model_module_version": "1.5.0",
          "state": {
            "_view_name": "StyleView",
            "_model_name": "DescriptionStyleModel",
            "description_width": "",
            "_view_module": "@jupyter-widgets/base",
            "_model_module_version": "1.5.0",
            "_view_count": null,
            "_view_module_version": "1.2.0",
            "_model_module": "@jupyter-widgets/controls"
          }
        },
        "6a0324b719764c41b0f4bebccd4b8b2a": {
          "model_module": "@jupyter-widgets/base",
          "model_name": "LayoutModel",
          "model_module_version": "1.2.0",
          "state": {
            "_view_name": "LayoutView",
            "grid_template_rows": null,
            "right": null,
            "justify_content": null,
            "_view_module": "@jupyter-widgets/base",
            "overflow": null,
            "_model_module_version": "1.2.0",
            "_view_count": null,
            "flex_flow": null,
            "width": null,
            "min_width": null,
            "border": null,
            "align_items": null,
            "bottom": null,
            "_model_module": "@jupyter-widgets/base",
            "top": null,
            "grid_column": null,
            "overflow_y": null,
            "overflow_x": null,
            "grid_auto_flow": null,
            "grid_area": null,
            "grid_template_columns": null,
            "flex": null,
            "_model_name": "LayoutModel",
            "justify_items": null,
            "grid_row": null,
            "max_height": null,
            "align_content": null,
            "visibility": null,
            "align_self": null,
            "height": null,
            "min_height": null,
            "padding": null,
            "grid_auto_rows": null,
            "grid_gap": null,
            "max_width": null,
            "order": null,
            "_view_module_version": "1.2.0",
            "grid_template_areas": null,
            "object_position": null,
            "object_fit": null,
            "grid_auto_columns": null,
            "margin": null,
            "display": null,
            "left": null
          }
        },
        "25eb01b95015412eb90d31ec7955370b": {
          "model_module": "@jupyter-widgets/controls",
          "model_name": "HBoxModel",
          "model_module_version": "1.5.0",
          "state": {
            "_view_name": "HBoxView",
            "_dom_classes": [],
            "_model_name": "HBoxModel",
            "_view_module": "@jupyter-widgets/controls",
            "_model_module_version": "1.5.0",
            "_view_count": null,
            "_view_module_version": "1.5.0",
            "box_style": "",
            "layout": "IPY_MODEL_79a8cc3d5e2f4ccebed2d4d5aa1b0de0",
            "_model_module": "@jupyter-widgets/controls",
            "children": [
              "IPY_MODEL_01261527a4e64d3192c33687ffd9f432",
              "IPY_MODEL_b1eb2d391da44cb8a4a175e9aa8cf7b5",
              "IPY_MODEL_16b17a42923748d0abba4f6bf28d0198"
            ]
          }
        },
        "79a8cc3d5e2f4ccebed2d4d5aa1b0de0": {
          "model_module": "@jupyter-widgets/base",
          "model_name": "LayoutModel",
          "model_module_version": "1.2.0",
          "state": {
            "_view_name": "LayoutView",
            "grid_template_rows": null,
            "right": null,
            "justify_content": null,
            "_view_module": "@jupyter-widgets/base",
            "overflow": null,
            "_model_module_version": "1.2.0",
            "_view_count": null,
            "flex_flow": null,
            "width": null,
            "min_width": null,
            "border": null,
            "align_items": null,
            "bottom": null,
            "_model_module": "@jupyter-widgets/base",
            "top": null,
            "grid_column": null,
            "overflow_y": null,
            "overflow_x": null,
            "grid_auto_flow": null,
            "grid_area": null,
            "grid_template_columns": null,
            "flex": null,
            "_model_name": "LayoutModel",
            "justify_items": null,
            "grid_row": null,
            "max_height": null,
            "align_content": null,
            "visibility": null,
            "align_self": null,
            "height": null,
            "min_height": null,
            "padding": null,
            "grid_auto_rows": null,
            "grid_gap": null,
            "max_width": null,
            "order": null,
            "_view_module_version": "1.2.0",
            "grid_template_areas": null,
            "object_position": null,
            "object_fit": null,
            "grid_auto_columns": null,
            "margin": null,
            "display": null,
            "left": null
          }
        },
        "01261527a4e64d3192c33687ffd9f432": {
          "model_module": "@jupyter-widgets/controls",
          "model_name": "HTMLModel",
          "model_module_version": "1.5.0",
          "state": {
            "_view_name": "HTMLView",
            "style": "IPY_MODEL_542a87110c38457e8b71e8ed0017d5ac",
            "_dom_classes": [],
            "description": "",
            "_model_name": "HTMLModel",
            "placeholder": "​",
            "_view_module": "@jupyter-widgets/controls",
            "_model_module_version": "1.5.0",
            "value": "100%",
            "_view_count": null,
            "_view_module_version": "1.5.0",
            "description_tooltip": null,
            "_model_module": "@jupyter-widgets/controls",
            "layout": "IPY_MODEL_821b3bb2fdcb406f8560d9539ec0f645"
          }
        },
        "b1eb2d391da44cb8a4a175e9aa8cf7b5": {
          "model_module": "@jupyter-widgets/controls",
          "model_name": "FloatProgressModel",
          "model_module_version": "1.5.0",
          "state": {
            "_view_name": "ProgressView",
            "style": "IPY_MODEL_d126814e66bb49438e1c3dc0af2be295",
            "_dom_classes": [],
            "description": "",
            "_model_name": "FloatProgressModel",
            "bar_style": "success",
            "max": 96316515,
            "_view_module": "@jupyter-widgets/controls",
            "_model_module_version": "1.5.0",
            "value": 96316515,
            "_view_count": null,
            "_view_module_version": "1.5.0",
            "orientation": "horizontal",
            "min": 0,
            "description_tooltip": null,
            "_model_module": "@jupyter-widgets/controls",
            "layout": "IPY_MODEL_38bc544e14e545e59614c3bc100a7f64"
          }
        },
        "16b17a42923748d0abba4f6bf28d0198": {
          "model_module": "@jupyter-widgets/controls",
          "model_name": "HTMLModel",
          "model_module_version": "1.5.0",
          "state": {
            "_view_name": "HTMLView",
            "style": "IPY_MODEL_0286f354dfdb4aa5a3ed84294079dd7e",
            "_dom_classes": [],
            "description": "",
            "_model_name": "HTMLModel",
            "placeholder": "​",
            "_view_module": "@jupyter-widgets/controls",
            "_model_module_version": "1.5.0",
            "value": " 91.9M/91.9M [00:04&lt;00:00, 25.5MB/s]",
            "_view_count": null,
            "_view_module_version": "1.5.0",
            "description_tooltip": null,
            "_model_module": "@jupyter-widgets/controls",
            "layout": "IPY_MODEL_02a1668efaf9453b8d0862269bf190d7"
          }
        },
        "542a87110c38457e8b71e8ed0017d5ac": {
          "model_module": "@jupyter-widgets/controls",
          "model_name": "DescriptionStyleModel",
          "model_module_version": "1.5.0",
          "state": {
            "_view_name": "StyleView",
            "_model_name": "DescriptionStyleModel",
            "description_width": "",
            "_view_module": "@jupyter-widgets/base",
            "_model_module_version": "1.5.0",
            "_view_count": null,
            "_view_module_version": "1.2.0",
            "_model_module": "@jupyter-widgets/controls"
          }
        },
        "821b3bb2fdcb406f8560d9539ec0f645": {
          "model_module": "@jupyter-widgets/base",
          "model_name": "LayoutModel",
          "model_module_version": "1.2.0",
          "state": {
            "_view_name": "LayoutView",
            "grid_template_rows": null,
            "right": null,
            "justify_content": null,
            "_view_module": "@jupyter-widgets/base",
            "overflow": null,
            "_model_module_version": "1.2.0",
            "_view_count": null,
            "flex_flow": null,
            "width": null,
            "min_width": null,
            "border": null,
            "align_items": null,
            "bottom": null,
            "_model_module": "@jupyter-widgets/base",
            "top": null,
            "grid_column": null,
            "overflow_y": null,
            "overflow_x": null,
            "grid_auto_flow": null,
            "grid_area": null,
            "grid_template_columns": null,
            "flex": null,
            "_model_name": "LayoutModel",
            "justify_items": null,
            "grid_row": null,
            "max_height": null,
            "align_content": null,
            "visibility": null,
            "align_self": null,
            "height": null,
            "min_height": null,
            "padding": null,
            "grid_auto_rows": null,
            "grid_gap": null,
            "max_width": null,
            "order": null,
            "_view_module_version": "1.2.0",
            "grid_template_areas": null,
            "object_position": null,
            "object_fit": null,
            "grid_auto_columns": null,
            "margin": null,
            "display": null,
            "left": null
          }
        },
        "d126814e66bb49438e1c3dc0af2be295": {
          "model_module": "@jupyter-widgets/controls",
          "model_name": "ProgressStyleModel",
          "model_module_version": "1.5.0",
          "state": {
            "_view_name": "StyleView",
            "_model_name": "ProgressStyleModel",
            "description_width": "",
            "_view_module": "@jupyter-widgets/base",
            "_model_module_version": "1.5.0",
            "_view_count": null,
            "_view_module_version": "1.2.0",
            "bar_color": null,
            "_model_module": "@jupyter-widgets/controls"
          }
        },
        "38bc544e14e545e59614c3bc100a7f64": {
          "model_module": "@jupyter-widgets/base",
          "model_name": "LayoutModel",
          "model_module_version": "1.2.0",
          "state": {
            "_view_name": "LayoutView",
            "grid_template_rows": null,
            "right": null,
            "justify_content": null,
            "_view_module": "@jupyter-widgets/base",
            "overflow": null,
            "_model_module_version": "1.2.0",
            "_view_count": null,
            "flex_flow": null,
            "width": null,
            "min_width": null,
            "border": null,
            "align_items": null,
            "bottom": null,
            "_model_module": "@jupyter-widgets/base",
            "top": null,
            "grid_column": null,
            "overflow_y": null,
            "overflow_x": null,
            "grid_auto_flow": null,
            "grid_area": null,
            "grid_template_columns": null,
            "flex": null,
            "_model_name": "LayoutModel",
            "justify_items": null,
            "grid_row": null,
            "max_height": null,
            "align_content": null,
            "visibility": null,
            "align_self": null,
            "height": null,
            "min_height": null,
            "padding": null,
            "grid_auto_rows": null,
            "grid_gap": null,
            "max_width": null,
            "order": null,
            "_view_module_version": "1.2.0",
            "grid_template_areas": null,
            "object_position": null,
            "object_fit": null,
            "grid_auto_columns": null,
            "margin": null,
            "display": null,
            "left": null
          }
        },
        "0286f354dfdb4aa5a3ed84294079dd7e": {
          "model_module": "@jupyter-widgets/controls",
          "model_name": "DescriptionStyleModel",
          "model_module_version": "1.5.0",
          "state": {
            "_view_name": "StyleView",
            "_model_name": "DescriptionStyleModel",
            "description_width": "",
            "_view_module": "@jupyter-widgets/base",
            "_model_module_version": "1.5.0",
            "_view_count": null,
            "_view_module_version": "1.2.0",
            "_model_module": "@jupyter-widgets/controls"
          }
        },
        "02a1668efaf9453b8d0862269bf190d7": {
          "model_module": "@jupyter-widgets/base",
          "model_name": "LayoutModel",
          "model_module_version": "1.2.0",
          "state": {
            "_view_name": "LayoutView",
            "grid_template_rows": null,
            "right": null,
            "justify_content": null,
            "_view_module": "@jupyter-widgets/base",
            "overflow": null,
            "_model_module_version": "1.2.0",
            "_view_count": null,
            "flex_flow": null,
            "width": null,
            "min_width": null,
            "border": null,
            "align_items": null,
            "bottom": null,
            "_model_module": "@jupyter-widgets/base",
            "top": null,
            "grid_column": null,
            "overflow_y": null,
            "overflow_x": null,
            "grid_auto_flow": null,
            "grid_area": null,
            "grid_template_columns": null,
            "flex": null,
            "_model_name": "LayoutModel",
            "justify_items": null,
            "grid_row": null,
            "max_height": null,
            "align_content": null,
            "visibility": null,
            "align_self": null,
            "height": null,
            "min_height": null,
            "padding": null,
            "grid_auto_rows": null,
            "grid_gap": null,
            "max_width": null,
            "order": null,
            "_view_module_version": "1.2.0",
            "grid_template_areas": null,
            "object_position": null,
            "object_fit": null,
            "grid_auto_columns": null,
            "margin": null,
            "display": null,
            "left": null
          }
        },
        "fb032b3868dd4f2bad9f0b3feaee7d33": {
          "model_module": "@jupyter-widgets/controls",
          "model_name": "HBoxModel",
          "model_module_version": "1.5.0",
          "state": {
            "_view_name": "HBoxView",
            "_dom_classes": [],
            "_model_name": "HBoxModel",
            "_view_module": "@jupyter-widgets/controls",
            "_model_module_version": "1.5.0",
            "_view_count": null,
            "_view_module_version": "1.5.0",
            "box_style": "",
            "layout": "IPY_MODEL_1547a85e3ff64946bca882576a310b7b",
            "_model_module": "@jupyter-widgets/controls",
            "children": [
              "IPY_MODEL_f900b0a2b1764546863446aab89ba00a",
              "IPY_MODEL_e65dcef692194a5a8759320236a73dbe",
              "IPY_MODEL_d7875177ef024829b51195b9b4fa9d8d"
            ]
          }
        },
        "1547a85e3ff64946bca882576a310b7b": {
          "model_module": "@jupyter-widgets/base",
          "model_name": "LayoutModel",
          "model_module_version": "1.2.0",
          "state": {
            "_view_name": "LayoutView",
            "grid_template_rows": null,
            "right": null,
            "justify_content": null,
            "_view_module": "@jupyter-widgets/base",
            "overflow": null,
            "_model_module_version": "1.2.0",
            "_view_count": null,
            "flex_flow": null,
            "width": null,
            "min_width": null,
            "border": null,
            "align_items": null,
            "bottom": null,
            "_model_module": "@jupyter-widgets/base",
            "top": null,
            "grid_column": null,
            "overflow_y": null,
            "overflow_x": null,
            "grid_auto_flow": null,
            "grid_area": null,
            "grid_template_columns": null,
            "flex": null,
            "_model_name": "LayoutModel",
            "justify_items": null,
            "grid_row": null,
            "max_height": null,
            "align_content": null,
            "visibility": null,
            "align_self": null,
            "height": null,
            "min_height": null,
            "padding": null,
            "grid_auto_rows": null,
            "grid_gap": null,
            "max_width": null,
            "order": null,
            "_view_module_version": "1.2.0",
            "grid_template_areas": null,
            "object_position": null,
            "object_fit": null,
            "grid_auto_columns": null,
            "margin": null,
            "display": null,
            "left": null
          }
        },
        "f900b0a2b1764546863446aab89ba00a": {
          "model_module": "@jupyter-widgets/controls",
          "model_name": "HTMLModel",
          "model_module_version": "1.5.0",
          "state": {
            "_view_name": "HTMLView",
            "style": "IPY_MODEL_8328977f6108484da8590f9a34e45d81",
            "_dom_classes": [],
            "description": "",
            "_model_name": "HTMLModel",
            "placeholder": "​",
            "_view_module": "@jupyter-widgets/controls",
            "_model_module_version": "1.5.0",
            "value": "100%",
            "_view_count": null,
            "_view_module_version": "1.5.0",
            "description_tooltip": null,
            "_model_module": "@jupyter-widgets/controls",
            "layout": "IPY_MODEL_f8cf2be0a8d549aaaaf1930a5a97dab2"
          }
        },
        "e65dcef692194a5a8759320236a73dbe": {
          "model_module": "@jupyter-widgets/controls",
          "model_name": "FloatProgressModel",
          "model_module_version": "1.5.0",
          "state": {
            "_view_name": "ProgressView",
            "style": "IPY_MODEL_16ea510f430e43a28b154f36fcaf36fd",
            "_dom_classes": [],
            "description": "",
            "_model_name": "FloatProgressModel",
            "bar_style": "success",
            "max": 235314250,
            "_view_module": "@jupyter-widgets/controls",
            "_model_module_version": "1.5.0",
            "value": 235314250,
            "_view_count": null,
            "_view_module_version": "1.5.0",
            "orientation": "horizontal",
            "min": 0,
            "description_tooltip": null,
            "_model_module": "@jupyter-widgets/controls",
            "layout": "IPY_MODEL_3a5335f5b2844cefb42995d27393baf8"
          }
        },
        "d7875177ef024829b51195b9b4fa9d8d": {
          "model_module": "@jupyter-widgets/controls",
          "model_name": "HTMLModel",
          "model_module_version": "1.5.0",
          "state": {
            "_view_name": "HTMLView",
            "style": "IPY_MODEL_7286520738be4367a3a3ffaafcbb59fb",
            "_dom_classes": [],
            "description": "",
            "_model_name": "HTMLModel",
            "placeholder": "​",
            "_view_module": "@jupyter-widgets/controls",
            "_model_module_version": "1.5.0",
            "value": " 224M/224M [00:22&lt;00:00, 10.0MB/s]",
            "_view_count": null,
            "_view_module_version": "1.5.0",
            "description_tooltip": null,
            "_model_module": "@jupyter-widgets/controls",
            "layout": "IPY_MODEL_d5cc3395845b4f53aba7caa41d1ee9cd"
          }
        },
        "8328977f6108484da8590f9a34e45d81": {
          "model_module": "@jupyter-widgets/controls",
          "model_name": "DescriptionStyleModel",
          "model_module_version": "1.5.0",
          "state": {
            "_view_name": "StyleView",
            "_model_name": "DescriptionStyleModel",
            "description_width": "",
            "_view_module": "@jupyter-widgets/base",
            "_model_module_version": "1.5.0",
            "_view_count": null,
            "_view_module_version": "1.2.0",
            "_model_module": "@jupyter-widgets/controls"
          }
        },
        "f8cf2be0a8d549aaaaf1930a5a97dab2": {
          "model_module": "@jupyter-widgets/base",
          "model_name": "LayoutModel",
          "model_module_version": "1.2.0",
          "state": {
            "_view_name": "LayoutView",
            "grid_template_rows": null,
            "right": null,
            "justify_content": null,
            "_view_module": "@jupyter-widgets/base",
            "overflow": null,
            "_model_module_version": "1.2.0",
            "_view_count": null,
            "flex_flow": null,
            "width": null,
            "min_width": null,
            "border": null,
            "align_items": null,
            "bottom": null,
            "_model_module": "@jupyter-widgets/base",
            "top": null,
            "grid_column": null,
            "overflow_y": null,
            "overflow_x": null,
            "grid_auto_flow": null,
            "grid_area": null,
            "grid_template_columns": null,
            "flex": null,
            "_model_name": "LayoutModel",
            "justify_items": null,
            "grid_row": null,
            "max_height": null,
            "align_content": null,
            "visibility": null,
            "align_self": null,
            "height": null,
            "min_height": null,
            "padding": null,
            "grid_auto_rows": null,
            "grid_gap": null,
            "max_width": null,
            "order": null,
            "_view_module_version": "1.2.0",
            "grid_template_areas": null,
            "object_position": null,
            "object_fit": null,
            "grid_auto_columns": null,
            "margin": null,
            "display": null,
            "left": null
          }
        },
        "16ea510f430e43a28b154f36fcaf36fd": {
          "model_module": "@jupyter-widgets/controls",
          "model_name": "ProgressStyleModel",
          "model_module_version": "1.5.0",
          "state": {
            "_view_name": "StyleView",
            "_model_name": "ProgressStyleModel",
            "description_width": "",
            "_view_module": "@jupyter-widgets/base",
            "_model_module_version": "1.5.0",
            "_view_count": null,
            "_view_module_version": "1.2.0",
            "bar_color": null,
            "_model_module": "@jupyter-widgets/controls"
          }
        },
        "3a5335f5b2844cefb42995d27393baf8": {
          "model_module": "@jupyter-widgets/base",
          "model_name": "LayoutModel",
          "model_module_version": "1.2.0",
          "state": {
            "_view_name": "LayoutView",
            "grid_template_rows": null,
            "right": null,
            "justify_content": null,
            "_view_module": "@jupyter-widgets/base",
            "overflow": null,
            "_model_module_version": "1.2.0",
            "_view_count": null,
            "flex_flow": null,
            "width": null,
            "min_width": null,
            "border": null,
            "align_items": null,
            "bottom": null,
            "_model_module": "@jupyter-widgets/base",
            "top": null,
            "grid_column": null,
            "overflow_y": null,
            "overflow_x": null,
            "grid_auto_flow": null,
            "grid_area": null,
            "grid_template_columns": null,
            "flex": null,
            "_model_name": "LayoutModel",
            "justify_items": null,
            "grid_row": null,
            "max_height": null,
            "align_content": null,
            "visibility": null,
            "align_self": null,
            "height": null,
            "min_height": null,
            "padding": null,
            "grid_auto_rows": null,
            "grid_gap": null,
            "max_width": null,
            "order": null,
            "_view_module_version": "1.2.0",
            "grid_template_areas": null,
            "object_position": null,
            "object_fit": null,
            "grid_auto_columns": null,
            "margin": null,
            "display": null,
            "left": null
          }
        },
        "7286520738be4367a3a3ffaafcbb59fb": {
          "model_module": "@jupyter-widgets/controls",
          "model_name": "DescriptionStyleModel",
          "model_module_version": "1.5.0",
          "state": {
            "_view_name": "StyleView",
            "_model_name": "DescriptionStyleModel",
            "description_width": "",
            "_view_module": "@jupyter-widgets/base",
            "_model_module_version": "1.5.0",
            "_view_count": null,
            "_view_module_version": "1.2.0",
            "_model_module": "@jupyter-widgets/controls"
          }
        },
        "d5cc3395845b4f53aba7caa41d1ee9cd": {
          "model_module": "@jupyter-widgets/base",
          "model_name": "LayoutModel",
          "model_module_version": "1.2.0",
          "state": {
            "_view_name": "LayoutView",
            "grid_template_rows": null,
            "right": null,
            "justify_content": null,
            "_view_module": "@jupyter-widgets/base",
            "overflow": null,
            "_model_module_version": "1.2.0",
            "_view_count": null,
            "flex_flow": null,
            "width": null,
            "min_width": null,
            "border": null,
            "align_items": null,
            "bottom": null,
            "_model_module": "@jupyter-widgets/base",
            "top": null,
            "grid_column": null,
            "overflow_y": null,
            "overflow_x": null,
            "grid_auto_flow": null,
            "grid_area": null,
            "grid_template_columns": null,
            "flex": null,
            "_model_name": "LayoutModel",
            "justify_items": null,
            "grid_row": null,
            "max_height": null,
            "align_content": null,
            "visibility": null,
            "align_self": null,
            "height": null,
            "min_height": null,
            "padding": null,
            "grid_auto_rows": null,
            "grid_gap": null,
            "max_width": null,
            "order": null,
            "_view_module_version": "1.2.0",
            "grid_template_areas": null,
            "object_position": null,
            "object_fit": null,
            "grid_auto_columns": null,
            "margin": null,
            "display": null,
            "left": null
          }
        },
        "d24da9fb76584f4a8e4dbadd4acf1e05": {
          "model_module": "@jupyter-widgets/controls",
          "model_name": "HBoxModel",
          "model_module_version": "1.5.0",
          "state": {
            "_view_name": "HBoxView",
            "_dom_classes": [],
            "_model_name": "HBoxModel",
            "_view_module": "@jupyter-widgets/controls",
            "_model_module_version": "1.5.0",
            "_view_count": null,
            "_view_module_version": "1.5.0",
            "box_style": "",
            "layout": "IPY_MODEL_942ae7e9f4214e6aa0b7ee9a56a34fd1",
            "_model_module": "@jupyter-widgets/controls",
            "children": [
              "IPY_MODEL_9eeb1fec49d341089240221d36fea0bc",
              "IPY_MODEL_0340544387d64542806e3b438cd64d97",
              "IPY_MODEL_81e1ed80664040079fe204edd13e3671"
            ]
          }
        },
        "942ae7e9f4214e6aa0b7ee9a56a34fd1": {
          "model_module": "@jupyter-widgets/base",
          "model_name": "LayoutModel",
          "model_module_version": "1.2.0",
          "state": {
            "_view_name": "LayoutView",
            "grid_template_rows": null,
            "right": null,
            "justify_content": null,
            "_view_module": "@jupyter-widgets/base",
            "overflow": null,
            "_model_module_version": "1.2.0",
            "_view_count": null,
            "flex_flow": null,
            "width": null,
            "min_width": null,
            "border": null,
            "align_items": null,
            "bottom": null,
            "_model_module": "@jupyter-widgets/base",
            "top": null,
            "grid_column": null,
            "overflow_y": null,
            "overflow_x": null,
            "grid_auto_flow": null,
            "grid_area": null,
            "grid_template_columns": null,
            "flex": null,
            "_model_name": "LayoutModel",
            "justify_items": null,
            "grid_row": null,
            "max_height": null,
            "align_content": null,
            "visibility": null,
            "align_self": null,
            "height": null,
            "min_height": null,
            "padding": null,
            "grid_auto_rows": null,
            "grid_gap": null,
            "max_width": null,
            "order": null,
            "_view_module_version": "1.2.0",
            "grid_template_areas": null,
            "object_position": null,
            "object_fit": null,
            "grid_auto_columns": null,
            "margin": null,
            "display": null,
            "left": null
          }
        },
        "9eeb1fec49d341089240221d36fea0bc": {
          "model_module": "@jupyter-widgets/controls",
          "model_name": "HTMLModel",
          "model_module_version": "1.5.0",
          "state": {
            "_view_name": "HTMLView",
            "style": "IPY_MODEL_8904389f3dfe41768a80bb6f6f655006",
            "_dom_classes": [],
            "description": "",
            "_model_name": "HTMLModel",
            "placeholder": "​",
            "_view_module": "@jupyter-widgets/controls",
            "_model_module_version": "1.5.0",
            "value": "100%",
            "_view_count": null,
            "_view_module_version": "1.5.0",
            "description_tooltip": null,
            "_model_module": "@jupyter-widgets/controls",
            "layout": "IPY_MODEL_b36169e3b5b84251b4a621157a79b072"
          }
        },
        "0340544387d64542806e3b438cd64d97": {
          "model_module": "@jupyter-widgets/controls",
          "model_name": "FloatProgressModel",
          "model_module_version": "1.5.0",
          "state": {
            "_view_name": "ProgressView",
            "style": "IPY_MODEL_f30fefecad8f40c1812163693b8559eb",
            "_dom_classes": [],
            "description": "",
            "_model_name": "FloatProgressModel",
            "bar_style": "success",
            "max": 46830571,
            "_view_module": "@jupyter-widgets/controls",
            "_model_module_version": "1.5.0",
            "value": 46830571,
            "_view_count": null,
            "_view_module_version": "1.5.0",
            "orientation": "horizontal",
            "min": 0,
            "description_tooltip": null,
            "_model_module": "@jupyter-widgets/controls",
            "layout": "IPY_MODEL_323a8195d89742c3b47679924ac60c5b"
          }
        },
        "81e1ed80664040079fe204edd13e3671": {
          "model_module": "@jupyter-widgets/controls",
          "model_name": "HTMLModel",
          "model_module_version": "1.5.0",
          "state": {
            "_view_name": "HTMLView",
            "style": "IPY_MODEL_d82799c67acd40ee86355a10db4e3621",
            "_dom_classes": [],
            "description": "",
            "_model_name": "HTMLModel",
            "placeholder": "​",
            "_view_module": "@jupyter-widgets/controls",
            "_model_module_version": "1.5.0",
            "value": " 44.7M/44.7M [00:02&lt;00:00, 15.3MB/s]",
            "_view_count": null,
            "_view_module_version": "1.5.0",
            "description_tooltip": null,
            "_model_module": "@jupyter-widgets/controls",
            "layout": "IPY_MODEL_9f6efe08957b4a8a87c54cdd5025f7da"
          }
        },
        "8904389f3dfe41768a80bb6f6f655006": {
          "model_module": "@jupyter-widgets/controls",
          "model_name": "DescriptionStyleModel",
          "model_module_version": "1.5.0",
          "state": {
            "_view_name": "StyleView",
            "_model_name": "DescriptionStyleModel",
            "description_width": "",
            "_view_module": "@jupyter-widgets/base",
            "_model_module_version": "1.5.0",
            "_view_count": null,
            "_view_module_version": "1.2.0",
            "_model_module": "@jupyter-widgets/controls"
          }
        },
        "b36169e3b5b84251b4a621157a79b072": {
          "model_module": "@jupyter-widgets/base",
          "model_name": "LayoutModel",
          "model_module_version": "1.2.0",
          "state": {
            "_view_name": "LayoutView",
            "grid_template_rows": null,
            "right": null,
            "justify_content": null,
            "_view_module": "@jupyter-widgets/base",
            "overflow": null,
            "_model_module_version": "1.2.0",
            "_view_count": null,
            "flex_flow": null,
            "width": null,
            "min_width": null,
            "border": null,
            "align_items": null,
            "bottom": null,
            "_model_module": "@jupyter-widgets/base",
            "top": null,
            "grid_column": null,
            "overflow_y": null,
            "overflow_x": null,
            "grid_auto_flow": null,
            "grid_area": null,
            "grid_template_columns": null,
            "flex": null,
            "_model_name": "LayoutModel",
            "justify_items": null,
            "grid_row": null,
            "max_height": null,
            "align_content": null,
            "visibility": null,
            "align_self": null,
            "height": null,
            "min_height": null,
            "padding": null,
            "grid_auto_rows": null,
            "grid_gap": null,
            "max_width": null,
            "order": null,
            "_view_module_version": "1.2.0",
            "grid_template_areas": null,
            "object_position": null,
            "object_fit": null,
            "grid_auto_columns": null,
            "margin": null,
            "display": null,
            "left": null
          }
        },
        "f30fefecad8f40c1812163693b8559eb": {
          "model_module": "@jupyter-widgets/controls",
          "model_name": "ProgressStyleModel",
          "model_module_version": "1.5.0",
          "state": {
            "_view_name": "StyleView",
            "_model_name": "ProgressStyleModel",
            "description_width": "",
            "_view_module": "@jupyter-widgets/base",
            "_model_module_version": "1.5.0",
            "_view_count": null,
            "_view_module_version": "1.2.0",
            "bar_color": null,
            "_model_module": "@jupyter-widgets/controls"
          }
        },
        "323a8195d89742c3b47679924ac60c5b": {
          "model_module": "@jupyter-widgets/base",
          "model_name": "LayoutModel",
          "model_module_version": "1.2.0",
          "state": {
            "_view_name": "LayoutView",
            "grid_template_rows": null,
            "right": null,
            "justify_content": null,
            "_view_module": "@jupyter-widgets/base",
            "overflow": null,
            "_model_module_version": "1.2.0",
            "_view_count": null,
            "flex_flow": null,
            "width": null,
            "min_width": null,
            "border": null,
            "align_items": null,
            "bottom": null,
            "_model_module": "@jupyter-widgets/base",
            "top": null,
            "grid_column": null,
            "overflow_y": null,
            "overflow_x": null,
            "grid_auto_flow": null,
            "grid_area": null,
            "grid_template_columns": null,
            "flex": null,
            "_model_name": "LayoutModel",
            "justify_items": null,
            "grid_row": null,
            "max_height": null,
            "align_content": null,
            "visibility": null,
            "align_self": null,
            "height": null,
            "min_height": null,
            "padding": null,
            "grid_auto_rows": null,
            "grid_gap": null,
            "max_width": null,
            "order": null,
            "_view_module_version": "1.2.0",
            "grid_template_areas": null,
            "object_position": null,
            "object_fit": null,
            "grid_auto_columns": null,
            "margin": null,
            "display": null,
            "left": null
          }
        },
        "d82799c67acd40ee86355a10db4e3621": {
          "model_module": "@jupyter-widgets/controls",
          "model_name": "DescriptionStyleModel",
          "model_module_version": "1.5.0",
          "state": {
            "_view_name": "StyleView",
            "_model_name": "DescriptionStyleModel",
            "description_width": "",
            "_view_module": "@jupyter-widgets/base",
            "_model_module_version": "1.5.0",
            "_view_count": null,
            "_view_module_version": "1.2.0",
            "_model_module": "@jupyter-widgets/controls"
          }
        },
        "9f6efe08957b4a8a87c54cdd5025f7da": {
          "model_module": "@jupyter-widgets/base",
          "model_name": "LayoutModel",
          "model_module_version": "1.2.0",
          "state": {
            "_view_name": "LayoutView",
            "grid_template_rows": null,
            "right": null,
            "justify_content": null,
            "_view_module": "@jupyter-widgets/base",
            "overflow": null,
            "_model_module_version": "1.2.0",
            "_view_count": null,
            "flex_flow": null,
            "width": null,
            "min_width": null,
            "border": null,
            "align_items": null,
            "bottom": null,
            "_model_module": "@jupyter-widgets/base",
            "top": null,
            "grid_column": null,
            "overflow_y": null,
            "overflow_x": null,
            "grid_auto_flow": null,
            "grid_area": null,
            "grid_template_columns": null,
            "flex": null,
            "_model_name": "LayoutModel",
            "justify_items": null,
            "grid_row": null,
            "max_height": null,
            "align_content": null,
            "visibility": null,
            "align_self": null,
            "height": null,
            "min_height": null,
            "padding": null,
            "grid_auto_rows": null,
            "grid_gap": null,
            "max_width": null,
            "order": null,
            "_view_module_version": "1.2.0",
            "grid_template_areas": null,
            "object_position": null,
            "object_fit": null,
            "grid_auto_columns": null,
            "margin": null,
            "display": null,
            "left": null
          }
        },
        "ea37b8442d624344bd66416509bf9a02": {
          "model_module": "@jupyter-widgets/controls",
          "model_name": "HBoxModel",
          "model_module_version": "1.5.0",
          "state": {
            "_view_name": "HBoxView",
            "_dom_classes": [],
            "_model_name": "HBoxModel",
            "_view_module": "@jupyter-widgets/controls",
            "_model_module_version": "1.5.0",
            "_view_count": null,
            "_view_module_version": "1.5.0",
            "box_style": "",
            "layout": "IPY_MODEL_5587ab0670084e89bb45feb9279bd49c",
            "_model_module": "@jupyter-widgets/controls",
            "children": [
              "IPY_MODEL_e0ada2a6f0df45259ab1f1971d6b4b3e",
              "IPY_MODEL_5ca7c5002bac4ff59b3c0ca90205a218",
              "IPY_MODEL_7f76fa345b3c4a59ab067f8ab3c7878e"
            ]
          }
        },
        "5587ab0670084e89bb45feb9279bd49c": {
          "model_module": "@jupyter-widgets/base",
          "model_name": "LayoutModel",
          "model_module_version": "1.2.0",
          "state": {
            "_view_name": "LayoutView",
            "grid_template_rows": null,
            "right": null,
            "justify_content": null,
            "_view_module": "@jupyter-widgets/base",
            "overflow": null,
            "_model_module_version": "1.2.0",
            "_view_count": null,
            "flex_flow": null,
            "width": null,
            "min_width": null,
            "border": null,
            "align_items": null,
            "bottom": null,
            "_model_module": "@jupyter-widgets/base",
            "top": null,
            "grid_column": null,
            "overflow_y": null,
            "overflow_x": null,
            "grid_auto_flow": null,
            "grid_area": null,
            "grid_template_columns": null,
            "flex": null,
            "_model_name": "LayoutModel",
            "justify_items": null,
            "grid_row": null,
            "max_height": null,
            "align_content": null,
            "visibility": null,
            "align_self": null,
            "height": null,
            "min_height": null,
            "padding": null,
            "grid_auto_rows": null,
            "grid_gap": null,
            "max_width": null,
            "order": null,
            "_view_module_version": "1.2.0",
            "grid_template_areas": null,
            "object_position": null,
            "object_fit": null,
            "grid_auto_columns": null,
            "margin": null,
            "display": null,
            "left": null
          }
        },
        "e0ada2a6f0df45259ab1f1971d6b4b3e": {
          "model_module": "@jupyter-widgets/controls",
          "model_name": "HTMLModel",
          "model_module_version": "1.5.0",
          "state": {
            "_view_name": "HTMLView",
            "style": "IPY_MODEL_84147b99965945018b8c6608f567e5b5",
            "_dom_classes": [],
            "description": "",
            "_model_name": "HTMLModel",
            "placeholder": "​",
            "_view_module": "@jupyter-widgets/controls",
            "_model_module_version": "1.5.0",
            "value": "100%",
            "_view_count": null,
            "_view_module_version": "1.5.0",
            "description_tooltip": null,
            "_model_module": "@jupyter-widgets/controls",
            "layout": "IPY_MODEL_ed4a33061f154bc8b762009ee8ef06f5"
          }
        },
        "5ca7c5002bac4ff59b3c0ca90205a218": {
          "model_module": "@jupyter-widgets/controls",
          "model_name": "FloatProgressModel",
          "model_module_version": "1.5.0",
          "state": {
            "_view_name": "ProgressView",
            "style": "IPY_MODEL_9023d1834274410097aa9eed7c39858a",
            "_dom_classes": [],
            "description": "",
            "_model_name": "FloatProgressModel",
            "bar_style": "success",
            "max": 87319819,
            "_view_module": "@jupyter-widgets/controls",
            "_model_module_version": "1.5.0",
            "value": 87319819,
            "_view_count": null,
            "_view_module_version": "1.5.0",
            "orientation": "horizontal",
            "min": 0,
            "description_tooltip": null,
            "_model_module": "@jupyter-widgets/controls",
            "layout": "IPY_MODEL_00effd9ae31a4bfcb099f7a8988dc060"
          }
        },
        "7f76fa345b3c4a59ab067f8ab3c7878e": {
          "model_module": "@jupyter-widgets/controls",
          "model_name": "HTMLModel",
          "model_module_version": "1.5.0",
          "state": {
            "_view_name": "HTMLView",
            "style": "IPY_MODEL_96ce6d91b548417fa9a07028762a1c37",
            "_dom_classes": [],
            "description": "",
            "_model_name": "HTMLModel",
            "placeholder": "​",
            "_view_module": "@jupyter-widgets/controls",
            "_model_module_version": "1.5.0",
            "value": " 83.3M/83.3M [00:00&lt;00:00, 97.2MB/s]",
            "_view_count": null,
            "_view_module_version": "1.5.0",
            "description_tooltip": null,
            "_model_module": "@jupyter-widgets/controls",
            "layout": "IPY_MODEL_41e5d2b8b7fe40c6abb2c1ca719a8cd8"
          }
        },
        "84147b99965945018b8c6608f567e5b5": {
          "model_module": "@jupyter-widgets/controls",
          "model_name": "DescriptionStyleModel",
          "model_module_version": "1.5.0",
          "state": {
            "_view_name": "StyleView",
            "_model_name": "DescriptionStyleModel",
            "description_width": "",
            "_view_module": "@jupyter-widgets/base",
            "_model_module_version": "1.5.0",
            "_view_count": null,
            "_view_module_version": "1.2.0",
            "_model_module": "@jupyter-widgets/controls"
          }
        },
        "ed4a33061f154bc8b762009ee8ef06f5": {
          "model_module": "@jupyter-widgets/base",
          "model_name": "LayoutModel",
          "model_module_version": "1.2.0",
          "state": {
            "_view_name": "LayoutView",
            "grid_template_rows": null,
            "right": null,
            "justify_content": null,
            "_view_module": "@jupyter-widgets/base",
            "overflow": null,
            "_model_module_version": "1.2.0",
            "_view_count": null,
            "flex_flow": null,
            "width": null,
            "min_width": null,
            "border": null,
            "align_items": null,
            "bottom": null,
            "_model_module": "@jupyter-widgets/base",
            "top": null,
            "grid_column": null,
            "overflow_y": null,
            "overflow_x": null,
            "grid_auto_flow": null,
            "grid_area": null,
            "grid_template_columns": null,
            "flex": null,
            "_model_name": "LayoutModel",
            "justify_items": null,
            "grid_row": null,
            "max_height": null,
            "align_content": null,
            "visibility": null,
            "align_self": null,
            "height": null,
            "min_height": null,
            "padding": null,
            "grid_auto_rows": null,
            "grid_gap": null,
            "max_width": null,
            "order": null,
            "_view_module_version": "1.2.0",
            "grid_template_areas": null,
            "object_position": null,
            "object_fit": null,
            "grid_auto_columns": null,
            "margin": null,
            "display": null,
            "left": null
          }
        },
        "9023d1834274410097aa9eed7c39858a": {
          "model_module": "@jupyter-widgets/controls",
          "model_name": "ProgressStyleModel",
          "model_module_version": "1.5.0",
          "state": {
            "_view_name": "StyleView",
            "_model_name": "ProgressStyleModel",
            "description_width": "",
            "_view_module": "@jupyter-widgets/base",
            "_model_module_version": "1.5.0",
            "_view_count": null,
            "_view_module_version": "1.2.0",
            "bar_color": null,
            "_model_module": "@jupyter-widgets/controls"
          }
        },
        "00effd9ae31a4bfcb099f7a8988dc060": {
          "model_module": "@jupyter-widgets/base",
          "model_name": "LayoutModel",
          "model_module_version": "1.2.0",
          "state": {
            "_view_name": "LayoutView",
            "grid_template_rows": null,
            "right": null,
            "justify_content": null,
            "_view_module": "@jupyter-widgets/base",
            "overflow": null,
            "_model_module_version": "1.2.0",
            "_view_count": null,
            "flex_flow": null,
            "width": null,
            "min_width": null,
            "border": null,
            "align_items": null,
            "bottom": null,
            "_model_module": "@jupyter-widgets/base",
            "top": null,
            "grid_column": null,
            "overflow_y": null,
            "overflow_x": null,
            "grid_auto_flow": null,
            "grid_area": null,
            "grid_template_columns": null,
            "flex": null,
            "_model_name": "LayoutModel",
            "justify_items": null,
            "grid_row": null,
            "max_height": null,
            "align_content": null,
            "visibility": null,
            "align_self": null,
            "height": null,
            "min_height": null,
            "padding": null,
            "grid_auto_rows": null,
            "grid_gap": null,
            "max_width": null,
            "order": null,
            "_view_module_version": "1.2.0",
            "grid_template_areas": null,
            "object_position": null,
            "object_fit": null,
            "grid_auto_columns": null,
            "margin": null,
            "display": null,
            "left": null
          }
        },
        "96ce6d91b548417fa9a07028762a1c37": {
          "model_module": "@jupyter-widgets/controls",
          "model_name": "DescriptionStyleModel",
          "model_module_version": "1.5.0",
          "state": {
            "_view_name": "StyleView",
            "_model_name": "DescriptionStyleModel",
            "description_width": "",
            "_view_module": "@jupyter-widgets/base",
            "_model_module_version": "1.5.0",
            "_view_count": null,
            "_view_module_version": "1.2.0",
            "_model_module": "@jupyter-widgets/controls"
          }
        },
        "41e5d2b8b7fe40c6abb2c1ca719a8cd8": {
          "model_module": "@jupyter-widgets/base",
          "model_name": "LayoutModel",
          "model_module_version": "1.2.0",
          "state": {
            "_view_name": "LayoutView",
            "grid_template_rows": null,
            "right": null,
            "justify_content": null,
            "_view_module": "@jupyter-widgets/base",
            "overflow": null,
            "_model_module_version": "1.2.0",
            "_view_count": null,
            "flex_flow": null,
            "width": null,
            "min_width": null,
            "border": null,
            "align_items": null,
            "bottom": null,
            "_model_module": "@jupyter-widgets/base",
            "top": null,
            "grid_column": null,
            "overflow_y": null,
            "overflow_x": null,
            "grid_auto_flow": null,
            "grid_area": null,
            "grid_template_columns": null,
            "flex": null,
            "_model_name": "LayoutModel",
            "justify_items": null,
            "grid_row": null,
            "max_height": null,
            "align_content": null,
            "visibility": null,
            "align_self": null,
            "height": null,
            "min_height": null,
            "padding": null,
            "grid_auto_rows": null,
            "grid_gap": null,
            "max_width": null,
            "order": null,
            "_view_module_version": "1.2.0",
            "grid_template_areas": null,
            "object_position": null,
            "object_fit": null,
            "grid_auto_columns": null,
            "margin": null,
            "display": null,
            "left": null
          }
        }
      }
    }
  },
  "cells": [
    {
      "cell_type": "code",
      "metadata": {
        "colab": {
          "base_uri": "https://localhost:8080/"
        },
        "id": "ZEw1NOesH7jD",
        "outputId": "16390306-ff76-4058-e770-505adecfa943"
      },
      "source": [
        "from google.colab import drive\n",
        "drive.mount('/content/drive')"
      ],
      "id": "ZEw1NOesH7jD",
      "execution_count": 1,
      "outputs": [
        {
          "output_type": "stream",
          "name": "stdout",
          "text": [
            "Mounted at /content/drive\n"
          ]
        }
      ]
    },
    {
      "cell_type": "code",
      "metadata": {
        "colab": {
          "base_uri": "https://localhost:8080/"
        },
        "id": "wlQTZHoTJJHw",
        "outputId": "5e403d01-5e7d-4641-ba4a-a8ec383bf159"
      },
      "source": [
        "!pip install patool"
      ],
      "id": "wlQTZHoTJJHw",
      "execution_count": 2,
      "outputs": [
        {
          "output_type": "stream",
          "name": "stdout",
          "text": [
            "Collecting patool\n",
            "  Downloading patool-1.12-py2.py3-none-any.whl (77 kB)\n",
            "\u001b[?25l\r\u001b[K     |████▎                           | 10 kB 24.5 MB/s eta 0:00:01\r\u001b[K     |████████▌                       | 20 kB 21.0 MB/s eta 0:00:01\r\u001b[K     |████████████▊                   | 30 kB 10.6 MB/s eta 0:00:01\r\u001b[K     |█████████████████               | 40 kB 8.6 MB/s eta 0:00:01\r\u001b[K     |█████████████████████▏          | 51 kB 5.3 MB/s eta 0:00:01\r\u001b[K     |█████████████████████████▍      | 61 kB 5.5 MB/s eta 0:00:01\r\u001b[K     |█████████████████████████████▋  | 71 kB 5.8 MB/s eta 0:00:01\r\u001b[K     |████████████████████████████████| 77 kB 3.3 MB/s \n",
            "\u001b[?25hInstalling collected packages: patool\n",
            "Successfully installed patool-1.12\n"
          ]
        }
      ]
    },
    {
      "cell_type": "code",
      "metadata": {
        "colab": {
          "base_uri": "https://localhost:8080/",
          "height": 105
        },
        "id": "GFQoG16yID5Q",
        "outputId": "2a1d4bf8-901d-43ec-9a68-efbf68d63f17"
      },
      "source": [
        "import patoolib\n",
        "patoolib.extract_archive(\"/content/drive/MyDrive/gaze360.rar\", outdir=\"/content\")"
      ],
      "id": "GFQoG16yID5Q",
      "execution_count": 3,
      "outputs": [
        {
          "output_type": "stream",
          "name": "stdout",
          "text": [
            "patool: Extracting /content/drive/MyDrive/gaze360.rar ...\n",
            "patool: running /usr/bin/unrar x -- /content/drive/MyDrive/gaze360.rar\n",
            "patool:     with cwd='/content'\n",
            "patool: ... /content/drive/MyDrive/gaze360.rar extracted to `/content'.\n"
          ]
        },
        {
          "output_type": "execute_result",
          "data": {
            "application/vnd.google.colaboratory.intrinsic+json": {
              "type": "string"
            },
            "text/plain": [
              "'/content'"
            ]
          },
          "metadata": {},
          "execution_count": 3
        }
      ]
    },
    {
      "cell_type": "code",
      "metadata": {
        "id": "ElYGjtHRJDuo"
      },
      "source": [
        "from first_part_functions import Kellnhofer_al_eye, Kellnhofer_al_eyes, bulat_al, head_eye_extractors"
      ],
      "id": "ElYGjtHRJDuo",
      "execution_count": null,
      "outputs": []
    },
    {
      "cell_type": "code",
      "metadata": {
        "colab": {
          "base_uri": "https://localhost:8080/"
        },
        "id": "47784911",
        "outputId": "195edd20-6257-433d-ed82-c08806729fd1"
      },
      "source": [
        "import numpy as np\n",
        "from os.path import dirname, join as pjoin\n",
        "import scipy.io as sio\n",
        "import cv2\n",
        "import os\n",
        "import matplotlib.pyplot as plt\n",
        "from matplotlib.pyplot import figure\n",
        "import matplotlib.patches as patches\n",
        "import math\n",
        "from math import *\n",
        "from torch.utils.data import Dataset\n",
        "import torchvision\n",
        "import torch.optim as optim\n",
        "\n",
        "source_mat = ''\n",
        "#=r\"C:\\Users\\108652706\\Documents\\DOCUMENT_perso\\ISI\\MLA\\trials\\gaze360\"\n",
        "mat_fname = pjoin(source_mat, '/content/gaze360/metadata.mat')\n",
        "mat_contents = sio.loadmat(mat_fname)\n",
        "sorted(mat_contents.keys())\n"
      ],
      "id": "47784911",
      "execution_count": 4,
      "outputs": [
        {
          "output_type": "execute_result",
          "data": {
            "text/plain": [
              "['__globals__',\n",
              " '__header__',\n",
              " '__version__',\n",
              " 'frame',\n",
              " 'gaze_dir',\n",
              " 'person_body_bbox',\n",
              " 'person_cam',\n",
              " 'person_eye_left_bbox',\n",
              " 'person_eye_right_bbox',\n",
              " 'person_eyes2d',\n",
              " 'person_eyes3d',\n",
              " 'person_face_bbox',\n",
              " 'person_head_bbox',\n",
              " 'person_identity',\n",
              " 'recording',\n",
              " 'recordings',\n",
              " 'split',\n",
              " 'splits',\n",
              " 'target_cam',\n",
              " 'target_pos2d',\n",
              " 'target_pos3d',\n",
              " 'ts']"
            ]
          },
          "metadata": {},
          "execution_count": 4
        }
      ]
    },
    {
      "cell_type": "code",
      "metadata": {
        "id": "147d294c"
      },
      "source": [
        "#name= mat_contents['']\n",
        "\n",
        "recordings=mat_contents['recordings']\n",
        "recording = mat_contents['recording']\n",
        "person_identity= mat_contents['person_identity']\n",
        "frame= mat_contents['frame']\n",
        "person_head_bbox = mat_contents['person_head_bbox']\n",
        "person_eye_left_bbox= mat_contents['person_eye_left_bbox']\n",
        "cropType= 'head'\n",
        "person_face_bbox = mat_contents['person_face_bbox']\n",
        "target_pos3d=mat_contents['target_pos3d']\n",
        "person_eye_right_bbox= mat_contents['person_eye_right_bbox']\n",
        "gaze_dir =mat_contents['gaze_dir']"
      ],
      "id": "147d294c",
      "execution_count": null,
      "outputs": []
    },
    {
      "cell_type": "code",
      "metadata": {
        "id": "nBlRNz8gfZ_q",
        "colab": {
          "base_uri": "https://localhost:8080/"
        },
        "outputId": "1c51608a-0f9c-47d3-d322-de6c4d8ff63f"
      },
      "source": [
        "from torchvision import models \n",
        "from torchvision import transforms\n",
        "import torch.nn as nn\n",
        "from PIL import Image\n",
        "from matplotlib import cm\n",
        "import torch\n",
        "from torch.utils.data.sampler import SubsetRandomSampler\n",
        "device = torch.device('cuda' if torch.cuda.is_available() else 'cpu')\n",
        "device"
      ],
      "id": "nBlRNz8gfZ_q",
      "execution_count": null,
      "outputs": [
        {
          "output_type": "execute_result",
          "data": {
            "text/plain": [
              "device(type='cuda')"
            ]
          },
          "metadata": {},
          "execution_count": 9
        }
      ]
    },
    {
      "cell_type": "code",
      "metadata": {
        "id": "GQN8xAH6fDxa",
        "colab": {
          "base_uri": "https://localhost:8080/"
        },
        "outputId": "8451bd74-d860-4b91-f0dd-43004bfd0793"
      },
      "source": [
        "!pip install face_alignment # used as second checker of eye detection in a head image"
      ],
      "id": "GQN8xAH6fDxa",
      "execution_count": null,
      "outputs": [
        {
          "output_type": "stream",
          "name": "stdout",
          "text": [
            "Collecting face_alignment\n",
            "  Downloading face_alignment-1.3.5.tar.gz (27 kB)\n",
            "Requirement already satisfied: torch in /usr/local/lib/python3.7/dist-packages (from face_alignment) (1.10.0+cu111)\n",
            "Requirement already satisfied: numpy in /usr/local/lib/python3.7/dist-packages (from face_alignment) (1.19.5)\n",
            "Requirement already satisfied: scipy>=0.17 in /usr/local/lib/python3.7/dist-packages (from face_alignment) (1.4.1)\n",
            "Requirement already satisfied: scikit-image in /usr/local/lib/python3.7/dist-packages (from face_alignment) (0.18.3)\n",
            "Requirement already satisfied: opencv-python in /usr/local/lib/python3.7/dist-packages (from face_alignment) (4.1.2.30)\n",
            "Requirement already satisfied: tqdm in /usr/local/lib/python3.7/dist-packages (from face_alignment) (4.62.3)\n",
            "Requirement already satisfied: numba in /usr/local/lib/python3.7/dist-packages (from face_alignment) (0.51.2)\n",
            "Requirement already satisfied: setuptools in /usr/local/lib/python3.7/dist-packages (from numba->face_alignment) (57.4.0)\n",
            "Requirement already satisfied: llvmlite<0.35,>=0.34.0.dev0 in /usr/local/lib/python3.7/dist-packages (from numba->face_alignment) (0.34.0)\n",
            "Requirement already satisfied: pillow!=7.1.0,!=7.1.1,>=4.3.0 in /usr/local/lib/python3.7/dist-packages (from scikit-image->face_alignment) (7.1.2)\n",
            "Requirement already satisfied: tifffile>=2019.7.26 in /usr/local/lib/python3.7/dist-packages (from scikit-image->face_alignment) (2021.11.2)\n",
            "Requirement already satisfied: networkx>=2.0 in /usr/local/lib/python3.7/dist-packages (from scikit-image->face_alignment) (2.6.3)\n",
            "Requirement already satisfied: imageio>=2.3.0 in /usr/local/lib/python3.7/dist-packages (from scikit-image->face_alignment) (2.4.1)\n",
            "Requirement already satisfied: matplotlib!=3.0.0,>=2.0.0 in /usr/local/lib/python3.7/dist-packages (from scikit-image->face_alignment) (3.2.2)\n",
            "Requirement already satisfied: PyWavelets>=1.1.1 in /usr/local/lib/python3.7/dist-packages (from scikit-image->face_alignment) (1.2.0)\n",
            "Requirement already satisfied: pyparsing!=2.0.4,!=2.1.2,!=2.1.6,>=2.0.1 in /usr/local/lib/python3.7/dist-packages (from matplotlib!=3.0.0,>=2.0.0->scikit-image->face_alignment) (3.0.6)\n",
            "Requirement already satisfied: cycler>=0.10 in /usr/local/lib/python3.7/dist-packages (from matplotlib!=3.0.0,>=2.0.0->scikit-image->face_alignment) (0.11.0)\n",
            "Requirement already satisfied: python-dateutil>=2.1 in /usr/local/lib/python3.7/dist-packages (from matplotlib!=3.0.0,>=2.0.0->scikit-image->face_alignment) (2.8.2)\n",
            "Requirement already satisfied: kiwisolver>=1.0.1 in /usr/local/lib/python3.7/dist-packages (from matplotlib!=3.0.0,>=2.0.0->scikit-image->face_alignment) (1.3.2)\n",
            "Requirement already satisfied: six>=1.5 in /usr/local/lib/python3.7/dist-packages (from python-dateutil>=2.1->matplotlib!=3.0.0,>=2.0.0->scikit-image->face_alignment) (1.15.0)\n",
            "Requirement already satisfied: typing-extensions in /usr/local/lib/python3.7/dist-packages (from torch->face_alignment) (3.10.0.2)\n",
            "Building wheels for collected packages: face-alignment\n",
            "  Building wheel for face-alignment (setup.py) ... \u001b[?25l\u001b[?25hdone\n",
            "  Created wheel for face-alignment: filename=face_alignment-1.3.5-py2.py3-none-any.whl size=28239 sha256=143e62c7e8a1293ef5b3d8a5391ffe59bfc922ef629d8a96005706c7731072d3\n",
            "  Stored in directory: /root/.cache/pip/wheels/c9/ba/4d/2d368f55e5f929f9472da59e356fbdf1483f885de80a5bc620\n",
            "Successfully built face-alignment\n",
            "Installing collected packages: face-alignment\n",
            "Successfully installed face-alignment-1.3.5\n"
          ]
        }
      ]
    },
    {
      "cell_type": "code",
      "metadata": {
        "id": "H54FANIMfBaY",
        "colab": {
          "base_uri": "https://localhost:8080/",
          "height": 185,
          "referenced_widgets": [
            "40dffc6891d54efc82470f0e1e6ef488",
            "3c071e0179304c1384dccd0fe1c43539",
            "6c2a8fcdd48d435db68380156d43819c",
            "9e62f988971c47f5b3f232459c5e9866",
            "7c6f60289e2b491bbfd4dc63633832ae",
            "8c7e674a75b441ea842d7220c19eb4b5",
            "4d66fd5d098f4feb951d3dcb3c54e23a",
            "5635136ccbd04d6b8117c0f102401e2f",
            "eceba56db0b04b73acc8ee16892f0881",
            "6784db299f8e4018b179152f486112fa",
            "6a0324b719764c41b0f4bebccd4b8b2a",
            "25eb01b95015412eb90d31ec7955370b",
            "79a8cc3d5e2f4ccebed2d4d5aa1b0de0",
            "01261527a4e64d3192c33687ffd9f432",
            "b1eb2d391da44cb8a4a175e9aa8cf7b5",
            "16b17a42923748d0abba4f6bf28d0198",
            "542a87110c38457e8b71e8ed0017d5ac",
            "821b3bb2fdcb406f8560d9539ec0f645",
            "d126814e66bb49438e1c3dc0af2be295",
            "38bc544e14e545e59614c3bc100a7f64",
            "0286f354dfdb4aa5a3ed84294079dd7e",
            "02a1668efaf9453b8d0862269bf190d7",
            "fb032b3868dd4f2bad9f0b3feaee7d33",
            "1547a85e3ff64946bca882576a310b7b",
            "f900b0a2b1764546863446aab89ba00a",
            "e65dcef692194a5a8759320236a73dbe",
            "d7875177ef024829b51195b9b4fa9d8d",
            "8328977f6108484da8590f9a34e45d81",
            "f8cf2be0a8d549aaaaf1930a5a97dab2",
            "16ea510f430e43a28b154f36fcaf36fd",
            "3a5335f5b2844cefb42995d27393baf8",
            "7286520738be4367a3a3ffaafcbb59fb",
            "d5cc3395845b4f53aba7caa41d1ee9cd"
          ]
        },
        "outputId": "5fda8315-b7e6-4156-d403-d8527dfc0019"
      },
      "source": [
        "import face_alignment\n",
        "from skimage import io\n",
        "from mpl_toolkits.mplot3d import Axes3D\n",
        "import collections\n",
        "# Optionally set detector and some additional detector parameters\n",
        "face_detector = 'sfd'\n",
        "face_detector_kwargs = {\n",
        "    \"filter_threshold\" : 0.8\n",
        "}\n",
        "\n",
        "fa = face_alignment.FaceAlignment(face_alignment.LandmarksType._3D, device='cuda', flip_input=True,\n",
        "                                  face_detector=face_detector, face_detector_kwargs=face_detector_kwargs)"
      ],
      "id": "H54FANIMfBaY",
      "execution_count": null,
      "outputs": [
        {
          "output_type": "stream",
          "name": "stderr",
          "text": [
            "Downloading: \"https://www.adrianbulat.com/downloads/python-fan/s3fd-619a316812.pth\" to /root/.cache/torch/hub/checkpoints/s3fd-619a316812.pth\n"
          ]
        },
        {
          "output_type": "display_data",
          "data": {
            "application/vnd.jupyter.widget-view+json": {
              "model_id": "40dffc6891d54efc82470f0e1e6ef488",
              "version_minor": 0,
              "version_major": 2
            },
            "text/plain": [
              "  0%|          | 0.00/85.7M [00:00<?, ?B/s]"
            ]
          },
          "metadata": {}
        },
        {
          "output_type": "stream",
          "name": "stderr",
          "text": [
            "Downloading: \"https://www.adrianbulat.com/downloads/python-fan/3DFAN4-4a694010b9.zip\" to /root/.cache/torch/hub/checkpoints/3DFAN4-4a694010b9.zip\n"
          ]
        },
        {
          "output_type": "display_data",
          "data": {
            "application/vnd.jupyter.widget-view+json": {
              "model_id": "25eb01b95015412eb90d31ec7955370b",
              "version_minor": 0,
              "version_major": 2
            },
            "text/plain": [
              "  0%|          | 0.00/91.9M [00:00<?, ?B/s]"
            ]
          },
          "metadata": {}
        },
        {
          "output_type": "stream",
          "name": "stderr",
          "text": [
            "Downloading: \"https://www.adrianbulat.com/downloads/python-fan/depth-6c4283c0e0.zip\" to /root/.cache/torch/hub/checkpoints/depth-6c4283c0e0.zip\n"
          ]
        },
        {
          "output_type": "display_data",
          "data": {
            "application/vnd.jupyter.widget-view+json": {
              "model_id": "fb032b3868dd4f2bad9f0b3feaee7d33",
              "version_minor": 0,
              "version_major": 2
            },
            "text/plain": [
              "  0%|          | 0.00/224M [00:00<?, ?B/s]"
            ]
          },
          "metadata": {}
        }
      ]
    },
    {
      "cell_type": "code",
      "metadata": {
        "colab": {
          "base_uri": "https://localhost:8080/",
          "height": 1000,
          "referenced_widgets": [
            "d24da9fb76584f4a8e4dbadd4acf1e05",
            "942ae7e9f4214e6aa0b7ee9a56a34fd1",
            "9eeb1fec49d341089240221d36fea0bc",
            "0340544387d64542806e3b438cd64d97",
            "81e1ed80664040079fe204edd13e3671",
            "8904389f3dfe41768a80bb6f6f655006",
            "b36169e3b5b84251b4a621157a79b072",
            "f30fefecad8f40c1812163693b8559eb",
            "323a8195d89742c3b47679924ac60c5b",
            "d82799c67acd40ee86355a10db4e3621",
            "9f6efe08957b4a8a87c54cdd5025f7da"
          ]
        },
        "id": "NU2JpqB5fiH1",
        "outputId": "ffa1c92c-4f9e-45be-fff3-a26bcd81654a"
      },
      "source": [
        "resnet = models.resnet18(pretrained=True)\n",
        "resnet18 = nn.Sequential(*(list(resnet.children())[:-1])) #take 8 layers \n",
        "#resnet18.cpu()\n",
        "resnet18.to(device)"
      ],
      "id": "NU2JpqB5fiH1",
      "execution_count": null,
      "outputs": [
        {
          "output_type": "stream",
          "name": "stderr",
          "text": [
            "Downloading: \"https://download.pytorch.org/models/resnet18-f37072fd.pth\" to /root/.cache/torch/hub/checkpoints/resnet18-f37072fd.pth\n"
          ]
        },
        {
          "output_type": "display_data",
          "data": {
            "application/vnd.jupyter.widget-view+json": {
              "model_id": "d24da9fb76584f4a8e4dbadd4acf1e05",
              "version_minor": 0,
              "version_major": 2
            },
            "text/plain": [
              "  0%|          | 0.00/44.7M [00:00<?, ?B/s]"
            ]
          },
          "metadata": {}
        },
        {
          "output_type": "execute_result",
          "data": {
            "text/plain": [
              "Sequential(\n",
              "  (0): Conv2d(3, 64, kernel_size=(7, 7), stride=(2, 2), padding=(3, 3), bias=False)\n",
              "  (1): BatchNorm2d(64, eps=1e-05, momentum=0.1, affine=True, track_running_stats=True)\n",
              "  (2): ReLU(inplace=True)\n",
              "  (3): MaxPool2d(kernel_size=3, stride=2, padding=1, dilation=1, ceil_mode=False)\n",
              "  (4): Sequential(\n",
              "    (0): BasicBlock(\n",
              "      (conv1): Conv2d(64, 64, kernel_size=(3, 3), stride=(1, 1), padding=(1, 1), bias=False)\n",
              "      (bn1): BatchNorm2d(64, eps=1e-05, momentum=0.1, affine=True, track_running_stats=True)\n",
              "      (relu): ReLU(inplace=True)\n",
              "      (conv2): Conv2d(64, 64, kernel_size=(3, 3), stride=(1, 1), padding=(1, 1), bias=False)\n",
              "      (bn2): BatchNorm2d(64, eps=1e-05, momentum=0.1, affine=True, track_running_stats=True)\n",
              "    )\n",
              "    (1): BasicBlock(\n",
              "      (conv1): Conv2d(64, 64, kernel_size=(3, 3), stride=(1, 1), padding=(1, 1), bias=False)\n",
              "      (bn1): BatchNorm2d(64, eps=1e-05, momentum=0.1, affine=True, track_running_stats=True)\n",
              "      (relu): ReLU(inplace=True)\n",
              "      (conv2): Conv2d(64, 64, kernel_size=(3, 3), stride=(1, 1), padding=(1, 1), bias=False)\n",
              "      (bn2): BatchNorm2d(64, eps=1e-05, momentum=0.1, affine=True, track_running_stats=True)\n",
              "    )\n",
              "  )\n",
              "  (5): Sequential(\n",
              "    (0): BasicBlock(\n",
              "      (conv1): Conv2d(64, 128, kernel_size=(3, 3), stride=(2, 2), padding=(1, 1), bias=False)\n",
              "      (bn1): BatchNorm2d(128, eps=1e-05, momentum=0.1, affine=True, track_running_stats=True)\n",
              "      (relu): ReLU(inplace=True)\n",
              "      (conv2): Conv2d(128, 128, kernel_size=(3, 3), stride=(1, 1), padding=(1, 1), bias=False)\n",
              "      (bn2): BatchNorm2d(128, eps=1e-05, momentum=0.1, affine=True, track_running_stats=True)\n",
              "      (downsample): Sequential(\n",
              "        (0): Conv2d(64, 128, kernel_size=(1, 1), stride=(2, 2), bias=False)\n",
              "        (1): BatchNorm2d(128, eps=1e-05, momentum=0.1, affine=True, track_running_stats=True)\n",
              "      )\n",
              "    )\n",
              "    (1): BasicBlock(\n",
              "      (conv1): Conv2d(128, 128, kernel_size=(3, 3), stride=(1, 1), padding=(1, 1), bias=False)\n",
              "      (bn1): BatchNorm2d(128, eps=1e-05, momentum=0.1, affine=True, track_running_stats=True)\n",
              "      (relu): ReLU(inplace=True)\n",
              "      (conv2): Conv2d(128, 128, kernel_size=(3, 3), stride=(1, 1), padding=(1, 1), bias=False)\n",
              "      (bn2): BatchNorm2d(128, eps=1e-05, momentum=0.1, affine=True, track_running_stats=True)\n",
              "    )\n",
              "  )\n",
              "  (6): Sequential(\n",
              "    (0): BasicBlock(\n",
              "      (conv1): Conv2d(128, 256, kernel_size=(3, 3), stride=(2, 2), padding=(1, 1), bias=False)\n",
              "      (bn1): BatchNorm2d(256, eps=1e-05, momentum=0.1, affine=True, track_running_stats=True)\n",
              "      (relu): ReLU(inplace=True)\n",
              "      (conv2): Conv2d(256, 256, kernel_size=(3, 3), stride=(1, 1), padding=(1, 1), bias=False)\n",
              "      (bn2): BatchNorm2d(256, eps=1e-05, momentum=0.1, affine=True, track_running_stats=True)\n",
              "      (downsample): Sequential(\n",
              "        (0): Conv2d(128, 256, kernel_size=(1, 1), stride=(2, 2), bias=False)\n",
              "        (1): BatchNorm2d(256, eps=1e-05, momentum=0.1, affine=True, track_running_stats=True)\n",
              "      )\n",
              "    )\n",
              "    (1): BasicBlock(\n",
              "      (conv1): Conv2d(256, 256, kernel_size=(3, 3), stride=(1, 1), padding=(1, 1), bias=False)\n",
              "      (bn1): BatchNorm2d(256, eps=1e-05, momentum=0.1, affine=True, track_running_stats=True)\n",
              "      (relu): ReLU(inplace=True)\n",
              "      (conv2): Conv2d(256, 256, kernel_size=(3, 3), stride=(1, 1), padding=(1, 1), bias=False)\n",
              "      (bn2): BatchNorm2d(256, eps=1e-05, momentum=0.1, affine=True, track_running_stats=True)\n",
              "    )\n",
              "  )\n",
              "  (7): Sequential(\n",
              "    (0): BasicBlock(\n",
              "      (conv1): Conv2d(256, 512, kernel_size=(3, 3), stride=(2, 2), padding=(1, 1), bias=False)\n",
              "      (bn1): BatchNorm2d(512, eps=1e-05, momentum=0.1, affine=True, track_running_stats=True)\n",
              "      (relu): ReLU(inplace=True)\n",
              "      (conv2): Conv2d(512, 512, kernel_size=(3, 3), stride=(1, 1), padding=(1, 1), bias=False)\n",
              "      (bn2): BatchNorm2d(512, eps=1e-05, momentum=0.1, affine=True, track_running_stats=True)\n",
              "      (downsample): Sequential(\n",
              "        (0): Conv2d(256, 512, kernel_size=(1, 1), stride=(2, 2), bias=False)\n",
              "        (1): BatchNorm2d(512, eps=1e-05, momentum=0.1, affine=True, track_running_stats=True)\n",
              "      )\n",
              "    )\n",
              "    (1): BasicBlock(\n",
              "      (conv1): Conv2d(512, 512, kernel_size=(3, 3), stride=(1, 1), padding=(1, 1), bias=False)\n",
              "      (bn1): BatchNorm2d(512, eps=1e-05, momentum=0.1, affine=True, track_running_stats=True)\n",
              "      (relu): ReLU(inplace=True)\n",
              "      (conv2): Conv2d(512, 512, kernel_size=(3, 3), stride=(1, 1), padding=(1, 1), bias=False)\n",
              "      (bn2): BatchNorm2d(512, eps=1e-05, momentum=0.1, affine=True, track_running_stats=True)\n",
              "    )\n",
              "  )\n",
              "  (8): AdaptiveAvgPool2d(output_size=(1, 1))\n",
              ")"
            ]
          },
          "metadata": {},
          "execution_count": 8
        }
      ]
    },
    {
      "cell_type": "markdown",
      "metadata": {
        "id": "2Nn-Z6DXnfDo"
      },
      "source": [
        "#create functions"
      ],
      "id": "2Nn-Z6DXnfDo"
    },
    {
      "cell_type": "code",
      "metadata": {
        "id": "EFptR_exvSuT"
      },
      "source": [
        "# extract eyes from head image function\n",
        "def head_eye_extractors(imHead,fa,head_box,target,eye_left_box,eye_right_box):\n",
        "      if np.all(eye_left_box==np.array([-1,-1,-1,-1])) and np.all(eye_right_box==np.array([-1,-1,-1,-1])):\n",
        "          #print(\"eye_not_detected with Kellnhofer_al \")\n",
        "          imEye_l,imEye_r= bulat_al(imHead,fa)\n",
        "      else: \n",
        "          imEye_l,imEye_r= Kellnhofer_al_eyes(imHead,head_box,eye_left_box,eye_right_box)\n",
        "      x,y,z=target\n",
        "      yaw = atan(np.divide(z,x))\n",
        "      pitch=atan(np.divide(x,y))\n",
        "      h=[float(yaw),float(pitch)]\n",
        "      return h, imEye_l,imEye_r"
      ],
      "id": "EFptR_exvSuT",
      "execution_count": null,
      "outputs": []
    },
    {
      "cell_type": "code",
      "metadata": {
        "id": "YSx9kxK8G3WG"
      },
      "source": [
        "from torchvision import models \n",
        "from torchvision import transforms\n",
        "import torch.nn as nn\n",
        "from PIL import Image\n",
        "from matplotlib import cm\n",
        "import torch\n",
        "from torch.utils.data import Dataset, DataLoader\n",
        "from torchvision import transforms, utils\n",
        "from torchvision import datasets\n",
        "import math\n",
        "#device = torch.device(\"cpu\")"
      ],
      "id": "YSx9kxK8G3WG",
      "execution_count": null,
      "outputs": []
    },
    {
      "cell_type": "code",
      "source": [
        "from torchvision import models\n",
        "from torchsummary import summary\n",
        "summary(resnet18,(3,36,60))"
      ],
      "metadata": {
        "colab": {
          "base_uri": "https://localhost:8080/"
        },
        "id": "1GyA9NuNBYsp",
        "outputId": "dc172c19-e03f-44ea-e834-e455489f58e7"
      },
      "id": "1GyA9NuNBYsp",
      "execution_count": null,
      "outputs": [
        {
          "output_type": "stream",
          "name": "stdout",
          "text": [
            "----------------------------------------------------------------\n",
            "        Layer (type)               Output Shape         Param #\n",
            "================================================================\n",
            "            Conv2d-1           [-1, 64, 18, 30]           9,408\n",
            "       BatchNorm2d-2           [-1, 64, 18, 30]             128\n",
            "              ReLU-3           [-1, 64, 18, 30]               0\n",
            "         MaxPool2d-4            [-1, 64, 9, 15]               0\n",
            "            Conv2d-5            [-1, 64, 9, 15]          36,864\n",
            "       BatchNorm2d-6            [-1, 64, 9, 15]             128\n",
            "              ReLU-7            [-1, 64, 9, 15]               0\n",
            "            Conv2d-8            [-1, 64, 9, 15]          36,864\n",
            "       BatchNorm2d-9            [-1, 64, 9, 15]             128\n",
            "             ReLU-10            [-1, 64, 9, 15]               0\n",
            "       BasicBlock-11            [-1, 64, 9, 15]               0\n",
            "           Conv2d-12            [-1, 64, 9, 15]          36,864\n",
            "      BatchNorm2d-13            [-1, 64, 9, 15]             128\n",
            "             ReLU-14            [-1, 64, 9, 15]               0\n",
            "           Conv2d-15            [-1, 64, 9, 15]          36,864\n",
            "      BatchNorm2d-16            [-1, 64, 9, 15]             128\n",
            "             ReLU-17            [-1, 64, 9, 15]               0\n",
            "       BasicBlock-18            [-1, 64, 9, 15]               0\n",
            "           Conv2d-19            [-1, 128, 5, 8]          73,728\n",
            "      BatchNorm2d-20            [-1, 128, 5, 8]             256\n",
            "             ReLU-21            [-1, 128, 5, 8]               0\n",
            "           Conv2d-22            [-1, 128, 5, 8]         147,456\n",
            "      BatchNorm2d-23            [-1, 128, 5, 8]             256\n",
            "           Conv2d-24            [-1, 128, 5, 8]           8,192\n",
            "      BatchNorm2d-25            [-1, 128, 5, 8]             256\n",
            "             ReLU-26            [-1, 128, 5, 8]               0\n",
            "       BasicBlock-27            [-1, 128, 5, 8]               0\n",
            "           Conv2d-28            [-1, 128, 5, 8]         147,456\n",
            "      BatchNorm2d-29            [-1, 128, 5, 8]             256\n",
            "             ReLU-30            [-1, 128, 5, 8]               0\n",
            "           Conv2d-31            [-1, 128, 5, 8]         147,456\n",
            "      BatchNorm2d-32            [-1, 128, 5, 8]             256\n",
            "             ReLU-33            [-1, 128, 5, 8]               0\n",
            "       BasicBlock-34            [-1, 128, 5, 8]               0\n",
            "           Conv2d-35            [-1, 256, 3, 4]         294,912\n",
            "      BatchNorm2d-36            [-1, 256, 3, 4]             512\n",
            "             ReLU-37            [-1, 256, 3, 4]               0\n",
            "           Conv2d-38            [-1, 256, 3, 4]         589,824\n",
            "      BatchNorm2d-39            [-1, 256, 3, 4]             512\n",
            "           Conv2d-40            [-1, 256, 3, 4]          32,768\n",
            "      BatchNorm2d-41            [-1, 256, 3, 4]             512\n",
            "             ReLU-42            [-1, 256, 3, 4]               0\n",
            "       BasicBlock-43            [-1, 256, 3, 4]               0\n",
            "           Conv2d-44            [-1, 256, 3, 4]         589,824\n",
            "      BatchNorm2d-45            [-1, 256, 3, 4]             512\n",
            "             ReLU-46            [-1, 256, 3, 4]               0\n",
            "           Conv2d-47            [-1, 256, 3, 4]         589,824\n",
            "      BatchNorm2d-48            [-1, 256, 3, 4]             512\n",
            "             ReLU-49            [-1, 256, 3, 4]               0\n",
            "       BasicBlock-50            [-1, 256, 3, 4]               0\n",
            "           Conv2d-51            [-1, 512, 2, 2]       1,179,648\n",
            "      BatchNorm2d-52            [-1, 512, 2, 2]           1,024\n",
            "             ReLU-53            [-1, 512, 2, 2]               0\n",
            "           Conv2d-54            [-1, 512, 2, 2]       2,359,296\n",
            "      BatchNorm2d-55            [-1, 512, 2, 2]           1,024\n",
            "           Conv2d-56            [-1, 512, 2, 2]         131,072\n",
            "      BatchNorm2d-57            [-1, 512, 2, 2]           1,024\n",
            "             ReLU-58            [-1, 512, 2, 2]               0\n",
            "       BasicBlock-59            [-1, 512, 2, 2]               0\n",
            "           Conv2d-60            [-1, 512, 2, 2]       2,359,296\n",
            "      BatchNorm2d-61            [-1, 512, 2, 2]           1,024\n",
            "             ReLU-62            [-1, 512, 2, 2]               0\n",
            "           Conv2d-63            [-1, 512, 2, 2]       2,359,296\n",
            "      BatchNorm2d-64            [-1, 512, 2, 2]           1,024\n",
            "             ReLU-65            [-1, 512, 2, 2]               0\n",
            "       BasicBlock-66            [-1, 512, 2, 2]               0\n",
            "AdaptiveAvgPool2d-67            [-1, 512, 1, 1]               0\n",
            "================================================================\n",
            "Total params: 11,176,512\n",
            "Trainable params: 11,176,512\n",
            "Non-trainable params: 0\n",
            "----------------------------------------------------------------\n",
            "Input size (MB): 0.02\n",
            "Forward/backward pass size (MB): 3.03\n",
            "Params size (MB): 42.64\n",
            "Estimated Total Size (MB): 45.69\n",
            "----------------------------------------------------------------\n"
          ]
        }
      ]
    },
    {
      "cell_type": "markdown",
      "metadata": {
        "id": "W65usKpHbOYu"
      },
      "source": [
        "#form datasets"
      ],
      "id": "W65usKpHbOYu"
    },
    {
      "cell_type": "code",
      "metadata": {
        "id": "JoCZyi5Ib-u1"
      },
      "source": [
        "def dataset ( source_p,nb_image):\n",
        "    head_imgs=[]\n",
        "    l_imgs=[]\n",
        "    r_imgs=[]\n",
        "    heads=[]\n",
        "    h_list=[]\n",
        "    gaze=[]\n",
        "    for i in range(nb_image): \n",
        "          imHead = cv2.imread(os.path.join(\n",
        "            source_p,\n",
        "            recordings[0,recording[0,i]][0],\n",
        "            cropType,\n",
        "            '%06d' % person_identity[0,i],\n",
        "            '%06d.jpg' % frame[0,i]\n",
        "            ))\n",
        "          heads.append(cv2.resize(imHead,(224,224)))\n",
        "          h,imEye_l,imEye_r= head_eye_extractors(imHead,fa,person_head_bbox[i,:],target_pos3d[i],person_eye_left_bbox[i,:],person_eye_right_bbox[i,:])\n",
        "          l_imgs.append(imEye_l)\n",
        "          r_imgs.append(imEye_r)\n",
        "          h_list.append(h)\n",
        "          gaze.append(gaze_dir[i])\n",
        "    return l_imgs,r_imgs,h_list,heads,gaze\n",
        "\n"
      ],
      "id": "JoCZyi5Ib-u1",
      "execution_count": null,
      "outputs": []
    },
    {
      "cell_type": "code",
      "metadata": {
        "id": "NlhKjcFD8CJb",
        "colab": {
          "base_uri": "https://localhost:8080/"
        },
        "outputId": "96087df6-43cf-4497-e3e8-147a8bd19dee"
      },
      "source": [
        "source_p=('/content/gaze360/imgs') #path to dataset\n",
        "nb_image= len(frame[0])# number of images\n",
        "nb_image = 10000 #trial with 20 images only\n",
        "l_imgs,r_imgs,h,heads,gazes=dataset ( source_p,nb_image)"
      ],
      "id": "NlhKjcFD8CJb",
      "execution_count": null,
      "outputs": [
        {
          "output_type": "stream",
          "name": "stderr",
          "text": [
            "/usr/local/lib/python3.7/dist-packages/face_alignment/api.py:144: UserWarning: No faces were detected.\n",
            "  warnings.warn(\"No faces were detected.\")\n"
          ]
        }
      ]
    },
    {
      "cell_type": "code",
      "metadata": {
        "colab": {
          "base_uri": "https://localhost:8080/",
          "height": 105
        },
        "id": "8-0v7HT3Rh1Z",
        "outputId": "1114963c-25c4-4555-f886-ecf91d7cde7b"
      },
      "source": [
        "import pickle\n",
        "# Save \n",
        "\"\"\"\n",
        "with open(\"/content/drive/My Drive/l_imgs.txt\", \"wb\") as fp:   #Pickling\n",
        "    pickle.dump(l_imgs, fp)\n",
        "\n",
        "with open(\"/content/drive/My Drive/r_imgs.txt\", \"wb\") as fp:   #Pickling\n",
        "    pickle.dump(r_imgs, fp)\n",
        "\n",
        "with open(\"/content/drive/My Drive/heads.txt\", \"wb\") as fp:   #Pickling\n",
        "    pickle.dump(heads, fp)\n",
        "\n",
        "with open(\"/content/drive/My Drive/gaze.txt\", \"wb\") as fp:   #Pickling\n",
        "    pickle.dump(gazes, fp)\n",
        "\n",
        "with open(\"/content/drive/My Drive/h_list.txt\", \"wb\") as fp:   #Pickling\n",
        "    pickle.dump(h, fp)\n",
        "\"\"\""
      ],
      "id": "8-0v7HT3Rh1Z",
      "execution_count": null,
      "outputs": [
        {
          "output_type": "execute_result",
          "data": {
            "application/vnd.google.colaboratory.intrinsic+json": {
              "type": "string"
            },
            "text/plain": [
              "'\\nwith open(\"/content/drive/My Drive/l_imgs.txt\", \"wb\") as fp:   #Pickling\\n    pickle.dump(l_imgs, fp)\\n\\nwith open(\"/content/drive/My Drive/r_imgs.txt\", \"wb\") as fp:   #Pickling\\n    pickle.dump(r_imgs, fp)\\n\\nwith open(\"/content/drive/My Drive/heads.txt\", \"wb\") as fp:   #Pickling\\n    pickle.dump(heads, fp)\\n\\nwith open(\"/content/drive/My Drive/gaze.txt\", \"wb\") as fp:   #Pickling\\n    pickle.dump(gazes, fp)\\n\\nwith open(\"/content/drive/My Drive/h_list.txt\", \"wb\") as fp:   #Pickling\\n    pickle.dump(h, fp)\\n'"
            ]
          },
          "metadata": {},
          "execution_count": 8
        }
      ]
    },
    {
      "cell_type": "code",
      "metadata": {
        "id": "gM0qZdMvSajZ"
      },
      "source": [
        "import pickle\n",
        "# Import \n",
        "with open(\"/content/drive/My Drive/l_imgs.txt\", \"rb\") as fp:   # Unpickling\n",
        "    l_imgs = pickle.load(fp)\n",
        "\n",
        "with open(\"/content/drive/My Drive/r_imgs.txt\", \"rb\") as fp:   # Unpickling\n",
        "    r_imgs = pickle.load(fp)\n",
        "\n",
        "\n",
        "with open(\"/content/drive/My Drive/gaze.txt\", \"rb\") as fp:   # Unpickling\n",
        "    gazes = pickle.load(fp)\n",
        "\n"
      ],
      "id": "gM0qZdMvSajZ",
      "execution_count": null,
      "outputs": []
    },
    {
      "cell_type": "code",
      "metadata": {
        "id": "qjWR6tFdNzH9"
      },
      "source": [
        "'''\n",
        "l_imgs is fl \n",
        "r_imgs is fr \n",
        "h is (yaw,pich) list \n",
        "heads is heads dataset\n",
        "gazes is (gx,gy,gz) a.k.a target \n",
        "'''"
      ],
      "id": "qjWR6tFdNzH9",
      "execution_count": null,
      "outputs": []
    },
    {
      "cell_type": "markdown",
      "metadata": {
        "id": "m9hiKiKjJ3jt"
      },
      "source": [
        "## Eye prediction"
      ],
      "id": "m9hiKiKjJ3jt"
    },
    {
      "cell_type": "code",
      "source": [
        ""
      ],
      "metadata": {
        "id": "e6YK9zZ8_2WH"
      },
      "id": "e6YK9zZ8_2WH",
      "execution_count": null,
      "outputs": []
    },
    {
      "cell_type": "code",
      "metadata": {
        "id": "Z7qcFtNU0BTk"
      },
      "source": [
        "class eyeDataset(Dataset):\n",
        "    \"\"\"eye landmark dataset.\"\"\"\n",
        "\n",
        "    def __init__(self, imgs, transform=None):\n",
        "       \n",
        "        self.imgs = imgs\n",
        "        self.transform = transform\n",
        "\n",
        "    def __len__(self):\n",
        "        return len(self.imgs)\n",
        "\n",
        "    def __getitem__(self, idx):\n",
        "        if torch.is_tensor(idx):\n",
        "            idx = idx.tolist()\n",
        "\n",
        "        #img_name = os.path.join(self.root_dir,self.landmarks_frame.iloc[idx, 0])\n",
        "        image = self.imgs[idx] #io.imread(img_name)\n",
        "        image = Image.fromarray(image)\n",
        "        sample = {'image': image}\n",
        "\n",
        "        if self.transform:\n",
        "            sample['image'] = self.transform(sample['image'])\n",
        "\n",
        "        return sample"
      ],
      "id": "Z7qcFtNU0BTk",
      "execution_count": null,
      "outputs": []
    },
    {
      "cell_type": "code",
      "metadata": {
        "id": "kGkxVIzcOkbo"
      },
      "source": [
        "preprocess = transforms.Compose([\n",
        "        transforms.ToTensor(),\n",
        "        transforms.Normalize(\n",
        "        mean=[0.485, 0.456, 0.406],\n",
        "        std=[0.229, 0.224, 0.225]\n",
        "    )])"
      ],
      "id": "kGkxVIzcOkbo",
      "execution_count": null,
      "outputs": []
    },
    {
      "cell_type": "code",
      "source": [
        "(l_imgs[0].shape)"
      ],
      "metadata": {
        "colab": {
          "base_uri": "https://localhost:8080/"
        },
        "id": "h9KxOLYeDEry",
        "outputId": "3e4d2ee9-53d5-4bc8-a0b2-cd2d70b0051a"
      },
      "id": "h9KxOLYeDEry",
      "execution_count": null,
      "outputs": [
        {
          "output_type": "execute_result",
          "data": {
            "text/plain": [
              "(36, 60, 3)"
            ]
          },
          "metadata": {},
          "execution_count": 16
        }
      ]
    },
    {
      "cell_type": "code",
      "metadata": {
        "id": "32DgbHP00hJn",
        "colab": {
          "base_uri": "https://localhost:8080/"
        },
        "outputId": "3a7b2aa3-b11d-40fe-ff67-86cfabdecebe"
      },
      "source": [
        "l_eye_set=eyeDataset(imgs=l_imgs,transform=preprocess)\n",
        "l_eye_loader = DataLoader(l_eye_set, batch_size=200,\n",
        "                        shuffle=False, num_workers=10)\n",
        "tensor_size = 512 #2048\n",
        "features_left =torch.zeros((1,tensor_size), dtype=torch.int32, device = 'cuda')\n",
        "\n",
        "for i in range(len(l_eye_loader)):\n",
        "    l=next(iter(l_eye_loader))\n",
        "    outputs_l=l['image'].to(device)\n",
        "    left=resnet18(outputs_l).flatten(start_dim=1)\n",
        "    features_left = torch.cat((features_left,left), 0)\n",
        "\n",
        "features_left=features_left[1:,:]\n"
      ],
      "id": "32DgbHP00hJn",
      "execution_count": null,
      "outputs": [
        {
          "output_type": "stream",
          "name": "stderr",
          "text": [
            "/usr/local/lib/python3.7/dist-packages/torch/utils/data/dataloader.py:481: UserWarning: This DataLoader will create 10 worker processes in total. Our suggested max number of worker in current system is 2, which is smaller than what this DataLoader is going to create. Please be aware that excessive worker creation might get DataLoader running slow or even freeze, lower the worker number to avoid potential slowness/freeze if necessary.\n",
            "  cpuset_checked))\n"
          ]
        }
      ]
    },
    {
      "cell_type": "code",
      "source": [
        "features_left.shape"
      ],
      "metadata": {
        "colab": {
          "base_uri": "https://localhost:8080/"
        },
        "id": "4RcWCXBWDx8F",
        "outputId": "ba42a64d-e891-4c85-910e-ef6dc7578296"
      },
      "id": "4RcWCXBWDx8F",
      "execution_count": null,
      "outputs": [
        {
          "output_type": "execute_result",
          "data": {
            "text/plain": [
              "torch.Size([10000, 512])"
            ]
          },
          "metadata": {},
          "execution_count": 40
        }
      ]
    },
    {
      "cell_type": "code",
      "metadata": {
        "id": "Vr42yaG5j_yf"
      },
      "source": [
        "# Save \n",
        "with open(\"/content/drive/My Drive/features_left512.txt\", \"wb\") as fp:   #Pickling\n",
        "    pickle.dump(features_left, fp)"
      ],
      "id": "Vr42yaG5j_yf",
      "execution_count": null,
      "outputs": []
    },
    {
      "cell_type": "code",
      "metadata": {
        "id": "lz3az7W0kDte"
      },
      "source": [
        "# Import \n",
        "with open(\"/content/drive/My Drive/features_left512.txt\", \"rb\") as fp:   # Unpickling\n",
        "    features_left = pickle.load(fp)\n"
      ],
      "id": "lz3az7W0kDte",
      "execution_count": null,
      "outputs": []
    },
    {
      "cell_type": "code",
      "metadata": {
        "id": "qTBOQAEx9n_9",
        "colab": {
          "base_uri": "https://localhost:8080/"
        },
        "outputId": "06f6ec58-c617-4aad-e9ea-fde74350bb3a"
      },
      "source": [
        "r_eye_set=eyeDataset(imgs=r_imgs,transform=preprocess)\n",
        "r_eye_loader = DataLoader(r_eye_set, batch_size=200,\n",
        "                        shuffle=False, num_workers=10)\n",
        "resnet18.eval()\n",
        "tensor_size = 512 #2048\n",
        "features_right =torch.zeros((1,tensor_size), dtype=torch.int32, device = 'cuda')\n",
        "for i in range(len(r_eye_loader)):\n",
        "    r=next(iter(r_eye_loader))\n",
        "    outputs_r=r['image'].to(device)\n",
        "    right=resnet18(outputs_r).flatten(start_dim=1)# yields a tensor of size([batch_size, 2048])\n",
        "    features_right = torch.cat((features_right,right), 0)\n",
        "\n",
        "features_right=features_right[1:,:]"
      ],
      "id": "qTBOQAEx9n_9",
      "execution_count": null,
      "outputs": [
        {
          "output_type": "stream",
          "name": "stderr",
          "text": [
            "/usr/local/lib/python3.7/dist-packages/torch/utils/data/dataloader.py:481: UserWarning: This DataLoader will create 10 worker processes in total. Our suggested max number of worker in current system is 2, which is smaller than what this DataLoader is going to create. Please be aware that excessive worker creation might get DataLoader running slow or even freeze, lower the worker number to avoid potential slowness/freeze if necessary.\n",
            "  cpuset_checked))\n"
          ]
        }
      ]
    },
    {
      "cell_type": "code",
      "metadata": {
        "id": "koRmeRbheN8x"
      },
      "source": [
        "# save\n",
        "with open(\"/content/drive/My Drive/features_right512.txt\", \"wb\") as fp:   #Pickling\n",
        "    pickle.dump(features_right, fp)"
      ],
      "id": "koRmeRbheN8x",
      "execution_count": null,
      "outputs": []
    },
    {
      "cell_type": "code",
      "metadata": {
        "id": "cTv0zqsphWPf"
      },
      "source": [
        "# load\n",
        "with open(\"/content/drive/My Drive/features_right512.txt\", \"rb\") as fp:   # Unpickling\n",
        "    features_right = pickle.load(fp)"
      ],
      "id": "cTv0zqsphWPf",
      "execution_count": null,
      "outputs": []
    },
    {
      "cell_type": "code",
      "metadata": {
        "id": "vwp_Pw8zjpF7"
      },
      "source": [
        "torch.cuda.empty_cache()"
      ],
      "id": "vwp_Pw8zjpF7",
      "execution_count": null,
      "outputs": []
    },
    {
      "cell_type": "code",
      "metadata": {
        "id": "aiXZ3OsSO94U",
        "colab": {
          "base_uri": "https://localhost:8080/"
        },
        "outputId": "fbb53626-68ba-47af-d1b2-c1a0f17c5090"
      },
      "source": [
        "features_right.shape"
      ],
      "id": "aiXZ3OsSO94U",
      "execution_count": null,
      "outputs": [
        {
          "output_type": "execute_result",
          "data": {
            "text/plain": [
              "torch.Size([10000, 512])"
            ]
          },
          "metadata": {},
          "execution_count": 13
        }
      ]
    },
    {
      "cell_type": "code",
      "metadata": {
        "id": "JDkjZSJE6o5v",
        "colab": {
          "base_uri": "https://localhost:8080/"
        },
        "outputId": "c6817ab8-b85e-44cc-a99e-b3575182fd84"
      },
      "source": [
        "from torchsummary import summary\n",
        "device = torch.device('cuda' if torch.cuda.is_available() else 'cpu')\n",
        "summary(resnet18.to(device),input_size=(3, 36, 60))# summary works only with gpu,so we change model to gpu then take it back to cpu\n"
      ],
      "id": "JDkjZSJE6o5v",
      "execution_count": null,
      "outputs": [
        {
          "output_type": "stream",
          "name": "stdout",
          "text": [
            "----------------------------------------------------------------\n",
            "        Layer (type)               Output Shape         Param #\n",
            "================================================================\n",
            "            Conv2d-1           [-1, 64, 18, 30]           9,408\n",
            "       BatchNorm2d-2           [-1, 64, 18, 30]             128\n",
            "              ReLU-3           [-1, 64, 18, 30]               0\n",
            "         MaxPool2d-4            [-1, 64, 9, 15]               0\n",
            "            Conv2d-5            [-1, 64, 9, 15]          36,864\n",
            "       BatchNorm2d-6            [-1, 64, 9, 15]             128\n",
            "              ReLU-7            [-1, 64, 9, 15]               0\n",
            "            Conv2d-8            [-1, 64, 9, 15]          36,864\n",
            "       BatchNorm2d-9            [-1, 64, 9, 15]             128\n",
            "             ReLU-10            [-1, 64, 9, 15]               0\n",
            "       BasicBlock-11            [-1, 64, 9, 15]               0\n",
            "           Conv2d-12            [-1, 64, 9, 15]          36,864\n",
            "      BatchNorm2d-13            [-1, 64, 9, 15]             128\n",
            "             ReLU-14            [-1, 64, 9, 15]               0\n",
            "           Conv2d-15            [-1, 64, 9, 15]          36,864\n",
            "      BatchNorm2d-16            [-1, 64, 9, 15]             128\n",
            "             ReLU-17            [-1, 64, 9, 15]               0\n",
            "       BasicBlock-18            [-1, 64, 9, 15]               0\n",
            "           Conv2d-19            [-1, 128, 5, 8]          73,728\n",
            "      BatchNorm2d-20            [-1, 128, 5, 8]             256\n",
            "             ReLU-21            [-1, 128, 5, 8]               0\n",
            "           Conv2d-22            [-1, 128, 5, 8]         147,456\n",
            "      BatchNorm2d-23            [-1, 128, 5, 8]             256\n",
            "           Conv2d-24            [-1, 128, 5, 8]           8,192\n",
            "      BatchNorm2d-25            [-1, 128, 5, 8]             256\n",
            "             ReLU-26            [-1, 128, 5, 8]               0\n",
            "       BasicBlock-27            [-1, 128, 5, 8]               0\n",
            "           Conv2d-28            [-1, 128, 5, 8]         147,456\n",
            "      BatchNorm2d-29            [-1, 128, 5, 8]             256\n",
            "             ReLU-30            [-1, 128, 5, 8]               0\n",
            "           Conv2d-31            [-1, 128, 5, 8]         147,456\n",
            "      BatchNorm2d-32            [-1, 128, 5, 8]             256\n",
            "             ReLU-33            [-1, 128, 5, 8]               0\n",
            "       BasicBlock-34            [-1, 128, 5, 8]               0\n",
            "           Conv2d-35            [-1, 256, 3, 4]         294,912\n",
            "      BatchNorm2d-36            [-1, 256, 3, 4]             512\n",
            "             ReLU-37            [-1, 256, 3, 4]               0\n",
            "           Conv2d-38            [-1, 256, 3, 4]         589,824\n",
            "      BatchNorm2d-39            [-1, 256, 3, 4]             512\n",
            "           Conv2d-40            [-1, 256, 3, 4]          32,768\n",
            "      BatchNorm2d-41            [-1, 256, 3, 4]             512\n",
            "             ReLU-42            [-1, 256, 3, 4]               0\n",
            "       BasicBlock-43            [-1, 256, 3, 4]               0\n",
            "           Conv2d-44            [-1, 256, 3, 4]         589,824\n",
            "      BatchNorm2d-45            [-1, 256, 3, 4]             512\n",
            "             ReLU-46            [-1, 256, 3, 4]               0\n",
            "           Conv2d-47            [-1, 256, 3, 4]         589,824\n",
            "      BatchNorm2d-48            [-1, 256, 3, 4]             512\n",
            "             ReLU-49            [-1, 256, 3, 4]               0\n",
            "       BasicBlock-50            [-1, 256, 3, 4]               0\n",
            "           Conv2d-51            [-1, 512, 2, 2]       1,179,648\n",
            "      BatchNorm2d-52            [-1, 512, 2, 2]           1,024\n",
            "             ReLU-53            [-1, 512, 2, 2]               0\n",
            "           Conv2d-54            [-1, 512, 2, 2]       2,359,296\n",
            "      BatchNorm2d-55            [-1, 512, 2, 2]           1,024\n",
            "           Conv2d-56            [-1, 512, 2, 2]         131,072\n",
            "      BatchNorm2d-57            [-1, 512, 2, 2]           1,024\n",
            "             ReLU-58            [-1, 512, 2, 2]               0\n",
            "       BasicBlock-59            [-1, 512, 2, 2]               0\n",
            "           Conv2d-60            [-1, 512, 2, 2]       2,359,296\n",
            "      BatchNorm2d-61            [-1, 512, 2, 2]           1,024\n",
            "             ReLU-62            [-1, 512, 2, 2]               0\n",
            "           Conv2d-63            [-1, 512, 2, 2]       2,359,296\n",
            "      BatchNorm2d-64            [-1, 512, 2, 2]           1,024\n",
            "             ReLU-65            [-1, 512, 2, 2]               0\n",
            "       BasicBlock-66            [-1, 512, 2, 2]               0\n",
            "AdaptiveAvgPool2d-67            [-1, 512, 1, 1]               0\n",
            "================================================================\n",
            "Total params: 11,176,512\n",
            "Trainable params: 11,176,512\n",
            "Non-trainable params: 0\n",
            "----------------------------------------------------------------\n",
            "Input size (MB): 0.02\n",
            "Forward/backward pass size (MB): 3.03\n",
            "Params size (MB): 42.64\n",
            "Estimated Total Size (MB): 45.69\n",
            "----------------------------------------------------------------\n"
          ]
        }
      ]
    },
    {
      "cell_type": "markdown",
      "metadata": {
        "id": "G2SOUwp_MC53"
      },
      "source": [
        "##Head pose"
      ],
      "id": "G2SOUwp_MC53"
    },
    {
      "cell_type": "code",
      "source": [
        "import pickle\n",
        "\n",
        "with open(\"/content/drive/My Drive/h_list.txt\", \"rb\") as fp:   # Unpickling\n",
        "    h = pickle.load(fp)\n",
        "\n",
        "import pickle\n",
        "with open(\"/content/drive/My Drive/heads.txt\", \"rb\") as fp:   # Unpickling\n",
        "    heads = pickle.load(fp)"
      ],
      "metadata": {
        "id": "sVnMIbu2G0pz"
      },
      "id": "sVnMIbu2G0pz",
      "execution_count": null,
      "outputs": []
    },
    {
      "cell_type": "code",
      "metadata": {
        "id": "AM2Ahecpzden"
      },
      "source": [
        "\n",
        "class headposeDataset(Dataset):\n",
        "    \"\"\"Face Landmarks dataset.\"\"\"\n",
        "\n",
        "    def __init__(self, imgs, h, transform=None):\n",
        "        self.h = h\n",
        "        self.imgs = imgs\n",
        "        self.transform = transform\n",
        "\n",
        "    def __len__(self):\n",
        "        return len(self.imgs)\n",
        "\n",
        "    def __getitem__(self, idx):\n",
        "        if torch.is_tensor(idx):\n",
        "            idx = idx.tolist()\n",
        "\n",
        "        image = self.imgs[idx] \n",
        "        image = Image.fromarray(image)\n",
        "        ex = self.h[idx]\n",
        "        '''\n",
        "        landmarks = np.zeros(2)\n",
        "        landmarks=np.zeros(2)\n",
        "        landmarks[0]= ex[0]\n",
        "        landmarks[1]= ex[1]\n",
        "        '''\n",
        "        landmarks = np.array(ex)\n",
        "        if self.transform:\n",
        "            image = self.transform(image)\n",
        "        #sample = {'image': image, 'landmarks': landmarks}\n",
        "        sample = {'image': image, 'landmarks': landmarks}\n",
        "\n",
        "        return sample"
      ],
      "id": "AM2Ahecpzden",
      "execution_count": null,
      "outputs": []
    },
    {
      "cell_type": "code",
      "source": [
        "#select number of elements for training\n",
        "h = h[:5000]\n",
        "heads = heads [:5000]"
      ],
      "metadata": {
        "id": "A6pWFID_oOn6"
      },
      "id": "A6pWFID_oOn6",
      "execution_count": null,
      "outputs": []
    },
    {
      "cell_type": "code",
      "source": [
        "len(heads)"
      ],
      "metadata": {
        "colab": {
          "base_uri": "https://localhost:8080/"
        },
        "id": "atihJe2UoU3h",
        "outputId": "fc6392d5-f04d-4a3b-a252-dd6cb0feefb7"
      },
      "id": "atihJe2UoU3h",
      "execution_count": null,
      "outputs": [
        {
          "output_type": "execute_result",
          "data": {
            "text/plain": [
              "5000"
            ]
          },
          "metadata": {},
          "execution_count": 17
        }
      ]
    },
    {
      "cell_type": "code",
      "metadata": {
        "id": "1Td_uM91TUFZ"
      },
      "source": [
        "preprocess = transforms.Compose([\n",
        "        transforms.ToTensor(),\n",
        "        transforms.Lambda(lambda x: x.double()),\n",
        "        transforms.Normalize(\n",
        "        mean=[0.485, 0.456, 0.406],\n",
        "        std=[0.229, 0.224, 0.225]\n",
        "    )])\n",
        "face_pose_dataset = headposeDataset(imgs=heads,h=h,transform=preprocess)\n",
        "#dataloader = DataLoader(face_pose_dataset, batch_size=32,shuffle=True, num_workers=0)\n"
      ],
      "id": "1Td_uM91TUFZ",
      "execution_count": null,
      "outputs": []
    },
    {
      "cell_type": "code",
      "metadata": {
        "id": "aOH0ar_j_Iz6"
      },
      "source": [
        "validation_split = .2\n",
        "shuffle_dataset = True\n",
        "random_seed= 42\n",
        "batch_size= 128 #32\n",
        "\n",
        "# Creating data indices for training and validation splits:\n",
        "dataset_size = len(face_pose_dataset)\n",
        "indices = list(range(dataset_size))\n",
        "split = int(np.floor(validation_split * dataset_size))\n",
        "if shuffle_dataset :\n",
        "    np.random.seed(random_seed)\n",
        "    np.random.shuffle(indices)\n",
        "train_indices, val_indices = indices[split:], indices[:split]\n",
        "\n",
        "# Creating PT data samplers and loaders:\n",
        "train_sampler = SubsetRandomSampler(train_indices)\n",
        "valid_sampler = SubsetRandomSampler(val_indices)\n",
        "\n",
        "train_loader = torch.utils.data.DataLoader(face_pose_dataset, batch_size=batch_size, \n",
        "                                           sampler=train_sampler)\n",
        "validation_loader = torch.utils.data.DataLoader(face_pose_dataset, batch_size=batch_size,\n",
        "                                                sampler=valid_sampler)"
      ],
      "id": "aOH0ar_j_Iz6",
      "execution_count": null,
      "outputs": []
    },
    {
      "cell_type": "markdown",
      "metadata": {
        "id": "EZT7JvGhIv4_"
      },
      "source": [
        ""
      ],
      "id": "EZT7JvGhIv4_"
    },
    {
      "cell_type": "code",
      "metadata": {
        "id": "rm1WqwHufTrj"
      },
      "source": [
        "#Function to create a Pretrained Resnet Model with a Fully Connected Layer\n",
        "# (out_1: ouput of 1st layer), (out_2: ouput of 2nd layer)\n",
        "def createModel_resnet34(out_1, out_2):\n",
        "    model = torchvision.models.resnet34(pretrained = True)\n",
        "    num_ftrs = model.fc.in_features\n",
        "\n",
        "    for param in model.parameters():\n",
        "        param.requires_grad = False\n",
        "    \n",
        "    #Creating 3 Linear connected layers which can be trained\n",
        "    fc1 = nn.Linear(num_ftrs, out_1)\n",
        "    fc2 = nn.Linear(out_1, out_2)\n",
        "    fc3 = nn.Linear(out_2, 2)\n",
        "\n",
        "    layers = [fc1, fc2, fc3]\n",
        "    for linearLayer in layers:\n",
        "        #Applying He initialization to all layers\n",
        "        nn.init.kaiming_uniform_(linearLayer.weight, nonlinearity='leaky_relu')\n",
        "  \n",
        "\n",
        "\n",
        "    #Setting Resnet's fully connected layer to our collection of three Linear layers with nn.Sequential\n",
        "    model.fc = nn.Sequential(fc1, nn.LeakyReLU(),fc2, nn.LeakyReLU(),fc3)\n",
        "    model.double() #double to set variables to double\n",
        "    #Sending the device to the GPU if avaliable\n",
        "    model.to(device)\n",
        "\n",
        "    return model"
      ],
      "id": "rm1WqwHufTrj",
      "execution_count": null,
      "outputs": []
    },
    {
      "cell_type": "code",
      "metadata": {
        "colab": {
          "base_uri": "https://localhost:8080/"
        },
        "id": "maNWaV-7SXya",
        "outputId": "74f93497-3c17-407e-c120-093a6915c093"
      },
      "source": [
        "#check types : make sure both types are the same\n",
        "print(next(iter(train_loader))['image'].type())\n",
        "print(next(iter(train_loader))['landmarks'].type())\n"
      ],
      "id": "maNWaV-7SXya",
      "execution_count": null,
      "outputs": [
        {
          "output_type": "stream",
          "name": "stdout",
          "text": [
            "torch.DoubleTensor\n",
            "torch.DoubleTensor\n"
          ]
        }
      ]
    },
    {
      "cell_type": "code",
      "metadata": {
        "colab": {
          "base_uri": "https://localhost:8080/",
          "height": 1000,
          "referenced_widgets": [
            "ea37b8442d624344bd66416509bf9a02",
            "5587ab0670084e89bb45feb9279bd49c",
            "e0ada2a6f0df45259ab1f1971d6b4b3e",
            "5ca7c5002bac4ff59b3c0ca90205a218",
            "7f76fa345b3c4a59ab067f8ab3c7878e",
            "84147b99965945018b8c6608f567e5b5",
            "ed4a33061f154bc8b762009ee8ef06f5",
            "9023d1834274410097aa9eed7c39858a",
            "00effd9ae31a4bfcb099f7a8988dc060",
            "96ce6d91b548417fa9a07028762a1c37",
            "41e5d2b8b7fe40c6abb2c1ca719a8cd8"
          ]
        },
        "id": "BIiEKZs2RWr_",
        "outputId": "eb4f9ef7-2990-4ef3-f42a-cb338c52267e"
      },
      "source": [
        "#Function to handle training\n",
        "#(model: model to train), (criterion: loss function for the model), (optimizer, what optimizer to use)\n",
        "def train(model, criterion, optimizer, file, epochs=20, trainLoss=[], validationLoss=[]):\n",
        "    #device = torch.device(\"cpu\")\n",
        "    print(\"Starting training\")\n",
        "    for epoch in range(epochs):\n",
        "        print(f\"Epoch Number: {epoch}\")\n",
        "\n",
        "        testAccuracy = 0\n",
        "        totalLoss = 0\n",
        "\n",
        "        #for i,data in range(len(train_loader)):\n",
        "        for i,batch in enumerate(train_loader):\n",
        "            #Put model into training mode\n",
        "            model.train()\n",
        "            #batch= next(iter(train_loader))\n",
        "            x=batch['image'].to(device)\n",
        "            y=batch['landmarks'].to(device)\n",
        "            #Zero out gradients\n",
        "            optimizer.zero_grad()\n",
        "            #Make a prediction\n",
        "            y_hat = model(x)\n",
        "            \n",
        "            #Calculate the loss\n",
        "            loss = criterion(y_hat, y)\n",
        "            #l = torch.sqrt(loss)\n",
        "            #Update the total loss\n",
        "            totalLoss += loss\n",
        "            #Initiate backpropagation\n",
        "            loss.backward()\n",
        "            \n",
        "            #Update parameters\n",
        "            optimizer.step()\n",
        "\n",
        "            #testAccuracy += (y_hat == y).sum().item()\n",
        "        trainLoss.append(totalLoss)\n",
        "        print(f\"loss: {totalLoss}\")\n",
        "        \n",
        "        valAccuracy = 0\n",
        "        totalLoss = 0\n",
        "        \n",
        "        for j,banch in enumerate(validation_loader):\n",
        "        #for j in range(len(validation_loader)):\n",
        "            # Put the model into evaluation mode\n",
        "            #banch= next(iter(validation_loader))\n",
        "            x=banch['image'].to(device)\n",
        "            y=banch['landmarks'].to(device)\n",
        "            model.eval()\n",
        "            y_pred= model(x)\n",
        "            #print(y_pred)\n",
        "            loss = criterion(y_pred, y)\n",
        "            #l = torch.sqrt(loss)\n",
        "            totalLoss += loss\n",
        "        print(f\"val loss: {totalLoss}\")\n",
        "        validationLoss.append(totalLoss)\n",
        "        #Save our model for each epoch\n",
        "    fig = plt.figure(figsize=(20,10))\n",
        "    plt.title(\"Train-Validation rmse\")\n",
        "    plt.plot(trainLoss, label='train')\n",
        "    plt.plot(validationLoss, label='validation')\n",
        "    plt.xlabel('num_epochs', fontsize=12)\n",
        "    plt.ylabel('MSE', fontsize=12)\n",
        "    plt.legend(loc='best')\n",
        "    plt.savefig('head_pose_extractor_RMSE.png')\n",
        "    plt.savefig( \"/content/drive/MyDrive/\"+'head_pose_extractor_MSE.png')\n",
        "\n",
        "    torch.save(model.state_dict(), file)\n",
        "    torch.save(model.state_dict(), \"/content/drive/MyDrive/\"+file)\n",
        "    return trainLoss, validationLoss, model\n",
        "\n",
        "#Create a model using our function\n",
        "model = createModel_resnet34(512, 128)\n",
        "#Define our loss and optimizers\n",
        "criterion = nn.MSELoss()\n",
        "#optimizer = optim.SGD(model.parameters(),lr=0.001)\n",
        "#optimizer = optim.SGD(model.parameters(), lr=0.0001, momentum=0.9)\n",
        "optimizer = optim.Adam(model.parameters(), lr = 0.001)\n",
        "#Specify output file name\n",
        "file = \"head_pose_extractor.pth\" #save model\n",
        "\n",
        "#Try to use Colab's GPU here, otherwise it will take a long time to train.\n",
        "output = train(model, criterion, optimizer, file)"
      ],
      "id": "BIiEKZs2RWr_",
      "execution_count": null,
      "outputs": [
        {
          "metadata": {
            "tags": null
          },
          "name": "stderr",
          "output_type": "stream",
          "text": [
            "Downloading: \"https://download.pytorch.org/models/resnet34-b627a593.pth\" to /root/.cache/torch/hub/checkpoints/resnet34-b627a593.pth\n"
          ]
        },
        {
          "data": {
            "application/vnd.jupyter.widget-view+json": {
              "model_id": "ea37b8442d624344bd66416509bf9a02",
              "version_major": 2,
              "version_minor": 0
            },
            "text/plain": [
              "  0%|          | 0.00/83.3M [00:00<?, ?B/s]"
            ]
          },
          "metadata": {},
          "output_type": "display_data"
        },
        {
          "output_type": "stream",
          "name": "stdout",
          "text": [
            "Starting training\n",
            "Epoch Number: 0\n",
            "loss: 39.124194716293246\n",
            "val loss: 0.3790560671055705\n",
            "Epoch Number: 1\n",
            "loss: 1.1366954985012385\n",
            "val loss: 0.21022752110276346\n",
            "Epoch Number: 2\n",
            "loss: 0.6803108199023014\n",
            "val loss: 0.1551432535655774\n",
            "Epoch Number: 3\n",
            "loss: 0.5280079733886046\n",
            "val loss: 0.12293617984425104\n",
            "Epoch Number: 4\n",
            "loss: 0.42880822821164893\n",
            "val loss: 0.10548899839910379\n",
            "Epoch Number: 5\n",
            "loss: 0.35170648266660204\n",
            "val loss: 0.08852488983904284\n",
            "Epoch Number: 6\n",
            "loss: 0.2959119817659949\n",
            "val loss: 0.07648585276597716\n",
            "Epoch Number: 7\n",
            "loss: 0.25492010206246096\n",
            "val loss: 0.06629176323817079\n",
            "Epoch Number: 8\n",
            "loss: 0.22220617983534005\n",
            "val loss: 0.058138166136445436\n",
            "Epoch Number: 9\n",
            "loss: 0.19092529317693546\n",
            "val loss: 0.05318133111350291\n",
            "Epoch Number: 10\n",
            "loss: 0.16916631210111902\n",
            "val loss: 0.046932979585186975\n",
            "Epoch Number: 11\n",
            "loss: 0.154416587016557\n",
            "val loss: 0.042947003858372454\n",
            "Epoch Number: 12\n",
            "loss: 0.13742679066209607\n",
            "val loss: 0.03931561309981034\n",
            "Epoch Number: 13\n",
            "loss: 0.12381318591629895\n",
            "val loss: 0.03663657310092718\n",
            "Epoch Number: 14\n",
            "loss: 0.11807948346531945\n",
            "val loss: 0.034573142841880566\n",
            "Epoch Number: 15\n",
            "loss: 0.10477101733009044\n",
            "val loss: 0.030701714351772554\n",
            "Epoch Number: 16\n",
            "loss: 0.10083112213525362\n",
            "val loss: 0.030193022724414913\n",
            "Epoch Number: 17\n",
            "loss: 0.09025254247362746\n",
            "val loss: 0.02899735702334459\n",
            "Epoch Number: 18\n",
            "loss: 0.08179582943283387\n",
            "val loss: 0.026484695968090315\n",
            "Epoch Number: 19\n",
            "loss: 0.08024498463980613\n",
            "val loss: 0.02534794562103957\n"
          ]
        },
        {
          "output_type": "display_data",
          "data": {
            "image/png": "[encoded data removed]",
            "text/plain": [
              "<Figure size 1440x720 with 1 Axes>"
            ]
          },
          "metadata": {
            "needs_background": "light"
          }
        }
      ]
    },
    {
      "cell_type": "code",
      "source": [
        ""
      ],
      "metadata": {
        "id": "Szs8i7KalyRI"
      },
      "id": "Szs8i7KalyRI",
      "execution_count": null,
      "outputs": []
    },
    {
      "cell_type": "code",
      "metadata": {
        "id": "u54m2qfei_gY"
      },
      "source": [
        "with open('/content/gdrive/My Drive/heads.txt', 'w') as f:\n",
        "  heads.write('content')"
      ],
      "id": "u54m2qfei_gY",
      "execution_count": null,
      "outputs": []
    },
    {
      "cell_type": "code",
      "metadata": {
        "id": "hjQjzjBhBHOa",
        "colab": {
          "base_uri": "https://localhost:8080/"
        },
        "outputId": "9b88b8f4-1819-4226-889a-2a7eb2efc444"
      },
      "source": [
        "%reset # to reset all variables"
      ],
      "id": "hjQjzjBhBHOa",
      "execution_count": null,
      "outputs": [
        {
          "output_type": "stream",
          "name": "stdout",
          "text": [
            "Once deleted, variables cannot be recovered. Proceed (y/[n])? y\n",
            "Don't know how to reset  #, please run `%reset?` for details\n",
            "Don't know how to reset  to, please run `%reset?` for details\n",
            "Don't know how to reset  reset, please run `%reset?` for details\n",
            "Don't know how to reset  all, please run `%reset?` for details\n",
            "Don't know how to reset  variables, please run `%reset?` for details\n"
          ]
        }
      ]
    }
  ]
}
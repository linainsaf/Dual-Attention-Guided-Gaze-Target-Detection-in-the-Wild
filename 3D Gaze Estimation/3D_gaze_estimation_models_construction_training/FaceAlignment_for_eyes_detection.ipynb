{
 "cells": [
  {
   "cell_type": "code",
   "execution_count": null,
   "id": "3c316c0a",
   "metadata": {},
   "outputs": [],
   "source": [
    "!pip install face_alignment # used as second checker of eye detection in a head image"
   ]
  },
  {
   "cell_type": "code",
   "execution_count": null,
   "id": "8d2d9afa",
   "metadata": {},
   "outputs": [],
   "source": [
    "import face_alignment\n",
    "from skimage import io\n",
    "from mpl_toolkits.mplot3d import Axes3D\n",
    "import collections\n",
    "# Optionally set detector and some additional detector parameters\n",
    "face_detector = 'sfd'\n",
    "face_detector_kwargs = {\n",
    "    \"filter_threshold\" : 0.8\n",
    "}\n",
    "#you can change device to 'gpu'\n",
    "\n",
    "fa = face_alignment.FaceAlignment(face_alignment.LandmarksType._3D, device='cpu', flip_input=True,\n",
    "                                  face_detector=face_detector, face_detector_kwargs=face_detector_kwargs)"
   ]
  },
  {
   "cell_type": "code",
   "execution_count": null,
   "id": "cfe8ea64",
   "metadata": {},
   "outputs": [],
   "source": [
    "#second check : using the 3D technique of bulat et al article, detect eyes, else return zeros\n",
    "def bulat_al(imHead,fa):#second check\n",
    "    try : \n",
    "            preds = fa.get_landmarks(imHead)[-1]#predict\n",
    "          # 2D-Plot\n",
    "            pred_type = collections.namedtuple('prediction_type', ['slice', 'color'])\n",
    "            pred_types = {\n",
    "                    'eye1': pred_type(slice(36, 42), (0.596, 0.875, 0.541, 0.3)),\n",
    "                    'eye2': pred_type(slice(42, 48), (0.596, 0.875, 0.541, 0.3)),\n",
    "                    }\n",
    "            centers=[]\n",
    "            Avr_eye=24 #24 represents average eye length for adults, we use this to set the scale\n",
    "\n",
    "            for pred_type in pred_types.values():\n",
    "                x=preds[pred_type.slice, 0]\n",
    "                y=preds[pred_type.slice, 1]\n",
    "                centroid = (sum(x) / len(x), sum(y) / len(y)) #get centroid\n",
    "                centers.append(centroid) #append\n",
    "            dist = math.hypot(centers[0][0]-centers[1][0],centers[0][1]-centers[1][1]) #distance on image\n",
    "            dist_reel= np.divide(dist*24,x.max()-x.min() )#real distance\n",
    "            if (77 >dist_reel>51):  #normal distance between pupils is between 51 and 77\n",
    "                centers = [(int(element[0]), int(element[1])) for element in centers]\n",
    "                imEye_r=imHead[centers[0][0]-7:centers[0][0]+7,centers[0][1]-7:centers[0][1]+7,:]\n",
    "                imEye_l=imHead[centers[1][0]-7:centers[1][0]+7,centers[1][1]-7:centers[1][1]+7,:]\n",
    "                fl= imEye_l.flatten()\n",
    "                fr= imEye_r.flatten()\n",
    "                imEye_r = cv2.resize(imEye_r,(60,36)) \n",
    "                imEye_l = cv2.resize(imEye_l,(60,36)) \n",
    "            else :\n",
    "                blank_image = np.zeros((36,60,3), np.uint8)\n",
    "                imEye_l = blank_image\n",
    "                imEye_r = blank_image\n",
    "    except : \n",
    "            blank_image = np.zeros((36,60,3), np.uint8)\n",
    "            imEye_l = blank_image\n",
    "            imEye_r = blank_image\n",
    "    return imEye_l,imEye_r"
   ]
  },
  {
   "cell_type": "code",
   "execution_count": null,
   "id": "95cdebd7",
   "metadata": {},
   "outputs": [],
   "source": [
    "#argument are the head image and the algorithm\n",
    "imEye_l,imEye_r= bulat_al(imHead,fa)"
   ]
  }
 ],
 "metadata": {
  "kernelspec": {
   "display_name": "Python 3",
   "language": "python",
   "name": "python3"
  },
  "language_info": {
   "codemirror_mode": {
    "name": "ipython",
    "version": 3
   },
   "file_extension": ".py",
   "mimetype": "text/x-python",
   "name": "python",
   "nbconvert_exporter": "python",
   "pygments_lexer": "ipython3",
   "version": "3.8.8"
  }
 },
 "nbformat": 4,
 "nbformat_minor": 5
}

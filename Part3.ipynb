{
 "cells": [
  {
   "cell_type": "markdown",
   "metadata": {},
   "source": [
    "# Third part of the architecture for gaze target detection in the wild"
   ]
  },
  {
   "cell_type": "code",
   "execution_count": 19,
   "metadata": {},
   "outputs": [
    {
     "name": "stdout",
     "output_type": "stream",
     "text": [
      "Using cpu for inference\n"
     ]
    }
   ],
   "source": [
    "import numpy as np\n",
    "import matplotlib.pyplot as plt\n",
    "\n",
    "from PIL import Image\n",
    "\n",
    "import tensorflow as tf\n",
    "import torch\n",
    "import torchvision.transforms as transforms\n",
    "from torch import nn\n",
    "from torch.utils.data import DataLoader\n",
    "from torchvision import datasets, transforms\n",
    "import torch.nn.functional as F\n",
    "import time\n",
    "\n",
    "device = torch.device(\"cuda\") if torch.cuda.is_available() else torch.device(\"cpu\")\n",
    "print(f'Using {device} for inference')"
   ]
  },
  {
   "cell_type": "markdown",
   "metadata": {},
   "source": [
    "## At the end of the 3D Gaze Estimator"
   ]
  },
  {
   "cell_type": "code",
   "execution_count": 2,
   "metadata": {},
   "outputs": [],
   "source": [
    "def planar_angular_loss(dx, dy, gx, gy):\n",
    "    \"\"\"\n",
    "        d=(dx, dy) : ground truth planar gaze direction\n",
    "        g=(gx, gy) : 2D projection of the estimated 3D gaze direction\n",
    "    \n",
    "    \"\"\"\n",
    "    \n",
    "    res = 1 - (dx*gx+dy*gy)/(((dx**2 + dy**2)**(1/2))*(gx**2 + gy**2)**(1/2))    \n",
    "    \n",
    "    return res "
   ]
  },
  {
   "cell_type": "markdown",
   "metadata": {},
   "source": [
    "## Dual Attention Mode"
   ]
  },
  {
   "cell_type": "code",
   "execution_count": 3,
   "metadata": {},
   "outputs": [],
   "source": [
    "def Dual_attention_mode(Mf, Md):\n",
    "    \"\"\"\n",
    "        Mf : FOV   Attention Map\n",
    "        Md : Depth Attention Map\n",
    "        \n",
    "        return -> Mdual : Dual Attention Map \n",
    "    \"\"\"\n",
    "    return Mf*Md"
   ]
  },
  {
   "cell_type": "markdown",
   "metadata": {},
   "source": [
    "# Pytorch"
   ]
  },
  {
   "cell_type": "markdown",
   "metadata": {},
   "source": [
    "### Backbone part (don't forget to activate)"
   ]
  },
  {
   "cell_type": "code",
   "execution_count": 17,
   "metadata": {},
   "outputs": [
    {
     "name": "stdout",
     "output_type": "stream",
     "text": [
      "ResNet50 loaded\n"
     ]
    }
   ],
   "source": [
    "# ResNet50\n",
    "import torchvision.models as models\n",
    "backbone = models.resnet50(pretrained=True, progress=True)\n",
    "print(\"ResNet50 loaded\")\n",
    "# Freeze the learning of the layers of the resnet50\n",
    "for param in backbone.parameters():\n",
    "    param.requires_grad = False"
   ]
  },
  {
   "cell_type": "code",
   "execution_count": 18,
   "metadata": {},
   "outputs": [],
   "source": [
    "#from torchsummary import summary\n",
    "\n",
    "#out_ftrs, in_ftrs, bias_ftrs = backbone.fc.out_features, backbone.fc.in_features, len(backbone.fc.bias)\n",
    "\n",
    "#print(\"Parameters of the last layer of the backbone : \"out_ftrs, \",\", in_ftrs, \",\", bias_ftrs)\n",
    "#print(\"\\n\")\n",
    "#print(summary(backbone, (3,224,224)))"
   ]
  },
  {
   "cell_type": "code",
   "execution_count": 7,
   "metadata": {},
   "outputs": [],
   "source": [
    "# To prepare the data if necessary but normaly it's not\n",
    "preprocess = transforms.Compose([\n",
    "        transforms.ToTensor(),\n",
    "        transforms.Normalize(\n",
    "        mean=[0.485, 0.456, 0.406],\n",
    "        std=[0.229, 0.224, 0.225]\n",
    "    )])"
   ]
  },
  {
   "cell_type": "markdown",
   "metadata": {},
   "source": [
    "### Binary Classification Head"
   ]
  },
  {
   "cell_type": "code",
   "execution_count": 8,
   "metadata": {},
   "outputs": [],
   "source": [
    "def concat(p1, p2, axis=0):\n",
    "    \"\"\"\n",
    "        p1, p2 : already tensors\n",
    "        axis   : 0 for raw, 1 for columns\n",
    "        \n",
    "        Concatenation of the two pictures of the entry\n",
    "    \"\"\"\n",
    "    return tf.concat([p1, p2], 0)"
   ]
  },
  {
   "cell_type": "code",
   "execution_count": 9,
   "metadata": {},
   "outputs": [
    {
     "name": "stderr",
     "output_type": "stream",
     "text": [
      "/anaconda3/lib/python3.7/site-packages/torch/nn/functional.py:718: UserWarning: Named tensors and all their associated APIs are an experimental feature and subject to change. Please do not use them for anything important until they are released as stable. (Triggered internally at  /Users/distiller/project/conda/conda-bld/pytorch_1623459064158/work/c10/core/TensorImpl.h:1156.)\n",
      "  return torch.max_pool2d(input, kernel_size, stride, padding, dilation, ceil_mode)\n"
     ]
    },
    {
     "name": "stdout",
     "output_type": "stream",
     "text": [
      "tensor([[-0.3879, -1.1348]], grad_fn=<LogSoftmaxBackward>)\n"
     ]
    }
   ],
   "source": [
    "class binary(nn.Module):\n",
    "    def __init__(self):\n",
    "        super(binary, self).__init__()\n",
    "        \n",
    "        #Resnet\n",
    "        self.backbone = backbone\n",
    "        \n",
    "        #convolution layers\n",
    "        self.conv1 = nn.Conv1d(in_channels=1, out_channels=1, kernel_size=3, padding=\"same\")\n",
    "        self.conv2 = nn.Conv1d(in_channels=1, out_channels=1, kernel_size=3, padding=\"same\")\n",
    "\n",
    "        # Fully connected layer\n",
    "        self.fc1 = nn.Linear(in_features=1000, out_features=2)\n",
    "        \n",
    "    # x represents our data\n",
    "    def forward(self, x):\n",
    "        x = self.backbone(x)\n",
    "        \n",
    "        x = x.unsqueeze(dim=1) #unsqueeze by adding the second dimension (in_channels=1)\n",
    "        x = self.conv1(x)\n",
    "\n",
    "        x = self.conv2(x)\n",
    "        x = x.squeeze(dim=1)\n",
    "        x = self.fc1(x)\n",
    "        \n",
    "        output = F.log_softmax(x, dim=1)\n",
    "        return output\n",
    "\n",
    "##########################################################\n",
    "#  Only a simple test on the Binary Classification Head  #\n",
    "##########################################################    \n",
    "    \n",
    "# Equates to one random 448x224 image\n",
    "random_data = torch.rand((1, 3, 224+224, 224))\n",
    "\n",
    "my_nn = binary()\n",
    "result = my_nn(random_data)\n",
    "print(result)"
   ]
  },
  {
   "cell_type": "markdown",
   "metadata": {},
   "source": [
    "### Heatmap Regression Head"
   ]
  },
  {
   "cell_type": "code",
   "execution_count": 16,
   "metadata": {
    "scrolled": true
   },
   "outputs": [
    {
     "name": "stdout",
     "output_type": "stream",
     "text": [
      "[[[0.00024162 0.00025087 0.0002615  ... 0.0002524  0.00025568 0.0002266 ]\n",
      "  [0.00024188 0.00025333 0.00025397 ... 0.0002528  0.00025589 0.00022533]\n",
      "  [0.00024047 0.00025165 0.00025033 ... 0.00025376 0.00025625 0.00022467]\n",
      "  ...\n",
      "  [0.00024256 0.00025134 0.00025263 ... 0.00025242 0.00025509 0.00022643]\n",
      "  [0.00024149 0.00025286 0.00025311 ... 0.00025289 0.00025505 0.00022651]\n",
      "  [0.00024191 0.00025454 0.00025548 ... 0.0002485  0.00025156 0.00023148]]]\n"
     ]
    },
    {
     "data": {
      "image/png": "[encoded data removed]",
      "text/plain": [
       "<Figure size 432x288 with 2 Axes>"
      ]
     },
     "metadata": {
      "needs_background": "light"
     },
     "output_type": "display_data"
    }
   ],
   "source": [
    "class h_reg(nn.Module):\n",
    "    def __init__(self):\n",
    "        super(hrm, self).__init__()\n",
    "        \n",
    "        #Resnet\n",
    "        self.backbone = backbone\n",
    "        \n",
    "        #convolution layers\n",
    "        self.conv1 = nn.Conv1d(in_channels=1, out_channels=1, kernel_size=10, stride=2, padding=6)\n",
    "        self.conv2 = nn.Conv1d(in_channels=1, out_channels=1, kernel_size=3, stride=1, padding=6)\n",
    "\n",
    "        # Fully connected layer\n",
    "        self.downsample1 = nn.ConvTranspose1d(in_channels=1, out_channels=1, kernel_size=4, stride=2, padding=1)\n",
    "        self.downsample2 = nn.ConvTranspose1d(in_channels=1, out_channels=1, kernel_size=4, stride=2, padding=1)\n",
    "        self.downsample3 = nn.ConvTranspose1d(in_channels=1, out_channels=1, kernel_size=4, stride=2, padding=1)\n",
    "        \n",
    "        \n",
    "    # x represents our data\n",
    "    def forward(self, x):\n",
    "\n",
    "        x = self.backbone(x)\n",
    "       \n",
    "        x = x.unsqueeze(dim=1) \n",
    "        x = self.conv1(x)\n",
    "        x = self.conv2(x)\n",
    "        \n",
    "        x = self.downsample1(x)\n",
    "        x = self.downsample2(x)\n",
    "        x = self.downsample3(x)\n",
    "        \n",
    "        x = x.squeeze(dim=1)\n",
    "\n",
    "        output = F.softmax(x, dim=1)\n",
    "        output = output.reshape(1, 64, 64)\n",
    "        \n",
    "        return output\n",
    "\n",
    "    \n",
    "##########################################################\n",
    "#   Only a simple test on the Heatmap Regression Head    #\n",
    "##########################################################\n",
    "\n",
    "# Equates to one random 448x224 image\n",
    "random_data = torch.rand((1, 3, 224+224, 224))\n",
    "\n",
    "my_nn = h_reg()\n",
    "result = my_nn(random_data)\n",
    "\n",
    "result = result.detach().numpy() \n",
    "print(result)\n",
    "\n",
    "plt.imshow(result[0,:,:])\n",
    "plt.colorbar()\n",
    "plt.show()"
   ]
  }
 ],
 "metadata": {
  "kernelspec": {
   "display_name": "Python 3",
   "language": "python",
   "name": "python3"
  },
  "language_info": {
   "codemirror_mode": {
    "name": "ipython",
    "version": 3
   },
   "file_extension": ".py",
   "mimetype": "text/x-python",
   "name": "python",
   "nbconvert_exporter": "python",
   "pygments_lexer": "ipython3",
   "version": "3.7.3"
  }
 },
 "nbformat": 4,
 "nbformat_minor": 2
}

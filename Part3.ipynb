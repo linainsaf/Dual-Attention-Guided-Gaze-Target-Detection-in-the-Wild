{
  "nbformat": 4,
  "nbformat_minor": 0,
  "metadata": {
    "colab": {
      "name": "Part3_3DGaze.ipynb",
      "provenance": [],
      "collapsed_sections": []
    },
    "kernelspec": {
      "name": "python3",
      "display_name": "Python 3"
    },
    "language_info": {
      "name": "python"
    },
    "accelerator": "GPU"
  },
  "cells": [
    {
      "cell_type": "markdown",
      "source": [
        "# Extraction des données de la BDD GazeFollow"
      ],
      "metadata": {
        "id": "vuJUnm8-x_8Q"
      }
    },
    {
      "cell_type": "code",
      "execution_count": 1,
      "metadata": {
        "colab": {
          "base_uri": "https://localhost:8080/"
        },
        "id": "59lZvsc2mz4F",
        "outputId": "76bcdb1f-f614-4456-fd37-fee30830a4b2"
      },
      "outputs": [
        {
          "output_type": "stream",
          "name": "stdout",
          "text": [
            "Drive already mounted at /content/drive; to attempt to forcibly remount, call drive.mount(\"/content/drive\", force_remount=True).\n"
          ]
        }
      ],
      "source": [
        "from google.colab import drive\n",
        "drive.mount('/content/drive')"
      ]
    },
    {
      "cell_type": "code",
      "source": [
        "import numpy as np\n",
        "from os.path import dirname, join as pjoin\n",
        "import scipy.io as sio\n",
        "import cv2\n",
        "import matplotlib.pyplot as plt\n",
        "import matplotlib.patches as patches\n",
        "from PIL import Image\n",
        "from torch.utils.data import Dataset\n",
        "from torchvision import transforms"
      ],
      "metadata": {
        "id": "DYyUHxjWnYLo"
      },
      "execution_count": 2,
      "outputs": []
    },
    {
      "cell_type": "code",
      "source": [
        "data_path= \"/content/drive/MyDrive/MLA_Projet/GazeFollow/data/data_new\""
      ],
      "metadata": {
        "id": "93eos5FXpBi_"
      },
      "execution_count": 3,
      "outputs": []
    },
    {
      "cell_type": "markdown",
      "source": [
        "### Extraction of the matrix"
      ],
      "metadata": {
        "id": "aiyhnxySdbd5"
      }
    },
    {
      "cell_type": "code",
      "source": [
        "mat_fname_test = pjoin(data_path, 'test_annotations.mat')\n",
        "mat_contents_test = sio.loadmat(mat_fname_test)\n",
        "#print(mat_contents_test)\n",
        "#sorted(mat_contents_test.keys())\n",
        "\n",
        "mat_fname_train = pjoin(data_path, 'train_annotations.mat')\n",
        "mat_contents_train = sio.loadmat(mat_fname_train)\n",
        "#print(mat_contents_train)\n",
        "#sorted(mat_contents_train.keys())"
      ],
      "metadata": {
        "id": "72k-PIbxpGNo"
      },
      "execution_count": 4,
      "outputs": []
    },
    {
      "cell_type": "code",
      "source": [
        "\"\"\"#order of image\n",
        "i=1\n",
        "\n",
        "im_eye = mat_contents_test['test_eyes'][0][i]\n",
        "im_path1= mat_contents_test['test_path'][i][0][0]\n",
        "im_path = pjoin(data_path, im_path1)\n",
        "im= cv2.imread(im_path)\n",
        "image = cv2.cvtColor(im, cv2.COLOR_BGR2RGB)\n",
        "e= (im.shape[1], im.shape[0])*im_eye\n",
        "im_gaze = mat_contents_test['test_gaze'][0][i]\n",
        "g= (im.shape[1], im.shape[0])*im_gaze\n",
        "im_box= mat_contents_test['test_bbox'][0][i]\n",
        "\n",
        "plt.imshow(im)\n",
        "plt.show()\n",
        "print(im.shape)\n",
        "\"\"\""
      ],
      "metadata": {
        "colab": {
          "base_uri": "https://localhost:8080/",
          "height": 91
        },
        "id": "HMg_zCm3pGZf",
        "outputId": "5ab2386d-58f0-41ae-f887-9a2293901218"
      },
      "execution_count": 5,
      "outputs": [
        {
          "output_type": "execute_result",
          "data": {
            "application/vnd.google.colaboratory.intrinsic+json": {
              "type": "string"
            },
            "text/plain": [
              "\"#order of image\\ni=1\\n\\nim_eye = mat_contents_test['test_eyes'][0][i]\\nim_path1= mat_contents_test['test_path'][i][0][0]\\nim_path = pjoin(data_path, im_path1)\\nim= cv2.imread(im_path)\\nimage = cv2.cvtColor(im, cv2.COLOR_BGR2RGB)\\ne= (im.shape[1], im.shape[0])*im_eye\\nim_gaze = mat_contents_test['test_gaze'][0][i]\\ng= (im.shape[1], im.shape[0])*im_gaze\\nim_box= mat_contents_test['test_bbox'][0][i]\\n\\nplt.imshow(im)\\nplt.show()\\nprint(im.shape)\\n\""
            ]
          },
          "metadata": {},
          "execution_count": 5
        }
      ]
    },
    {
      "cell_type": "code",
      "source": [
        "\"\"\"def box(im_box,im):\n",
        "    width,height,_= im.shape\n",
        "    box= (height, width,height/2, width/2)*im_box[0,:]\n",
        "    box=box -np.array([0,0,box[0]/2,box[1]/2])\n",
        "    #w=im_box[0,2]*width- box[1]\n",
        "    #h=im_box[0,3]*height-box[0]\n",
        "    return box[:2],box[2],box[3]\n",
        "\n",
        "rec = box(im_box,im)\n",
        "rec\"\"\""
      ],
      "metadata": {
        "colab": {
          "base_uri": "https://localhost:8080/",
          "height": 73
        },
        "id": "P3tJ2zEEpW3D",
        "outputId": "10cb4231-77ac-4557-fd89-45c4154f4150"
      },
      "execution_count": 6,
      "outputs": [
        {
          "output_type": "execute_result",
          "data": {
            "application/vnd.google.colaboratory.intrinsic+json": {
              "type": "string"
            },
            "text/plain": [
              "'def box(im_box,im):\\n    width,height,_= im.shape\\n    box= (height, width,height/2, width/2)*im_box[0,:]\\n    box=box -np.array([0,0,box[0]/2,box[1]/2])\\n    #w=im_box[0,2]*width- box[1]\\n    #h=im_box[0,3]*height-box[0]\\n    return box[:2],box[2],box[3]\\n\\nrec = box(im_box,im)\\nrec'"
            ]
          },
          "metadata": {},
          "execution_count": 6
        }
      ]
    },
    {
      "cell_type": "code",
      "source": [
        "\"\"\"# Create figure and axes\n",
        "fig, ax = plt.subplots()\n",
        "\n",
        "# Display the image\n",
        "ax.imshow(im)\n",
        "\n",
        "# Create a Rectangle patch\n",
        "rect = patches.Rectangle(rec[0],rec[2],rec[1], linewidth=1, edgecolor='r', facecolor='none')\n",
        "\n",
        "# Add the patch to the Axes\n",
        "ax.add_patch(rect)\n",
        "\n",
        "print(rect)\n",
        "\n",
        "plt.scatter(real_pts[0], real_pts[1],color='r')\"\"\""
      ],
      "metadata": {
        "colab": {
          "base_uri": "https://localhost:8080/",
          "height": 73
        },
        "id": "PUrD4GXdpGfL",
        "outputId": "641ea399-1f98-4a50-986e-0361c9ce0197"
      },
      "execution_count": 7,
      "outputs": [
        {
          "output_type": "execute_result",
          "data": {
            "application/vnd.google.colaboratory.intrinsic+json": {
              "type": "string"
            },
            "text/plain": [
              "\"# Create figure and axes\\nfig, ax = plt.subplots()\\n\\n# Display the image\\nax.imshow(im)\\n\\n# Create a Rectangle patch\\nrect = patches.Rectangle(rec[0],rec[2],rec[1], linewidth=1, edgecolor='r', facecolor='none')\\n\\n# Add the patch to the Axes\\nax.add_patch(rect)\\n\\nprint(rect)\\n\\nplt.scatter(real_pts[0], real_pts[1],color='r')\""
            ]
          },
          "metadata": {},
          "execution_count": 7
        }
      ]
    },
    {
      "cell_type": "code",
      "source": [
        "def dataset_extractor_test(data_path, matrix_contents_dataset):\n",
        "\n",
        "    images = []\n",
        "    gazes = []\n",
        "\n",
        "    for i in range(len(matrix_contents_dataset['test_gaze'][0])):\n",
        "        \n",
        "        ########### Image part ############\n",
        "        pic_path = matrix_contents_dataset['test_path'][i][0][0]\n",
        "        pic = cv2.imread(pjoin(data_path, pic_path))\n",
        "        images.append(pic)\n",
        "\n",
        "        ########### Gaze part #############\n",
        "        gaze_i = matrix_contents_dataset['test_gaze'][0][i]\n",
        "        mean_pts = np.mean(gaze_i, axis=0)\n",
        "        real_pts = mean_pts*(64, 64)\n",
        "        #creation of a picture with 0 everywhere and 1 on the gaze point\n",
        "        target = np.zeros((64, 64))\n",
        "        target[int(real_pts[0]), int(real_pts[1])] = 255\n",
        "        gazes.append(target)\n",
        "\n",
        "    return images , gazes\n",
        "\n",
        "\"\"\"def dataset_extractor_train(data_path, matrix_contents_dataset_train):\n",
        "\n",
        "    images = []\n",
        "    gazes = []\n",
        "\n",
        "    for i in range(len(matrix_contents_dataset_train['train_gaze'][0])*0.5):\n",
        "        \n",
        "        ########### Image part ############\n",
        "        pic_path = matrix_contents_dataset_train['train_path'][i][0][0]\n",
        "        pic = cv2.imread(pjoin(data_path, pic_path))\n",
        "        images.append(pic)\n",
        "\n",
        "        ########### Gaze part #############\n",
        "        gaze_i = matrix_contents_dataset_train['train_gaze'][0][i]\n",
        "        mean_pts = np.mean(gaze_i, axis=0)\n",
        "        real_pts = mean_pts*(64, 64)\n",
        "        #creation of a picture with 0 everywhere and 1 on the gaze point\n",
        "        target = np.zeros((64, 64))\n",
        "        target[int(real_pts[0]), int(real_pts[1])] = 255\n",
        "        gazes.append(target)\n",
        "\n",
        "    return images, gazes\n",
        "\"\"\""
      ],
      "metadata": {
        "colab": {
          "base_uri": "https://localhost:8080/",
          "height": 146
        },
        "id": "rHJJ_1jpH1tO",
        "outputId": "a3673fe9-e522-478e-a723-a14d2037ac2b"
      },
      "execution_count": 8,
      "outputs": [
        {
          "output_type": "execute_result",
          "data": {
            "application/vnd.google.colaboratory.intrinsic+json": {
              "type": "string"
            },
            "text/plain": [
              "\"def dataset_extractor_train(data_path, matrix_contents_dataset_train):\\n\\n    images = []\\n    gazes = []\\n\\n    for i in range(len(matrix_contents_dataset_train['train_gaze'][0])*0.5):\\n        \\n        ########### Image part ############\\n        pic_path = matrix_contents_dataset_train['train_path'][i][0][0]\\n        pic = cv2.imread(pjoin(data_path, pic_path))\\n        images.append(pic)\\n\\n        ########### Gaze part #############\\n        gaze_i = matrix_contents_dataset_train['train_gaze'][0][i]\\n        mean_pts = np.mean(gaze_i, axis=0)\\n        real_pts = mean_pts*(64, 64)\\n        #creation of a picture with 0 everywhere and 1 on the gaze point\\n        target = np.zeros((64, 64))\\n        target[int(real_pts[0]), int(real_pts[1])] = 255\\n        gazes.append(target)\\n\\n    return images, gazes\\n\""
            ]
          },
          "metadata": {},
          "execution_count": 8
        }
      ]
    },
    {
      "cell_type": "code",
      "source": [
        "images_test , gazes_test   = dataset_extractor_test(data_path, mat_contents_test)\n",
        "#images_train , gazes_train = dataset_extractor_train(data_path, mat_contents_train)"
      ],
      "metadata": {
        "id": "aIPEKFWdcplU"
      },
      "execution_count": 9,
      "outputs": []
    },
    {
      "cell_type": "code",
      "source": [
        "from torch.utils.data import Dataset, DataLoader, SubsetRandomSampler"
      ],
      "metadata": {
        "id": "bjcDew-nGT6e"
      },
      "execution_count": 10,
      "outputs": []
    },
    {
      "cell_type": "code",
      "source": [
        "class GazeFollowDataset(Dataset):\n",
        "\n",
        "    def __init__(self, data_in, target, transform=None):\n",
        "        self.data_in   = data_in\n",
        "        self.target    = target\n",
        "        self.transform = transform\n",
        "\n",
        "    def __len__(self):\n",
        "        return len(self.target)\n",
        "\n",
        "    def __getitem__(self, idx):\n",
        "        if torch.is_tensor(idx):\n",
        "            idx = idx.tolist()\n",
        "\n",
        "        x = self.data_in[idx]\n",
        "        y = self.target[idx]\n",
        "\n",
        "        if self.transform:\n",
        "              x = self.transform(x)\n",
        "        #sample = {'input': x, 'box': y}\n",
        "\n",
        "        return x, y"
      ],
      "metadata": {
        "id": "PAhK2Ie-EL01"
      },
      "execution_count": 11,
      "outputs": []
    },
    {
      "cell_type": "code",
      "source": [
        "preprocess = transforms.Compose([\n",
        "        transforms.ToTensor(),\n",
        "        transforms.Normalize(\n",
        "        mean=[0.485, 0.456, 0.406],\n",
        "        std=[0.229, 0.224, 0.225]\n",
        "    )])"
      ],
      "metadata": {
        "id": "jQD4BI6YgHkw"
      },
      "execution_count": 12,
      "outputs": []
    },
    {
      "cell_type": "code",
      "source": [
        "data_test  = GazeFollowDataset(images_test, gazes_test, transform=preprocess)\n",
        "\n",
        "#DataLoader(data_test, batch_size=nb_image, shuffle=False, num_workers=0)"
      ],
      "metadata": {
        "id": "wbJuYd2ugKHS"
      },
      "execution_count": 13,
      "outputs": []
    },
    {
      "cell_type": "code",
      "source": [
        "#from scipy import signal\n",
        "#def gaussienne_bbox(width, sigma):\n",
        "    #\"\"\"\n",
        "    #    Génération of the guassian in the center of the bounding box\n",
        "    #\"\"\"\n",
        "    #gaussienne1d = signal.gaussian(width, std=sigma).reshape(width, 1)\n",
        "    #return np.outer(gaussienne1d, gaussienne1d)"
      ],
      "metadata": {
        "id": "Et6toPv4Me-A"
      },
      "execution_count": 14,
      "outputs": []
    },
    {
      "cell_type": "markdown",
      "source": [
        "# Create the backbone"
      ],
      "metadata": {
        "id": "wzgGmvB71nAy"
      }
    },
    {
      "cell_type": "code",
      "source": [
        "# ResNet50\n",
        "import torchvision.models as models\n",
        "backbone = models.resnet50(pretrained=True, progress=True)\n",
        "print(\"ResNet50 loaded\")\n",
        "# Freeze the learning of the layers of the resnet50\n",
        "for param in backbone.parameters():\n",
        "    param.requires_grad = False\n"
      ],
      "metadata": {
        "colab": {
          "base_uri": "https://localhost:8080/"
        },
        "id": "VbyImsId1miE",
        "outputId": "4275489a-a27c-4957-8b0a-a049465adb85"
      },
      "execution_count": 15,
      "outputs": [
        {
          "output_type": "stream",
          "name": "stdout",
          "text": [
            "ResNet50 loaded\n"
          ]
        }
      ]
    },
    {
      "cell_type": "markdown",
      "source": [
        "# Création du modèle \"Heatmap Regression Head\""
      ],
      "metadata": {
        "id": "mOuBEoGmyIrs"
      }
    },
    {
      "cell_type": "code",
      "source": [
        "import numpy as np\n",
        "import matplotlib.pyplot as plt\n",
        "\n",
        "from PIL import Image\n",
        "\n",
        "import tensorflow as tf\n",
        "import torch\n",
        "import torchvision.transforms as transforms\n",
        "from torch import nn\n",
        "from torch.utils.data import DataLoader\n",
        "from torchvision import datasets, transforms\n",
        "import torch.nn.functional as F\n",
        "\n",
        "import time\n",
        "import warnings\n",
        "\n",
        "warnings.filterwarnings(\"ignore\")\n",
        "\n",
        "device = torch.device(\"cuda\") if torch.cuda.is_available() else torch.device(\"cpu\")\n",
        "print(f'Using {device} for inference')"
      ],
      "metadata": {
        "colab": {
          "base_uri": "https://localhost:8080/"
        },
        "id": "-8OkyMR8x8SM",
        "outputId": "a851dbe8-17bf-4d44-972c-387987116964"
      },
      "execution_count": 16,
      "outputs": [
        {
          "output_type": "stream",
          "name": "stdout",
          "text": [
            "Using cuda for inference\n"
          ]
        }
      ]
    },
    {
      "cell_type": "code",
      "source": [
        "def concat(p1, p2, axis=0):\n",
        "    \"\"\"\n",
        "        p1, p2 : already tensors\n",
        "        axis   : 0 for raw, 1 for columns\n",
        "        \n",
        "        Concatenation of the two pictures of the entry\n",
        "    \"\"\"\n",
        "    return tf.concat([p1, p2], 0)\n"
      ],
      "metadata": {
        "id": "UWGe7AlLp2XE"
      },
      "execution_count": 17,
      "outputs": []
    },
    {
      "cell_type": "code",
      "source": [
        "class h_reg(nn.Module):\n",
        "    def __init__(self):\n",
        "        super(h_reg, self).__init__()\n",
        "        \n",
        "        #Resnet\n",
        "        self.backbone = backbone\n",
        "        \n",
        "        #convolution layers\n",
        "        self.conv1 = nn.Conv1d(in_channels=1, out_channels=1, kernel_size=10, stride=2, padding=6)\n",
        "        self.conv2 = nn.Conv1d(in_channels=1, out_channels=1, kernel_size=3, stride=1, padding=6)\n",
        "\n",
        "        # Fully connected layer\n",
        "        self.downsample1 = nn.ConvTranspose1d(in_channels=1, out_channels=1, kernel_size=4, stride=2, padding=1)\n",
        "        self.downsample2 = nn.ConvTranspose1d(in_channels=1, out_channels=1, kernel_size=4, stride=2, padding=1)\n",
        "        self.downsample3 = nn.ConvTranspose1d(in_channels=1, out_channels=1, kernel_size=4, stride=2, padding=1)\n",
        "        \n",
        "        \n",
        "    # x represents our data\n",
        "    def forward(self, x):\n",
        "\n",
        "        x = self.backbone(x)\n",
        "       \n",
        "        x = x.unsqueeze(dim=1) \n",
        "        x = self.conv1(x)\n",
        "        x = self.conv2(x)\n",
        "        \n",
        "        x = self.downsample1(x)\n",
        "        x = self.downsample2(x)\n",
        "        x = self.downsample3(x)\n",
        "        \n",
        "        x = x.squeeze(dim=1)\n",
        "\n",
        "        output = F.softmax(x, dim=1)\n",
        "        output = output.reshape(1, 64, 64)\n",
        "        \n",
        "        return output\n",
        "\n",
        "    \n",
        "##########################################################\n",
        "#   Only a simple test on the Heatmap Regression Head    #\n",
        "##########################################################\n",
        "\n",
        "# Equates to one random 448x224 image\n",
        "random_data = torch.rand((1, 3, 224+224, 224))\n",
        "\n",
        "my_nn = h_reg()\n",
        "result = my_nn(random_data)\n",
        "\n",
        "result = result.detach().numpy() \n",
        "print(result)\n",
        "\n",
        "plt.imshow(result[0,:,:])\n",
        "plt.colorbar()\n",
        "plt.show()"
      ],
      "metadata": {
        "colab": {
          "base_uri": "https://localhost:8080/",
          "height": 397
        },
        "id": "apcAM4iLp2Z9",
        "outputId": "af05dc93-1113-4e7f-9bc6-87581219f148"
      },
      "execution_count": 18,
      "outputs": [
        {
          "output_type": "stream",
          "name": "stdout",
          "text": [
            "[[[0.00022999 0.00022273 0.00027721 ... 0.0002199  0.00028259 0.00022224]\n",
            "  [0.00025258 0.00021967 0.00028178 ... 0.00022014 0.00028163 0.00022223]\n",
            "  [0.00025317 0.00021972 0.00028102 ... 0.00021996 0.00028281 0.0002223 ]\n",
            "  ...\n",
            "  [0.00025256 0.00021967 0.00028178 ... 0.00021885 0.00028616 0.00022248]\n",
            "  [0.00025117 0.00021899 0.00028183 ... 0.00022017 0.00028229 0.00022223]\n",
            "  [0.00025232 0.00021967 0.00028217 ... 0.00021943 0.0002804  0.00024135]]]\n"
          ]
        },
        {
          "output_type": "display_data",
          "data": {
            "image/png": "[encoded data removed]",
            "text/plain": [
              "<Figure size 432x288 with 2 Axes>"
            ]
          },
          "metadata": {
            "needs_background": "light"
          }
        }
      ]
    },
    {
      "cell_type": "markdown",
      "source": [
        "# Entraînement"
      ],
      "metadata": {
        "id": "yFUN6lg7yP1s"
      }
    },
    {
      "cell_type": "code",
      "source": [
        "def train(model, optimizer, loss_fn, train_dl, val_dl, epochs=100, device='cpu'):\n",
        "    \n",
        "    print('train() called: model=%s, opt=%s(lr=%f), epochs=%d, device=%s\\n' % \\\n",
        "          (type(model).__name__, type(optimizer).__name__,\n",
        "           optimizer.param_groups[0]['lr'], epochs, device))\n",
        "\n",
        "\n",
        "    history             = {} # Collects per-epoch loss and acc like Keras' fit().\n",
        "    history['loss']     = []\n",
        "    history['val_loss'] = []\n",
        "    history['acc']      = []\n",
        "    history['val_acc']  = []\n",
        "\n",
        "    start_time_sec = time.time()\n",
        "\n",
        "\n",
        "    for epoch in range(1, epochs+1):\n",
        "\n",
        "        # --- TRAIN AND EVALUATE ON TRAINING SET -----------------------------\n",
        "        model.train()\n",
        "        train_loss         = 0.0\n",
        "        num_train_correct  = 0\n",
        "        num_train_examples = 0\n",
        "\n",
        "        for batch in train_dl:\n",
        "\n",
        "            optimizer.zero_grad()\n",
        "\n",
        "            x    = batch[0].to(device)\n",
        "            y    = batch[1].to(device)\n",
        "            yhat = model(x)\n",
        "            loss = loss_fn(yhat, y)\n",
        "\n",
        "            loss.backward()\n",
        "            optimizer.step()\n",
        "\n",
        "            train_loss         += loss.data.item() * x.size(0)\n",
        "            num_train_correct  += (torch.max(yhat, 1)[1] == y).sum().item()\n",
        "            num_train_examples += x.shape[0]\n",
        "\n",
        "        train_acc   = num_train_correct / num_train_examples\n",
        "        train_loss  = train_loss / len(train_dl.dataset)\n",
        "\n",
        "\n",
        "        # --- EVALUATE ON VALIDATION SET -------------------------------------\n",
        "        model.eval()\n",
        "        val_loss         = 0.0\n",
        "        num_val_correct  = 0\n",
        "        num_val_examples = 0\n",
        "\n",
        "        for batch in val_dl:\n",
        "\n",
        "            x    = batch[0].to(device)\n",
        "            y    = batch[1].to(device)\n",
        "            yhat = model(x)\n",
        "            loss = loss_fn(yhat, y)\n",
        "\n",
        "            val_loss         += loss.data.item() * x.size(0)\n",
        "            num_val_correct  += (torch.max(yhat, 1)[1] == y).sum().item()\n",
        "            num_val_examples += y.shape[0]\n",
        "\n",
        "        val_acc  = num_val_correct / num_val_examples\n",
        "        val_loss = val_loss / len(val_dl.dataset)\n",
        "\n",
        "\n",
        "        if epoch == 1 or epoch % 10 == 0:\n",
        "            print('Epoch %3d/%3d, train loss: %5.2f, train acc: %5.2f, val loss: %5.2f, val acc: %5.2f' % \\\n",
        "            (epoch, epochs, train_loss, train_acc, val_loss, val_acc))\n",
        "\n",
        "        history['loss'].append(train_loss)\n",
        "        history['val_loss'].append(val_loss)\n",
        "        history['acc'].append(train_acc)\n",
        "        history['val_acc'].append(val_acc)\n",
        "\n",
        "    # END OF TRAINING LOOP\n",
        "\n",
        "    end_time_sec       = time.time()\n",
        "    total_time_sec     = end_time_sec - start_time_sec\n",
        "    time_per_epoch_sec = total_time_sec / epochs\n",
        "    print()\n",
        "    print('Time total:     %5.2f sec' % (total_time_sec))\n",
        "    print('Time per epoch: %5.2f sec' % (time_per_epoch_sec))\n",
        "\n",
        "    return history\n"
      ],
      "metadata": {
        "id": "81u8_pcBp2cw"
      },
      "execution_count": 19,
      "outputs": []
    },
    {
      "cell_type": "code",
      "source": [
        "# model, optimizer, loss_fn, train_dl, val_dl, epochs=100, device='cpu'\n",
        "validation_split = .2\n",
        "batch_size= 128\n",
        "dataset_size = len(data_test)\n",
        "indices = list(range(dataset_size))\n",
        "split = int(np.floor(validation_split * dataset_size))\n",
        "train_indices, val_indices = indices[split:], indices[:split]\n",
        "\n",
        "train_sampler = SubsetRandomSampler(train_indices)\n",
        "valid_sampler = SubsetRandomSampler(val_indices)\n",
        "\n",
        "\n",
        "\n",
        "\n",
        "network           = h_reg()\n",
        "optimizer         = torch.optim.Adam(network.parameters(), lr = 0.001)\n",
        "loss_fn           = nn.MSELoss()\n",
        "epochs            = 9\n",
        "device            = \"cuda\"\n",
        "train_loader      = DataLoader(data_test, batch_size=batch_size, sampler=train_sampler)\n",
        "validation_loader = DataLoader(data_test, batch_size=batch_size, sampler=valid_sampler)\n",
        "\n",
        "history = train(network, optimizer, loss_fn, train_loader, validation_loader, epochs, device)"
      ],
      "metadata": {
        "id": "dwY4TYqdp2ku"
      },
      "execution_count": null,
      "outputs": []
    },
    {
      "cell_type": "code",
      "source": [
        ""
      ],
      "metadata": {
        "id": "e3HJJ5J_p2sw"
      },
      "execution_count": null,
      "outputs": []
    }
  ]
}
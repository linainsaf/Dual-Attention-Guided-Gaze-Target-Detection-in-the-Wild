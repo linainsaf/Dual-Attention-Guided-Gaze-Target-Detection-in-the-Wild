{
 "cells": [
  {
   "cell_type": "code",
   "execution_count": 23,
   "metadata": {},
   "outputs": [],
   "source": [
    "import tensorflow as tf\n",
    "import numpy as np\n",
    "import matplotlib.pyplot as plt\n",
    "from tensorflow.keras import Sequential, Model, Input\n",
    "from tensorflow.keras.layers import Dense, Conv2D, Conv2DTranspose"
   ]
  },
  {
   "cell_type": "markdown",
   "metadata": {},
   "source": [
    "## At the end of the 3D Gaze Estimator"
   ]
  },
  {
   "cell_type": "code",
   "execution_count": 30,
   "metadata": {},
   "outputs": [],
   "source": [
    "def planar_angular_loss(dx, dy, gx, gy):\n",
    "    \"\"\"\n",
    "        d=(dx, dy) : ground truth planar gaze direction\n",
    "        g=(gx, gy) : 2D projection of the estimated 3D gaze direction\n",
    "    \n",
    "    \"\"\"\n",
    "    \n",
    "    res = 1 - (dx*gx+dy*gy)/(((dx**2 + dy**2)**(1/2))*(gx**2 + gy**2)**(1/2))    \n",
    "    \n",
    "    return res "
   ]
  },
  {
   "cell_type": "markdown",
   "metadata": {},
   "source": [
    "## Dual Attention Mode"
   ]
  },
  {
   "cell_type": "code",
   "execution_count": 1,
   "metadata": {},
   "outputs": [],
   "source": [
    "def Dual_attention_mode(Mf, Md):\n",
    "    \"\"\"\n",
    "        Mf : FOV   Attention Map\n",
    "        Md : Depth Attention Map\n",
    "        \n",
    "        return -> Mdual : Dual Attention Map \n",
    "    \"\"\"\n",
    "    return Mf*Md"
   ]
  },
  {
   "cell_type": "markdown",
   "metadata": {},
   "source": [
    "## Binary Classification Head"
   ]
  },
  {
   "cell_type": "code",
   "execution_count": 20,
   "metadata": {
    "scrolled": true
   },
   "outputs": [
    {
     "name": "stdout",
     "output_type": "stream",
     "text": [
      "Model: \"sequential_14\"\n",
      "_________________________________________________________________\n",
      "Layer (type)                 Output Shape              Param #   \n",
      "=================================================================\n",
      "conv2d_18 (Conv2D)           (None, 224, 224, 3)       84        \n",
      "_________________________________________________________________\n",
      "conv2d_19 (Conv2D)           (None, 224, 224, 3)       84        \n",
      "_________________________________________________________________\n",
      "dense_8 (Dense)              (None, 224, 224, 2)       8         \n",
      "=================================================================\n",
      "Total params: 176\n",
      "Trainable params: 176\n",
      "Non-trainable params: 0\n",
      "_________________________________________________________________\n"
     ]
    }
   ],
   "source": [
    "BCF_Model = Sequential()\n",
    "\n",
    "nof_batch   = 1\n",
    "nof_filters = 3\n",
    "input_shape = (nof_batch, 224, 224, 3) #Channel last and concatenation of the Dual Attention Map and the scene image\n",
    "\n",
    "\n",
    "BCF_Model.add(Conv2D(filters=nof_filters, kernel_size=(3,3), data_format='channels_last', activation='relu', padding=\"same\", input_shape=input_shape[1:]))\n",
    "BCF_Model.add(Conv2D(filters=nof_filters, kernel_size=(3,3), data_format='channels_last', activation='relu', padding=\"same\"))\n",
    "BCF_Model.add(Dense(2))\n",
    "BCF_Model.summary()\n",
    "\n",
    "# Compile model\n",
    "BCF_Model.compile(loss='binary_crossentropy', optimizer='adam')\n",
    "\n",
    "## Must have for output size 1 (two classes possible)\n",
    "\n"
   ]
  },
  {
   "cell_type": "markdown",
   "metadata": {},
   "source": [
    "## Heatmap Regression Head "
   ]
  },
  {
   "cell_type": "code",
   "execution_count": 29,
   "metadata": {},
   "outputs": [
    {
     "name": "stdout",
     "output_type": "stream",
     "text": [
      "Model: \"sequential_21\"\n",
      "_________________________________________________________________\n",
      "Layer (type)                 Output Shape              Param #   \n",
      "=================================================================\n",
      "conv2d_32 (Conv2D)           (None, 224, 224, 3)       84        \n",
      "_________________________________________________________________\n",
      "conv2d_33 (Conv2D)           (None, 224, 224, 3)       84        \n",
      "_________________________________________________________________\n",
      "conv2d_transpose_15 (Conv2DT (None, 224, 224, 3)       84        \n",
      "_________________________________________________________________\n",
      "conv2d_transpose_16 (Conv2DT (None, 224, 224, 3)       84        \n",
      "_________________________________________________________________\n",
      "conv2d_transpose_17 (Conv2DT (None, 224, 224, 3)       84        \n",
      "=================================================================\n",
      "Total params: 420\n",
      "Trainable params: 420\n",
      "Non-trainable params: 0\n",
      "_________________________________________________________________\n"
     ]
    }
   ],
   "source": [
    "HRH_Model = Sequential()\n",
    "\n",
    "nof_batch   = 1\n",
    "nof_filters = 3\n",
    "input_shape = (nof_batch, 224, 224, 3) #Channel last and concatenation of the Dual Attention Map and the scene image\n",
    "\n",
    "\n",
    "HRH_Model.add(Conv2D(filters=nof_filters, kernel_size=(3,3), data_format='channels_last', activation='relu', padding=\"same\", input_shape=input_shape[1:]))\n",
    "HRH_Model.add(Conv2D(filters=nof_filters, kernel_size=(3,3), data_format='channels_last', activation='relu', padding=\"same\"))\n",
    "HRH_Model.add(Conv2DTranspose(filters=nof_filters, kernel_size=(3,3), padding='same', data_format='channels_last', activation='relu'))\n",
    "HRH_Model.add(Conv2DTranspose(filters=nof_filters, kernel_size=(3,3), padding='same', data_format='channels_last', activation='relu'))\n",
    "HRH_Model.add(Conv2DTranspose(filters=nof_filters, kernel_size=(3,3), padding='same', data_format='channels_last', activation='relu'))\n",
    "HRH_Model.summary()\n",
    "\n",
    "# Compile model\n",
    "HRH_Model.compile(loss='mean_squared_error', optimizer='adam')\n",
    "\n",
    "\n",
    "## Must have for output size (64,64)\n",
    "\n"
   ]
  },
  {
   "cell_type": "code",
   "execution_count": null,
   "metadata": {},
   "outputs": [],
   "source": []
  }
 ],
 "metadata": {
  "kernelspec": {
   "display_name": "Python 3",
   "language": "python",
   "name": "python3"
  },
  "language_info": {
   "codemirror_mode": {
    "name": "ipython",
    "version": 3
   },
   "file_extension": ".py",
   "mimetype": "text/x-python",
   "name": "python",
   "nbconvert_exporter": "python",
   "pygments_lexer": "ipython3",
   "version": "3.7.3"
  }
 },
 "nbformat": 4,
 "nbformat_minor": 2
}

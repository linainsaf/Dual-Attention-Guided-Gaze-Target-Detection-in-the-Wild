{
  "nbformat": 4,
  "nbformat_minor": 5,
  "metadata": {
    "kernelspec": {
      "display_name": "Python 3",
      "language": "python",
      "name": "python3"
    },
    "language_info": {
      "codemirror_mode": {
        "name": "ipython",
        "version": 3
      },
      "file_extension": ".py",
      "mimetype": "text/x-python",
      "name": "python",
      "nbconvert_exporter": "python",
      "pygments_lexer": "ipython3",
      "version": "3.8.8"
    },
    "colab": {
      "name": "gaze360gazeEstimation.ipynb",
      "provenance": [],
      "collapsed_sections": [
        "GhwFIBUN68rf",
        "QcZpMbJD7fhI",
        "m9hiKiKjJ3jt"
      ]
    },
    "widgets": {
      "application/vnd.jupyter.widget-state+json": {
        "4d346f1591884294a991e363586ff89e": {
          "model_module": "@jupyter-widgets/controls",
          "model_name": "HBoxModel",
          "model_module_version": "1.5.0",
          "state": {
            "_view_name": "HBoxView",
            "_dom_classes": [],
            "_model_name": "HBoxModel",
            "_view_module": "@jupyter-widgets/controls",
            "_model_module_version": "1.5.0",
            "_view_count": null,
            "_view_module_version": "1.5.0",
            "box_style": "",
            "layout": "IPY_MODEL_486360317ffc4411802d8c287a6218aa",
            "_model_module": "@jupyter-widgets/controls",
            "children": [
              "IPY_MODEL_82674434aaa74cc09a30e272719291c2",
              "IPY_MODEL_f4773b6a44bc4887bc0ab167aae4fd00",
              "IPY_MODEL_5997ce6f416e47cbac180c82c5333b88"
            ]
          }
        },
        "486360317ffc4411802d8c287a6218aa": {
          "model_module": "@jupyter-widgets/base",
          "model_name": "LayoutModel",
          "model_module_version": "1.2.0",
          "state": {
            "_view_name": "LayoutView",
            "grid_template_rows": null,
            "right": null,
            "justify_content": null,
            "_view_module": "@jupyter-widgets/base",
            "overflow": null,
            "_model_module_version": "1.2.0",
            "_view_count": null,
            "flex_flow": null,
            "width": null,
            "min_width": null,
            "border": null,
            "align_items": null,
            "bottom": null,
            "_model_module": "@jupyter-widgets/base",
            "top": null,
            "grid_column": null,
            "overflow_y": null,
            "overflow_x": null,
            "grid_auto_flow": null,
            "grid_area": null,
            "grid_template_columns": null,
            "flex": null,
            "_model_name": "LayoutModel",
            "justify_items": null,
            "grid_row": null,
            "max_height": null,
            "align_content": null,
            "visibility": null,
            "align_self": null,
            "height": null,
            "min_height": null,
            "padding": null,
            "grid_auto_rows": null,
            "grid_gap": null,
            "max_width": null,
            "order": null,
            "_view_module_version": "1.2.0",
            "grid_template_areas": null,
            "object_position": null,
            "object_fit": null,
            "grid_auto_columns": null,
            "margin": null,
            "display": null,
            "left": null
          }
        },
        "82674434aaa74cc09a30e272719291c2": {
          "model_module": "@jupyter-widgets/controls",
          "model_name": "HTMLModel",
          "model_module_version": "1.5.0",
          "state": {
            "_view_name": "HTMLView",
            "style": "IPY_MODEL_2506a5df41a045cba71c3077b79da5ee",
            "_dom_classes": [],
            "description": "",
            "_model_name": "HTMLModel",
            "placeholder": "​",
            "_view_module": "@jupyter-widgets/controls",
            "_model_module_version": "1.5.0",
            "value": "100%",
            "_view_count": null,
            "_view_module_version": "1.5.0",
            "description_tooltip": null,
            "_model_module": "@jupyter-widgets/controls",
            "layout": "IPY_MODEL_6fc8287e30564c3185a950588e926099"
          }
        },
        "f4773b6a44bc4887bc0ab167aae4fd00": {
          "model_module": "@jupyter-widgets/controls",
          "model_name": "FloatProgressModel",
          "model_module_version": "1.5.0",
          "state": {
            "_view_name": "ProgressView",
            "style": "IPY_MODEL_8503c843b17a4b11a051c9b1d9b12d28",
            "_dom_classes": [],
            "description": "",
            "_model_name": "FloatProgressModel",
            "bar_style": "success",
            "max": 89843225,
            "_view_module": "@jupyter-widgets/controls",
            "_model_module_version": "1.5.0",
            "value": 89843225,
            "_view_count": null,
            "_view_module_version": "1.5.0",
            "orientation": "horizontal",
            "min": 0,
            "description_tooltip": null,
            "_model_module": "@jupyter-widgets/controls",
            "layout": "IPY_MODEL_f7401af7ba9c42b68193e2dba9cda647"
          }
        },
        "5997ce6f416e47cbac180c82c5333b88": {
          "model_module": "@jupyter-widgets/controls",
          "model_name": "HTMLModel",
          "model_module_version": "1.5.0",
          "state": {
            "_view_name": "HTMLView",
            "style": "IPY_MODEL_9d068104fd3c4a6eb46a6a9bf485b8e1",
            "_dom_classes": [],
            "description": "",
            "_model_name": "HTMLModel",
            "placeholder": "​",
            "_view_module": "@jupyter-widgets/controls",
            "_model_module_version": "1.5.0",
            "value": " 85.7M/85.7M [00:03&lt;00:00, 26.2MB/s]",
            "_view_count": null,
            "_view_module_version": "1.5.0",
            "description_tooltip": null,
            "_model_module": "@jupyter-widgets/controls",
            "layout": "IPY_MODEL_c3e34cb83645481db923332c4efd7df0"
          }
        },
        "2506a5df41a045cba71c3077b79da5ee": {
          "model_module": "@jupyter-widgets/controls",
          "model_name": "DescriptionStyleModel",
          "model_module_version": "1.5.0",
          "state": {
            "_view_name": "StyleView",
            "_model_name": "DescriptionStyleModel",
            "description_width": "",
            "_view_module": "@jupyter-widgets/base",
            "_model_module_version": "1.5.0",
            "_view_count": null,
            "_view_module_version": "1.2.0",
            "_model_module": "@jupyter-widgets/controls"
          }
        },
        "6fc8287e30564c3185a950588e926099": {
          "model_module": "@jupyter-widgets/base",
          "model_name": "LayoutModel",
          "model_module_version": "1.2.0",
          "state": {
            "_view_name": "LayoutView",
            "grid_template_rows": null,
            "right": null,
            "justify_content": null,
            "_view_module": "@jupyter-widgets/base",
            "overflow": null,
            "_model_module_version": "1.2.0",
            "_view_count": null,
            "flex_flow": null,
            "width": null,
            "min_width": null,
            "border": null,
            "align_items": null,
            "bottom": null,
            "_model_module": "@jupyter-widgets/base",
            "top": null,
            "grid_column": null,
            "overflow_y": null,
            "overflow_x": null,
            "grid_auto_flow": null,
            "grid_area": null,
            "grid_template_columns": null,
            "flex": null,
            "_model_name": "LayoutModel",
            "justify_items": null,
            "grid_row": null,
            "max_height": null,
            "align_content": null,
            "visibility": null,
            "align_self": null,
            "height": null,
            "min_height": null,
            "padding": null,
            "grid_auto_rows": null,
            "grid_gap": null,
            "max_width": null,
            "order": null,
            "_view_module_version": "1.2.0",
            "grid_template_areas": null,
            "object_position": null,
            "object_fit": null,
            "grid_auto_columns": null,
            "margin": null,
            "display": null,
            "left": null
          }
        },
        "8503c843b17a4b11a051c9b1d9b12d28": {
          "model_module": "@jupyter-widgets/controls",
          "model_name": "ProgressStyleModel",
          "model_module_version": "1.5.0",
          "state": {
            "_view_name": "StyleView",
            "_model_name": "ProgressStyleModel",
            "description_width": "",
            "_view_module": "@jupyter-widgets/base",
            "_model_module_version": "1.5.0",
            "_view_count": null,
            "_view_module_version": "1.2.0",
            "bar_color": null,
            "_model_module": "@jupyter-widgets/controls"
          }
        },
        "f7401af7ba9c42b68193e2dba9cda647": {
          "model_module": "@jupyter-widgets/base",
          "model_name": "LayoutModel",
          "model_module_version": "1.2.0",
          "state": {
            "_view_name": "LayoutView",
            "grid_template_rows": null,
            "right": null,
            "justify_content": null,
            "_view_module": "@jupyter-widgets/base",
            "overflow": null,
            "_model_module_version": "1.2.0",
            "_view_count": null,
            "flex_flow": null,
            "width": null,
            "min_width": null,
            "border": null,
            "align_items": null,
            "bottom": null,
            "_model_module": "@jupyter-widgets/base",
            "top": null,
            "grid_column": null,
            "overflow_y": null,
            "overflow_x": null,
            "grid_auto_flow": null,
            "grid_area": null,
            "grid_template_columns": null,
            "flex": null,
            "_model_name": "LayoutModel",
            "justify_items": null,
            "grid_row": null,
            "max_height": null,
            "align_content": null,
            "visibility": null,
            "align_self": null,
            "height": null,
            "min_height": null,
            "padding": null,
            "grid_auto_rows": null,
            "grid_gap": null,
            "max_width": null,
            "order": null,
            "_view_module_version": "1.2.0",
            "grid_template_areas": null,
            "object_position": null,
            "object_fit": null,
            "grid_auto_columns": null,
            "margin": null,
            "display": null,
            "left": null
          }
        },
        "9d068104fd3c4a6eb46a6a9bf485b8e1": {
          "model_module": "@jupyter-widgets/controls",
          "model_name": "DescriptionStyleModel",
          "model_module_version": "1.5.0",
          "state": {
            "_view_name": "StyleView",
            "_model_name": "DescriptionStyleModel",
            "description_width": "",
            "_view_module": "@jupyter-widgets/base",
            "_model_module_version": "1.5.0",
            "_view_count": null,
            "_view_module_version": "1.2.0",
            "_model_module": "@jupyter-widgets/controls"
          }
        },
        "c3e34cb83645481db923332c4efd7df0": {
          "model_module": "@jupyter-widgets/base",
          "model_name": "LayoutModel",
          "model_module_version": "1.2.0",
          "state": {
            "_view_name": "LayoutView",
            "grid_template_rows": null,
            "right": null,
            "justify_content": null,
            "_view_module": "@jupyter-widgets/base",
            "overflow": null,
            "_model_module_version": "1.2.0",
            "_view_count": null,
            "flex_flow": null,
            "width": null,
            "min_width": null,
            "border": null,
            "align_items": null,
            "bottom": null,
            "_model_module": "@jupyter-widgets/base",
            "top": null,
            "grid_column": null,
            "overflow_y": null,
            "overflow_x": null,
            "grid_auto_flow": null,
            "grid_area": null,
            "grid_template_columns": null,
            "flex": null,
            "_model_name": "LayoutModel",
            "justify_items": null,
            "grid_row": null,
            "max_height": null,
            "align_content": null,
            "visibility": null,
            "align_self": null,
            "height": null,
            "min_height": null,
            "padding": null,
            "grid_auto_rows": null,
            "grid_gap": null,
            "max_width": null,
            "order": null,
            "_view_module_version": "1.2.0",
            "grid_template_areas": null,
            "object_position": null,
            "object_fit": null,
            "grid_auto_columns": null,
            "margin": null,
            "display": null,
            "left": null
          }
        },
        "b5d908f45f824a249cefd86a53b398e3": {
          "model_module": "@jupyter-widgets/controls",
          "model_name": "HBoxModel",
          "model_module_version": "1.5.0",
          "state": {
            "_view_name": "HBoxView",
            "_dom_classes": [],
            "_model_name": "HBoxModel",
            "_view_module": "@jupyter-widgets/controls",
            "_model_module_version": "1.5.0",
            "_view_count": null,
            "_view_module_version": "1.5.0",
            "box_style": "",
            "layout": "IPY_MODEL_5157fb0e38a44761a4fc90511b854e09",
            "_model_module": "@jupyter-widgets/controls",
            "children": [
              "IPY_MODEL_a66bd3e2d4364b4280beff48fb6c556d",
              "IPY_MODEL_1100395c16064ce8865557160301015b",
              "IPY_MODEL_5634612eb2af4f5fb9bef64c3ba2fc54"
            ]
          }
        },
        "5157fb0e38a44761a4fc90511b854e09": {
          "model_module": "@jupyter-widgets/base",
          "model_name": "LayoutModel",
          "model_module_version": "1.2.0",
          "state": {
            "_view_name": "LayoutView",
            "grid_template_rows": null,
            "right": null,
            "justify_content": null,
            "_view_module": "@jupyter-widgets/base",
            "overflow": null,
            "_model_module_version": "1.2.0",
            "_view_count": null,
            "flex_flow": null,
            "width": null,
            "min_width": null,
            "border": null,
            "align_items": null,
            "bottom": null,
            "_model_module": "@jupyter-widgets/base",
            "top": null,
            "grid_column": null,
            "overflow_y": null,
            "overflow_x": null,
            "grid_auto_flow": null,
            "grid_area": null,
            "grid_template_columns": null,
            "flex": null,
            "_model_name": "LayoutModel",
            "justify_items": null,
            "grid_row": null,
            "max_height": null,
            "align_content": null,
            "visibility": null,
            "align_self": null,
            "height": null,
            "min_height": null,
            "padding": null,
            "grid_auto_rows": null,
            "grid_gap": null,
            "max_width": null,
            "order": null,
            "_view_module_version": "1.2.0",
            "grid_template_areas": null,
            "object_position": null,
            "object_fit": null,
            "grid_auto_columns": null,
            "margin": null,
            "display": null,
            "left": null
          }
        },
        "a66bd3e2d4364b4280beff48fb6c556d": {
          "model_module": "@jupyter-widgets/controls",
          "model_name": "HTMLModel",
          "model_module_version": "1.5.0",
          "state": {
            "_view_name": "HTMLView",
            "style": "IPY_MODEL_6d7d77187c6e46b5adc53fa65305a9d8",
            "_dom_classes": [],
            "description": "",
            "_model_name": "HTMLModel",
            "placeholder": "​",
            "_view_module": "@jupyter-widgets/controls",
            "_model_module_version": "1.5.0",
            "value": "100%",
            "_view_count": null,
            "_view_module_version": "1.5.0",
            "description_tooltip": null,
            "_model_module": "@jupyter-widgets/controls",
            "layout": "IPY_MODEL_31c7f6a9365548d49fdabd47d0b56b76"
          }
        },
        "1100395c16064ce8865557160301015b": {
          "model_module": "@jupyter-widgets/controls",
          "model_name": "FloatProgressModel",
          "model_module_version": "1.5.0",
          "state": {
            "_view_name": "ProgressView",
            "style": "IPY_MODEL_9787565919bb47e6b87539b33b75df8c",
            "_dom_classes": [],
            "description": "",
            "_model_name": "FloatProgressModel",
            "bar_style": "success",
            "max": 96316515,
            "_view_module": "@jupyter-widgets/controls",
            "_model_module_version": "1.5.0",
            "value": 96316515,
            "_view_count": null,
            "_view_module_version": "1.5.0",
            "orientation": "horizontal",
            "min": 0,
            "description_tooltip": null,
            "_model_module": "@jupyter-widgets/controls",
            "layout": "IPY_MODEL_e5c6f5402cb6423c9d12910319b0c9eb"
          }
        },
        "5634612eb2af4f5fb9bef64c3ba2fc54": {
          "model_module": "@jupyter-widgets/controls",
          "model_name": "HTMLModel",
          "model_module_version": "1.5.0",
          "state": {
            "_view_name": "HTMLView",
            "style": "IPY_MODEL_754a3be6407a446ea2375d895b0bcc21",
            "_dom_classes": [],
            "description": "",
            "_model_name": "HTMLModel",
            "placeholder": "​",
            "_view_module": "@jupyter-widgets/controls",
            "_model_module_version": "1.5.0",
            "value": " 91.9M/91.9M [00:03&lt;00:00, 30.9MB/s]",
            "_view_count": null,
            "_view_module_version": "1.5.0",
            "description_tooltip": null,
            "_model_module": "@jupyter-widgets/controls",
            "layout": "IPY_MODEL_5db7a5d1b445498389bd7ef1e8fc1d52"
          }
        },
        "6d7d77187c6e46b5adc53fa65305a9d8": {
          "model_module": "@jupyter-widgets/controls",
          "model_name": "DescriptionStyleModel",
          "model_module_version": "1.5.0",
          "state": {
            "_view_name": "StyleView",
            "_model_name": "DescriptionStyleModel",
            "description_width": "",
            "_view_module": "@jupyter-widgets/base",
            "_model_module_version": "1.5.0",
            "_view_count": null,
            "_view_module_version": "1.2.0",
            "_model_module": "@jupyter-widgets/controls"
          }
        },
        "31c7f6a9365548d49fdabd47d0b56b76": {
          "model_module": "@jupyter-widgets/base",
          "model_name": "LayoutModel",
          "model_module_version": "1.2.0",
          "state": {
            "_view_name": "LayoutView",
            "grid_template_rows": null,
            "right": null,
            "justify_content": null,
            "_view_module": "@jupyter-widgets/base",
            "overflow": null,
            "_model_module_version": "1.2.0",
            "_view_count": null,
            "flex_flow": null,
            "width": null,
            "min_width": null,
            "border": null,
            "align_items": null,
            "bottom": null,
            "_model_module": "@jupyter-widgets/base",
            "top": null,
            "grid_column": null,
            "overflow_y": null,
            "overflow_x": null,
            "grid_auto_flow": null,
            "grid_area": null,
            "grid_template_columns": null,
            "flex": null,
            "_model_name": "LayoutModel",
            "justify_items": null,
            "grid_row": null,
            "max_height": null,
            "align_content": null,
            "visibility": null,
            "align_self": null,
            "height": null,
            "min_height": null,
            "padding": null,
            "grid_auto_rows": null,
            "grid_gap": null,
            "max_width": null,
            "order": null,
            "_view_module_version": "1.2.0",
            "grid_template_areas": null,
            "object_position": null,
            "object_fit": null,
            "grid_auto_columns": null,
            "margin": null,
            "display": null,
            "left": null
          }
        },
        "9787565919bb47e6b87539b33b75df8c": {
          "model_module": "@jupyter-widgets/controls",
          "model_name": "ProgressStyleModel",
          "model_module_version": "1.5.0",
          "state": {
            "_view_name": "StyleView",
            "_model_name": "ProgressStyleModel",
            "description_width": "",
            "_view_module": "@jupyter-widgets/base",
            "_model_module_version": "1.5.0",
            "_view_count": null,
            "_view_module_version": "1.2.0",
            "bar_color": null,
            "_model_module": "@jupyter-widgets/controls"
          }
        },
        "e5c6f5402cb6423c9d12910319b0c9eb": {
          "model_module": "@jupyter-widgets/base",
          "model_name": "LayoutModel",
          "model_module_version": "1.2.0",
          "state": {
            "_view_name": "LayoutView",
            "grid_template_rows": null,
            "right": null,
            "justify_content": null,
            "_view_module": "@jupyter-widgets/base",
            "overflow": null,
            "_model_module_version": "1.2.0",
            "_view_count": null,
            "flex_flow": null,
            "width": null,
            "min_width": null,
            "border": null,
            "align_items": null,
            "bottom": null,
            "_model_module": "@jupyter-widgets/base",
            "top": null,
            "grid_column": null,
            "overflow_y": null,
            "overflow_x": null,
            "grid_auto_flow": null,
            "grid_area": null,
            "grid_template_columns": null,
            "flex": null,
            "_model_name": "LayoutModel",
            "justify_items": null,
            "grid_row": null,
            "max_height": null,
            "align_content": null,
            "visibility": null,
            "align_self": null,
            "height": null,
            "min_height": null,
            "padding": null,
            "grid_auto_rows": null,
            "grid_gap": null,
            "max_width": null,
            "order": null,
            "_view_module_version": "1.2.0",
            "grid_template_areas": null,
            "object_position": null,
            "object_fit": null,
            "grid_auto_columns": null,
            "margin": null,
            "display": null,
            "left": null
          }
        },
        "754a3be6407a446ea2375d895b0bcc21": {
          "model_module": "@jupyter-widgets/controls",
          "model_name": "DescriptionStyleModel",
          "model_module_version": "1.5.0",
          "state": {
            "_view_name": "StyleView",
            "_model_name": "DescriptionStyleModel",
            "description_width": "",
            "_view_module": "@jupyter-widgets/base",
            "_model_module_version": "1.5.0",
            "_view_count": null,
            "_view_module_version": "1.2.0",
            "_model_module": "@jupyter-widgets/controls"
          }
        },
        "5db7a5d1b445498389bd7ef1e8fc1d52": {
          "model_module": "@jupyter-widgets/base",
          "model_name": "LayoutModel",
          "model_module_version": "1.2.0",
          "state": {
            "_view_name": "LayoutView",
            "grid_template_rows": null,
            "right": null,
            "justify_content": null,
            "_view_module": "@jupyter-widgets/base",
            "overflow": null,
            "_model_module_version": "1.2.0",
            "_view_count": null,
            "flex_flow": null,
            "width": null,
            "min_width": null,
            "border": null,
            "align_items": null,
            "bottom": null,
            "_model_module": "@jupyter-widgets/base",
            "top": null,
            "grid_column": null,
            "overflow_y": null,
            "overflow_x": null,
            "grid_auto_flow": null,
            "grid_area": null,
            "grid_template_columns": null,
            "flex": null,
            "_model_name": "LayoutModel",
            "justify_items": null,
            "grid_row": null,
            "max_height": null,
            "align_content": null,
            "visibility": null,
            "align_self": null,
            "height": null,
            "min_height": null,
            "padding": null,
            "grid_auto_rows": null,
            "grid_gap": null,
            "max_width": null,
            "order": null,
            "_view_module_version": "1.2.0",
            "grid_template_areas": null,
            "object_position": null,
            "object_fit": null,
            "grid_auto_columns": null,
            "margin": null,
            "display": null,
            "left": null
          }
        },
        "367c924aa266453fb9b9856a4561a0d6": {
          "model_module": "@jupyter-widgets/controls",
          "model_name": "HBoxModel",
          "model_module_version": "1.5.0",
          "state": {
            "_view_name": "HBoxView",
            "_dom_classes": [],
            "_model_name": "HBoxModel",
            "_view_module": "@jupyter-widgets/controls",
            "_model_module_version": "1.5.0",
            "_view_count": null,
            "_view_module_version": "1.5.0",
            "box_style": "",
            "layout": "IPY_MODEL_553af811bc984bb9a2d0807007e43255",
            "_model_module": "@jupyter-widgets/controls",
            "children": [
              "IPY_MODEL_cc5e5f9857e44e7695826de9b4fc1012",
              "IPY_MODEL_11b9be4ccac246948a414928ccbfe116",
              "IPY_MODEL_8d5aa6b5d99c4e868a67ae29453ee184"
            ]
          }
        },
        "553af811bc984bb9a2d0807007e43255": {
          "model_module": "@jupyter-widgets/base",
          "model_name": "LayoutModel",
          "model_module_version": "1.2.0",
          "state": {
            "_view_name": "LayoutView",
            "grid_template_rows": null,
            "right": null,
            "justify_content": null,
            "_view_module": "@jupyter-widgets/base",
            "overflow": null,
            "_model_module_version": "1.2.0",
            "_view_count": null,
            "flex_flow": null,
            "width": null,
            "min_width": null,
            "border": null,
            "align_items": null,
            "bottom": null,
            "_model_module": "@jupyter-widgets/base",
            "top": null,
            "grid_column": null,
            "overflow_y": null,
            "overflow_x": null,
            "grid_auto_flow": null,
            "grid_area": null,
            "grid_template_columns": null,
            "flex": null,
            "_model_name": "LayoutModel",
            "justify_items": null,
            "grid_row": null,
            "max_height": null,
            "align_content": null,
            "visibility": null,
            "align_self": null,
            "height": null,
            "min_height": null,
            "padding": null,
            "grid_auto_rows": null,
            "grid_gap": null,
            "max_width": null,
            "order": null,
            "_view_module_version": "1.2.0",
            "grid_template_areas": null,
            "object_position": null,
            "object_fit": null,
            "grid_auto_columns": null,
            "margin": null,
            "display": null,
            "left": null
          }
        },
        "cc5e5f9857e44e7695826de9b4fc1012": {
          "model_module": "@jupyter-widgets/controls",
          "model_name": "HTMLModel",
          "model_module_version": "1.5.0",
          "state": {
            "_view_name": "HTMLView",
            "style": "IPY_MODEL_4a8672e3886a49568e405791eaee92e2",
            "_dom_classes": [],
            "description": "",
            "_model_name": "HTMLModel",
            "placeholder": "​",
            "_view_module": "@jupyter-widgets/controls",
            "_model_module_version": "1.5.0",
            "value": "100%",
            "_view_count": null,
            "_view_module_version": "1.5.0",
            "description_tooltip": null,
            "_model_module": "@jupyter-widgets/controls",
            "layout": "IPY_MODEL_a1928113bfda408dbb2e10311a8a0b37"
          }
        },
        "11b9be4ccac246948a414928ccbfe116": {
          "model_module": "@jupyter-widgets/controls",
          "model_name": "FloatProgressModel",
          "model_module_version": "1.5.0",
          "state": {
            "_view_name": "ProgressView",
            "style": "IPY_MODEL_9090cf7bc78144338c16a74f8c1399f0",
            "_dom_classes": [],
            "description": "",
            "_model_name": "FloatProgressModel",
            "bar_style": "success",
            "max": 235314250,
            "_view_module": "@jupyter-widgets/controls",
            "_model_module_version": "1.5.0",
            "value": 235314250,
            "_view_count": null,
            "_view_module_version": "1.5.0",
            "orientation": "horizontal",
            "min": 0,
            "description_tooltip": null,
            "_model_module": "@jupyter-widgets/controls",
            "layout": "IPY_MODEL_f9975509ca5d4e3d8ac202b3ccacff7d"
          }
        },
        "8d5aa6b5d99c4e868a67ae29453ee184": {
          "model_module": "@jupyter-widgets/controls",
          "model_name": "HTMLModel",
          "model_module_version": "1.5.0",
          "state": {
            "_view_name": "HTMLView",
            "style": "IPY_MODEL_93f8b1d85ac14aabb6c457ca97fdb17d",
            "_dom_classes": [],
            "description": "",
            "_model_name": "HTMLModel",
            "placeholder": "​",
            "_view_module": "@jupyter-widgets/controls",
            "_model_module_version": "1.5.0",
            "value": " 224M/224M [00:08&lt;00:00, 30.1MB/s]",
            "_view_count": null,
            "_view_module_version": "1.5.0",
            "description_tooltip": null,
            "_model_module": "@jupyter-widgets/controls",
            "layout": "IPY_MODEL_85f3ad5937cc4cbb972400c62d952d17"
          }
        },
        "4a8672e3886a49568e405791eaee92e2": {
          "model_module": "@jupyter-widgets/controls",
          "model_name": "DescriptionStyleModel",
          "model_module_version": "1.5.0",
          "state": {
            "_view_name": "StyleView",
            "_model_name": "DescriptionStyleModel",
            "description_width": "",
            "_view_module": "@jupyter-widgets/base",
            "_model_module_version": "1.5.0",
            "_view_count": null,
            "_view_module_version": "1.2.0",
            "_model_module": "@jupyter-widgets/controls"
          }
        },
        "a1928113bfda408dbb2e10311a8a0b37": {
          "model_module": "@jupyter-widgets/base",
          "model_name": "LayoutModel",
          "model_module_version": "1.2.0",
          "state": {
            "_view_name": "LayoutView",
            "grid_template_rows": null,
            "right": null,
            "justify_content": null,
            "_view_module": "@jupyter-widgets/base",
            "overflow": null,
            "_model_module_version": "1.2.0",
            "_view_count": null,
            "flex_flow": null,
            "width": null,
            "min_width": null,
            "border": null,
            "align_items": null,
            "bottom": null,
            "_model_module": "@jupyter-widgets/base",
            "top": null,
            "grid_column": null,
            "overflow_y": null,
            "overflow_x": null,
            "grid_auto_flow": null,
            "grid_area": null,
            "grid_template_columns": null,
            "flex": null,
            "_model_name": "LayoutModel",
            "justify_items": null,
            "grid_row": null,
            "max_height": null,
            "align_content": null,
            "visibility": null,
            "align_self": null,
            "height": null,
            "min_height": null,
            "padding": null,
            "grid_auto_rows": null,
            "grid_gap": null,
            "max_width": null,
            "order": null,
            "_view_module_version": "1.2.0",
            "grid_template_areas": null,
            "object_position": null,
            "object_fit": null,
            "grid_auto_columns": null,
            "margin": null,
            "display": null,
            "left": null
          }
        },
        "9090cf7bc78144338c16a74f8c1399f0": {
          "model_module": "@jupyter-widgets/controls",
          "model_name": "ProgressStyleModel",
          "model_module_version": "1.5.0",
          "state": {
            "_view_name": "StyleView",
            "_model_name": "ProgressStyleModel",
            "description_width": "",
            "_view_module": "@jupyter-widgets/base",
            "_model_module_version": "1.5.0",
            "_view_count": null,
            "_view_module_version": "1.2.0",
            "bar_color": null,
            "_model_module": "@jupyter-widgets/controls"
          }
        },
        "f9975509ca5d4e3d8ac202b3ccacff7d": {
          "model_module": "@jupyter-widgets/base",
          "model_name": "LayoutModel",
          "model_module_version": "1.2.0",
          "state": {
            "_view_name": "LayoutView",
            "grid_template_rows": null,
            "right": null,
            "justify_content": null,
            "_view_module": "@jupyter-widgets/base",
            "overflow": null,
            "_model_module_version": "1.2.0",
            "_view_count": null,
            "flex_flow": null,
            "width": null,
            "min_width": null,
            "border": null,
            "align_items": null,
            "bottom": null,
            "_model_module": "@jupyter-widgets/base",
            "top": null,
            "grid_column": null,
            "overflow_y": null,
            "overflow_x": null,
            "grid_auto_flow": null,
            "grid_area": null,
            "grid_template_columns": null,
            "flex": null,
            "_model_name": "LayoutModel",
            "justify_items": null,
            "grid_row": null,
            "max_height": null,
            "align_content": null,
            "visibility": null,
            "align_self": null,
            "height": null,
            "min_height": null,
            "padding": null,
            "grid_auto_rows": null,
            "grid_gap": null,
            "max_width": null,
            "order": null,
            "_view_module_version": "1.2.0",
            "grid_template_areas": null,
            "object_position": null,
            "object_fit": null,
            "grid_auto_columns": null,
            "margin": null,
            "display": null,
            "left": null
          }
        },
        "93f8b1d85ac14aabb6c457ca97fdb17d": {
          "model_module": "@jupyter-widgets/controls",
          "model_name": "DescriptionStyleModel",
          "model_module_version": "1.5.0",
          "state": {
            "_view_name": "StyleView",
            "_model_name": "DescriptionStyleModel",
            "description_width": "",
            "_view_module": "@jupyter-widgets/base",
            "_model_module_version": "1.5.0",
            "_view_count": null,
            "_view_module_version": "1.2.0",
            "_model_module": "@jupyter-widgets/controls"
          }
        },
        "85f3ad5937cc4cbb972400c62d952d17": {
          "model_module": "@jupyter-widgets/base",
          "model_name": "LayoutModel",
          "model_module_version": "1.2.0",
          "state": {
            "_view_name": "LayoutView",
            "grid_template_rows": null,
            "right": null,
            "justify_content": null,
            "_view_module": "@jupyter-widgets/base",
            "overflow": null,
            "_model_module_version": "1.2.0",
            "_view_count": null,
            "flex_flow": null,
            "width": null,
            "min_width": null,
            "border": null,
            "align_items": null,
            "bottom": null,
            "_model_module": "@jupyter-widgets/base",
            "top": null,
            "grid_column": null,
            "overflow_y": null,
            "overflow_x": null,
            "grid_auto_flow": null,
            "grid_area": null,
            "grid_template_columns": null,
            "flex": null,
            "_model_name": "LayoutModel",
            "justify_items": null,
            "grid_row": null,
            "max_height": null,
            "align_content": null,
            "visibility": null,
            "align_self": null,
            "height": null,
            "min_height": null,
            "padding": null,
            "grid_auto_rows": null,
            "grid_gap": null,
            "max_width": null,
            "order": null,
            "_view_module_version": "1.2.0",
            "grid_template_areas": null,
            "object_position": null,
            "object_fit": null,
            "grid_auto_columns": null,
            "margin": null,
            "display": null,
            "left": null
          }
        },
        "a67ea9bdbb9c464aa6baa387dd348eec": {
          "model_module": "@jupyter-widgets/controls",
          "model_name": "HBoxModel",
          "model_module_version": "1.5.0",
          "state": {
            "_view_name": "HBoxView",
            "_dom_classes": [],
            "_model_name": "HBoxModel",
            "_view_module": "@jupyter-widgets/controls",
            "_model_module_version": "1.5.0",
            "_view_count": null,
            "_view_module_version": "1.5.0",
            "box_style": "",
            "layout": "IPY_MODEL_b0b8eeba87dc42d989eb867df5cd09b2",
            "_model_module": "@jupyter-widgets/controls",
            "children": [
              "IPY_MODEL_73ce35ef56a844a49ef02259598c70fc",
              "IPY_MODEL_2f6bd5d91895434e87b66d1f9bce6553",
              "IPY_MODEL_48a9f73f3fa3446e84463856cdfdd55d"
            ]
          }
        },
        "b0b8eeba87dc42d989eb867df5cd09b2": {
          "model_module": "@jupyter-widgets/base",
          "model_name": "LayoutModel",
          "model_module_version": "1.2.0",
          "state": {
            "_view_name": "LayoutView",
            "grid_template_rows": null,
            "right": null,
            "justify_content": null,
            "_view_module": "@jupyter-widgets/base",
            "overflow": null,
            "_model_module_version": "1.2.0",
            "_view_count": null,
            "flex_flow": null,
            "width": null,
            "min_width": null,
            "border": null,
            "align_items": null,
            "bottom": null,
            "_model_module": "@jupyter-widgets/base",
            "top": null,
            "grid_column": null,
            "overflow_y": null,
            "overflow_x": null,
            "grid_auto_flow": null,
            "grid_area": null,
            "grid_template_columns": null,
            "flex": null,
            "_model_name": "LayoutModel",
            "justify_items": null,
            "grid_row": null,
            "max_height": null,
            "align_content": null,
            "visibility": null,
            "align_self": null,
            "height": null,
            "min_height": null,
            "padding": null,
            "grid_auto_rows": null,
            "grid_gap": null,
            "max_width": null,
            "order": null,
            "_view_module_version": "1.2.0",
            "grid_template_areas": null,
            "object_position": null,
            "object_fit": null,
            "grid_auto_columns": null,
            "margin": null,
            "display": null,
            "left": null
          }
        },
        "73ce35ef56a844a49ef02259598c70fc": {
          "model_module": "@jupyter-widgets/controls",
          "model_name": "HTMLModel",
          "model_module_version": "1.5.0",
          "state": {
            "_view_name": "HTMLView",
            "style": "IPY_MODEL_f59f01f34072424b95bdf43aab32106b",
            "_dom_classes": [],
            "description": "",
            "_model_name": "HTMLModel",
            "placeholder": "​",
            "_view_module": "@jupyter-widgets/controls",
            "_model_module_version": "1.5.0",
            "value": "100%",
            "_view_count": null,
            "_view_module_version": "1.5.0",
            "description_tooltip": null,
            "_model_module": "@jupyter-widgets/controls",
            "layout": "IPY_MODEL_6a660190f3e14cf3a916ca454ec2dd75"
          }
        },
        "2f6bd5d91895434e87b66d1f9bce6553": {
          "model_module": "@jupyter-widgets/controls",
          "model_name": "FloatProgressModel",
          "model_module_version": "1.5.0",
          "state": {
            "_view_name": "ProgressView",
            "style": "IPY_MODEL_b5d6b89dbd9c4dd2a0eb65ffbc925c62",
            "_dom_classes": [],
            "description": "",
            "_model_name": "FloatProgressModel",
            "bar_style": "success",
            "max": 46830571,
            "_view_module": "@jupyter-widgets/controls",
            "_model_module_version": "1.5.0",
            "value": 46830571,
            "_view_count": null,
            "_view_module_version": "1.5.0",
            "orientation": "horizontal",
            "min": 0,
            "description_tooltip": null,
            "_model_module": "@jupyter-widgets/controls",
            "layout": "IPY_MODEL_5baf4c6b42de44b3ba263ec37f24533e"
          }
        },
        "48a9f73f3fa3446e84463856cdfdd55d": {
          "model_module": "@jupyter-widgets/controls",
          "model_name": "HTMLModel",
          "model_module_version": "1.5.0",
          "state": {
            "_view_name": "HTMLView",
            "style": "IPY_MODEL_f136291d295a49c594eff6a9ce02c5ba",
            "_dom_classes": [],
            "description": "",
            "_model_name": "HTMLModel",
            "placeholder": "​",
            "_view_module": "@jupyter-widgets/controls",
            "_model_module_version": "1.5.0",
            "value": " 44.7M/44.7M [00:00&lt;00:00, 91.8MB/s]",
            "_view_count": null,
            "_view_module_version": "1.5.0",
            "description_tooltip": null,
            "_model_module": "@jupyter-widgets/controls",
            "layout": "IPY_MODEL_167bab8bbbe441ddb4f159bd171462d6"
          }
        },
        "f59f01f34072424b95bdf43aab32106b": {
          "model_module": "@jupyter-widgets/controls",
          "model_name": "DescriptionStyleModel",
          "model_module_version": "1.5.0",
          "state": {
            "_view_name": "StyleView",
            "_model_name": "DescriptionStyleModel",
            "description_width": "",
            "_view_module": "@jupyter-widgets/base",
            "_model_module_version": "1.5.0",
            "_view_count": null,
            "_view_module_version": "1.2.0",
            "_model_module": "@jupyter-widgets/controls"
          }
        },
        "6a660190f3e14cf3a916ca454ec2dd75": {
          "model_module": "@jupyter-widgets/base",
          "model_name": "LayoutModel",
          "model_module_version": "1.2.0",
          "state": {
            "_view_name": "LayoutView",
            "grid_template_rows": null,
            "right": null,
            "justify_content": null,
            "_view_module": "@jupyter-widgets/base",
            "overflow": null,
            "_model_module_version": "1.2.0",
            "_view_count": null,
            "flex_flow": null,
            "width": null,
            "min_width": null,
            "border": null,
            "align_items": null,
            "bottom": null,
            "_model_module": "@jupyter-widgets/base",
            "top": null,
            "grid_column": null,
            "overflow_y": null,
            "overflow_x": null,
            "grid_auto_flow": null,
            "grid_area": null,
            "grid_template_columns": null,
            "flex": null,
            "_model_name": "LayoutModel",
            "justify_items": null,
            "grid_row": null,
            "max_height": null,
            "align_content": null,
            "visibility": null,
            "align_self": null,
            "height": null,
            "min_height": null,
            "padding": null,
            "grid_auto_rows": null,
            "grid_gap": null,
            "max_width": null,
            "order": null,
            "_view_module_version": "1.2.0",
            "grid_template_areas": null,
            "object_position": null,
            "object_fit": null,
            "grid_auto_columns": null,
            "margin": null,
            "display": null,
            "left": null
          }
        },
        "b5d6b89dbd9c4dd2a0eb65ffbc925c62": {
          "model_module": "@jupyter-widgets/controls",
          "model_name": "ProgressStyleModel",
          "model_module_version": "1.5.0",
          "state": {
            "_view_name": "StyleView",
            "_model_name": "ProgressStyleModel",
            "description_width": "",
            "_view_module": "@jupyter-widgets/base",
            "_model_module_version": "1.5.0",
            "_view_count": null,
            "_view_module_version": "1.2.0",
            "bar_color": null,
            "_model_module": "@jupyter-widgets/controls"
          }
        },
        "5baf4c6b42de44b3ba263ec37f24533e": {
          "model_module": "@jupyter-widgets/base",
          "model_name": "LayoutModel",
          "model_module_version": "1.2.0",
          "state": {
            "_view_name": "LayoutView",
            "grid_template_rows": null,
            "right": null,
            "justify_content": null,
            "_view_module": "@jupyter-widgets/base",
            "overflow": null,
            "_model_module_version": "1.2.0",
            "_view_count": null,
            "flex_flow": null,
            "width": null,
            "min_width": null,
            "border": null,
            "align_items": null,
            "bottom": null,
            "_model_module": "@jupyter-widgets/base",
            "top": null,
            "grid_column": null,
            "overflow_y": null,
            "overflow_x": null,
            "grid_auto_flow": null,
            "grid_area": null,
            "grid_template_columns": null,
            "flex": null,
            "_model_name": "LayoutModel",
            "justify_items": null,
            "grid_row": null,
            "max_height": null,
            "align_content": null,
            "visibility": null,
            "align_self": null,
            "height": null,
            "min_height": null,
            "padding": null,
            "grid_auto_rows": null,
            "grid_gap": null,
            "max_width": null,
            "order": null,
            "_view_module_version": "1.2.0",
            "grid_template_areas": null,
            "object_position": null,
            "object_fit": null,
            "grid_auto_columns": null,
            "margin": null,
            "display": null,
            "left": null
          }
        },
        "f136291d295a49c594eff6a9ce02c5ba": {
          "model_module": "@jupyter-widgets/controls",
          "model_name": "DescriptionStyleModel",
          "model_module_version": "1.5.0",
          "state": {
            "_view_name": "StyleView",
            "_model_name": "DescriptionStyleModel",
            "description_width": "",
            "_view_module": "@jupyter-widgets/base",
            "_model_module_version": "1.5.0",
            "_view_count": null,
            "_view_module_version": "1.2.0",
            "_model_module": "@jupyter-widgets/controls"
          }
        },
        "167bab8bbbe441ddb4f159bd171462d6": {
          "model_module": "@jupyter-widgets/base",
          "model_name": "LayoutModel",
          "model_module_version": "1.2.0",
          "state": {
            "_view_name": "LayoutView",
            "grid_template_rows": null,
            "right": null,
            "justify_content": null,
            "_view_module": "@jupyter-widgets/base",
            "overflow": null,
            "_model_module_version": "1.2.0",
            "_view_count": null,
            "flex_flow": null,
            "width": null,
            "min_width": null,
            "border": null,
            "align_items": null,
            "bottom": null,
            "_model_module": "@jupyter-widgets/base",
            "top": null,
            "grid_column": null,
            "overflow_y": null,
            "overflow_x": null,
            "grid_auto_flow": null,
            "grid_area": null,
            "grid_template_columns": null,
            "flex": null,
            "_model_name": "LayoutModel",
            "justify_items": null,
            "grid_row": null,
            "max_height": null,
            "align_content": null,
            "visibility": null,
            "align_self": null,
            "height": null,
            "min_height": null,
            "padding": null,
            "grid_auto_rows": null,
            "grid_gap": null,
            "max_width": null,
            "order": null,
            "_view_module_version": "1.2.0",
            "grid_template_areas": null,
            "object_position": null,
            "object_fit": null,
            "grid_auto_columns": null,
            "margin": null,
            "display": null,
            "left": null
          }
        }
      }
    },
    "accelerator": "GPU"
  },
  "cells": [
    {
      "cell_type": "code",
      "metadata": {
        "colab": {
          "base_uri": "https://localhost:8080/"
        },
        "id": "ZEw1NOesH7jD",
        "outputId": "47008a73-85f4-46fc-a7af-1e409f13c58f"
      },
      "source": [
        "from google.colab import drive\n",
        "drive.mount('/content/drive')"
      ],
      "id": "ZEw1NOesH7jD",
      "execution_count": 3,
      "outputs": [
        {
          "output_type": "stream",
          "name": "stdout",
          "text": [
            "Mounted at /content/drive\n"
          ]
        }
      ]
    },
    {
      "cell_type": "code",
      "metadata": {
        "colab": {
          "base_uri": "https://localhost:8080/"
        },
        "id": "wlQTZHoTJJHw",
        "outputId": "2309cf4e-ff92-49e2-8af6-fcae4afe252f"
      },
      "source": [
        "!pip install patool"
      ],
      "id": "wlQTZHoTJJHw",
      "execution_count": 4,
      "outputs": [
        {
          "output_type": "stream",
          "name": "stdout",
          "text": [
            "Collecting patool\n",
            "  Downloading patool-1.12-py2.py3-none-any.whl (77 kB)\n",
            "\u001b[?25l\r\u001b[K     |████▎                           | 10 kB 24.9 MB/s eta 0:00:01\r\u001b[K     |████████▌                       | 20 kB 30.7 MB/s eta 0:00:01\r\u001b[K     |████████████▊                   | 30 kB 25.4 MB/s eta 0:00:01\r\u001b[K     |█████████████████               | 40 kB 28.0 MB/s eta 0:00:01\r\u001b[K     |█████████████████████▏          | 51 kB 29.4 MB/s eta 0:00:01\r\u001b[K     |█████████████████████████▍      | 61 kB 32.4 MB/s eta 0:00:01\r\u001b[K     |█████████████████████████████▋  | 71 kB 34.4 MB/s eta 0:00:01\r\u001b[K     |████████████████████████████████| 77 kB 6.0 MB/s \n",
            "\u001b[?25hInstalling collected packages: patool\n",
            "Successfully installed patool-1.12\n"
          ]
        }
      ]
    },
    {
      "cell_type": "code",
      "metadata": {
        "colab": {
          "base_uri": "https://localhost:8080/",
          "height": 105
        },
        "id": "GFQoG16yID5Q",
        "outputId": "e0447981-dc93-496c-cd3d-7c0770cb122d"
      },
      "source": [
        "import patoolib\n",
        "patoolib.extract_archive(\"/content/drive/MyDrive/gaze360.rar\", outdir=\"/content\")"
      ],
      "id": "GFQoG16yID5Q",
      "execution_count": 5,
      "outputs": [
        {
          "output_type": "stream",
          "name": "stdout",
          "text": [
            "patool: Extracting /content/drive/MyDrive/gaze360.rar ...\n",
            "patool: running /usr/bin/unrar x -- /content/drive/MyDrive/gaze360.rar\n",
            "patool:     with cwd='/content'\n",
            "patool: ... /content/drive/MyDrive/gaze360.rar extracted to `/content'.\n"
          ]
        },
        {
          "output_type": "execute_result",
          "data": {
            "application/vnd.google.colaboratory.intrinsic+json": {
              "type": "string"
            },
            "text/plain": [
              "'/content'"
            ]
          },
          "metadata": {},
          "execution_count": 5
        }
      ]
    },
    {
      "cell_type": "code",
      "metadata": {
        "colab": {
          "base_uri": "https://localhost:8080/"
        },
        "id": "47784911",
        "outputId": "971d118b-0009-4e4f-c359-e68c4c617b00"
      },
      "source": [
        "import numpy as np\n",
        "from os.path import dirname, join as pjoin\n",
        "import scipy.io as sio\n",
        "import cv2\n",
        "import os\n",
        "import matplotlib.pyplot as plt\n",
        "from matplotlib.pyplot import figure\n",
        "import matplotlib.patches as patches\n",
        "import math\n",
        "from math import *\n",
        "from torch.utils.data import Dataset\n",
        "import torchvision\n",
        "import torch.optim as optim\n",
        "\n",
        "source_mat = ''\n",
        "#=r\"C:\\Users\\108652706\\Documents\\DOCUMENT_perso\\ISI\\MLA\\trials\\gaze360\"\n",
        "mat_fname = pjoin(source_mat, '/content/gaze360/metadata.mat')\n",
        "mat_contents = sio.loadmat(mat_fname)\n",
        "sorted(mat_contents.keys())"
      ],
      "id": "47784911",
      "execution_count": 6,
      "outputs": [
        {
          "output_type": "execute_result",
          "data": {
            "text/plain": [
              "['__globals__',\n",
              " '__header__',\n",
              " '__version__',\n",
              " 'frame',\n",
              " 'gaze_dir',\n",
              " 'person_body_bbox',\n",
              " 'person_cam',\n",
              " 'person_eye_left_bbox',\n",
              " 'person_eye_right_bbox',\n",
              " 'person_eyes2d',\n",
              " 'person_eyes3d',\n",
              " 'person_face_bbox',\n",
              " 'person_head_bbox',\n",
              " 'person_identity',\n",
              " 'recording',\n",
              " 'recordings',\n",
              " 'split',\n",
              " 'splits',\n",
              " 'target_cam',\n",
              " 'target_pos2d',\n",
              " 'target_pos3d',\n",
              " 'ts']"
            ]
          },
          "metadata": {},
          "execution_count": 6
        }
      ]
    },
    {
      "cell_type": "code",
      "metadata": {
        "id": "147d294c"
      },
      "source": [
        "#name= mat_contents['']\n",
        "\n",
        "recordings=mat_contents['recordings']\n",
        "recording = mat_contents['recording']\n",
        "person_identity= mat_contents['person_identity']\n",
        "frame= mat_contents['frame']\n",
        "person_head_bbox = mat_contents['person_head_bbox']\n",
        "person_eye_left_bbox= mat_contents['person_eye_left_bbox']\n",
        "cropType= 'head'\n",
        "person_face_bbox = mat_contents['person_face_bbox']\n",
        "target_pos3d=mat_contents['target_pos3d']\n",
        "person_eye_right_bbox= mat_contents['person_eye_right_bbox']\n",
        "gaze_dir =mat_contents['gaze_dir']"
      ],
      "id": "147d294c",
      "execution_count": 7,
      "outputs": []
    },
    {
      "cell_type": "code",
      "metadata": {
        "id": "GQN8xAH6fDxa",
        "colab": {
          "base_uri": "https://localhost:8080/"
        },
        "outputId": "814a5bd1-1bb4-4e6c-d6f9-e4e7c275cfe1"
      },
      "source": [
        "!pip install face_alignment # used as second checker of eye detection in a head image"
      ],
      "id": "GQN8xAH6fDxa",
      "execution_count": 8,
      "outputs": [
        {
          "output_type": "stream",
          "name": "stdout",
          "text": [
            "Collecting face_alignment\n",
            "  Downloading face_alignment-1.3.5.tar.gz (27 kB)\n",
            "Requirement already satisfied: torch in /usr/local/lib/python3.7/dist-packages (from face_alignment) (1.10.0+cu111)\n",
            "Requirement already satisfied: numpy in /usr/local/lib/python3.7/dist-packages (from face_alignment) (1.19.5)\n",
            "Requirement already satisfied: scipy>=0.17 in /usr/local/lib/python3.7/dist-packages (from face_alignment) (1.4.1)\n",
            "Requirement already satisfied: scikit-image in /usr/local/lib/python3.7/dist-packages (from face_alignment) (0.18.3)\n",
            "Requirement already satisfied: opencv-python in /usr/local/lib/python3.7/dist-packages (from face_alignment) (4.1.2.30)\n",
            "Requirement already satisfied: tqdm in /usr/local/lib/python3.7/dist-packages (from face_alignment) (4.62.3)\n",
            "Requirement already satisfied: numba in /usr/local/lib/python3.7/dist-packages (from face_alignment) (0.51.2)\n",
            "Requirement already satisfied: setuptools in /usr/local/lib/python3.7/dist-packages (from numba->face_alignment) (57.4.0)\n",
            "Requirement already satisfied: llvmlite<0.35,>=0.34.0.dev0 in /usr/local/lib/python3.7/dist-packages (from numba->face_alignment) (0.34.0)\n",
            "Requirement already satisfied: matplotlib!=3.0.0,>=2.0.0 in /usr/local/lib/python3.7/dist-packages (from scikit-image->face_alignment) (3.2.2)\n",
            "Requirement already satisfied: imageio>=2.3.0 in /usr/local/lib/python3.7/dist-packages (from scikit-image->face_alignment) (2.4.1)\n",
            "Requirement already satisfied: tifffile>=2019.7.26 in /usr/local/lib/python3.7/dist-packages (from scikit-image->face_alignment) (2021.11.2)\n",
            "Requirement already satisfied: pillow!=7.1.0,!=7.1.1,>=4.3.0 in /usr/local/lib/python3.7/dist-packages (from scikit-image->face_alignment) (7.1.2)\n",
            "Requirement already satisfied: networkx>=2.0 in /usr/local/lib/python3.7/dist-packages (from scikit-image->face_alignment) (2.6.3)\n",
            "Requirement already satisfied: PyWavelets>=1.1.1 in /usr/local/lib/python3.7/dist-packages (from scikit-image->face_alignment) (1.2.0)\n",
            "Requirement already satisfied: cycler>=0.10 in /usr/local/lib/python3.7/dist-packages (from matplotlib!=3.0.0,>=2.0.0->scikit-image->face_alignment) (0.11.0)\n",
            "Requirement already satisfied: pyparsing!=2.0.4,!=2.1.2,!=2.1.6,>=2.0.1 in /usr/local/lib/python3.7/dist-packages (from matplotlib!=3.0.0,>=2.0.0->scikit-image->face_alignment) (2.4.7)\n",
            "Requirement already satisfied: python-dateutil>=2.1 in /usr/local/lib/python3.7/dist-packages (from matplotlib!=3.0.0,>=2.0.0->scikit-image->face_alignment) (2.8.2)\n",
            "Requirement already satisfied: kiwisolver>=1.0.1 in /usr/local/lib/python3.7/dist-packages (from matplotlib!=3.0.0,>=2.0.0->scikit-image->face_alignment) (1.3.2)\n",
            "Requirement already satisfied: six>=1.5 in /usr/local/lib/python3.7/dist-packages (from python-dateutil>=2.1->matplotlib!=3.0.0,>=2.0.0->scikit-image->face_alignment) (1.15.0)\n",
            "Requirement already satisfied: typing-extensions in /usr/local/lib/python3.7/dist-packages (from torch->face_alignment) (3.10.0.2)\n",
            "Building wheels for collected packages: face-alignment\n",
            "  Building wheel for face-alignment (setup.py) ... \u001b[?25l\u001b[?25hdone\n",
            "  Created wheel for face-alignment: filename=face_alignment-1.3.5-py2.py3-none-any.whl size=28239 sha256=8b278c5f249d0937e41a6dbaf81255f4e37db150716d0959b02f17262d873003\n",
            "  Stored in directory: /root/.cache/pip/wheels/c9/ba/4d/2d368f55e5f929f9472da59e356fbdf1483f885de80a5bc620\n",
            "Successfully built face-alignment\n",
            "Installing collected packages: face-alignment\n",
            "Successfully installed face-alignment-1.3.5\n"
          ]
        }
      ]
    },
    {
      "cell_type": "code",
      "metadata": {
        "id": "H54FANIMfBaY",
        "colab": {
          "base_uri": "https://localhost:8080/",
          "height": 185,
          "referenced_widgets": [
            "4d346f1591884294a991e363586ff89e",
            "486360317ffc4411802d8c287a6218aa",
            "82674434aaa74cc09a30e272719291c2",
            "f4773b6a44bc4887bc0ab167aae4fd00",
            "5997ce6f416e47cbac180c82c5333b88",
            "2506a5df41a045cba71c3077b79da5ee",
            "6fc8287e30564c3185a950588e926099",
            "8503c843b17a4b11a051c9b1d9b12d28",
            "f7401af7ba9c42b68193e2dba9cda647",
            "9d068104fd3c4a6eb46a6a9bf485b8e1",
            "c3e34cb83645481db923332c4efd7df0",
            "b5d908f45f824a249cefd86a53b398e3",
            "5157fb0e38a44761a4fc90511b854e09",
            "a66bd3e2d4364b4280beff48fb6c556d",
            "1100395c16064ce8865557160301015b",
            "5634612eb2af4f5fb9bef64c3ba2fc54",
            "6d7d77187c6e46b5adc53fa65305a9d8",
            "31c7f6a9365548d49fdabd47d0b56b76",
            "9787565919bb47e6b87539b33b75df8c",
            "e5c6f5402cb6423c9d12910319b0c9eb",
            "754a3be6407a446ea2375d895b0bcc21",
            "5db7a5d1b445498389bd7ef1e8fc1d52",
            "367c924aa266453fb9b9856a4561a0d6",
            "553af811bc984bb9a2d0807007e43255",
            "cc5e5f9857e44e7695826de9b4fc1012",
            "11b9be4ccac246948a414928ccbfe116",
            "8d5aa6b5d99c4e868a67ae29453ee184",
            "4a8672e3886a49568e405791eaee92e2",
            "a1928113bfda408dbb2e10311a8a0b37",
            "9090cf7bc78144338c16a74f8c1399f0",
            "f9975509ca5d4e3d8ac202b3ccacff7d",
            "93f8b1d85ac14aabb6c457ca97fdb17d",
            "85f3ad5937cc4cbb972400c62d952d17"
          ]
        },
        "outputId": "c9735830-3ef4-4545-ffdb-fd6b0d283f4a"
      },
      "source": [
        "import face_alignment\n",
        "from skimage import io\n",
        "from mpl_toolkits.mplot3d import Axes3D\n",
        "import collections\n",
        "# Optionally set detector and some additional detector parameters\n",
        "face_detector = 'sfd'\n",
        "face_detector_kwargs = {\n",
        "    \"filter_threshold\" : 0.8\n",
        "}\n",
        "\n",
        "fa = face_alignment.FaceAlignment(face_alignment.LandmarksType._3D, device='cpu', flip_input=True,\n",
        "                                  face_detector=face_detector, face_detector_kwargs=face_detector_kwargs)"
      ],
      "id": "H54FANIMfBaY",
      "execution_count": 9,
      "outputs": [
        {
          "output_type": "stream",
          "name": "stderr",
          "text": [
            "Downloading: \"https://www.adrianbulat.com/downloads/python-fan/s3fd-619a316812.pth\" to /root/.cache/torch/hub/checkpoints/s3fd-619a316812.pth\n"
          ]
        },
        {
          "output_type": "display_data",
          "data": {
            "application/vnd.jupyter.widget-view+json": {
              "model_id": "4d346f1591884294a991e363586ff89e",
              "version_minor": 0,
              "version_major": 2
            },
            "text/plain": [
              "  0%|          | 0.00/85.7M [00:00<?, ?B/s]"
            ]
          },
          "metadata": {}
        },
        {
          "output_type": "stream",
          "name": "stderr",
          "text": [
            "Downloading: \"https://www.adrianbulat.com/downloads/python-fan/3DFAN4-4a694010b9.zip\" to /root/.cache/torch/hub/checkpoints/3DFAN4-4a694010b9.zip\n"
          ]
        },
        {
          "output_type": "display_data",
          "data": {
            "application/vnd.jupyter.widget-view+json": {
              "model_id": "b5d908f45f824a249cefd86a53b398e3",
              "version_minor": 0,
              "version_major": 2
            },
            "text/plain": [
              "  0%|          | 0.00/91.9M [00:00<?, ?B/s]"
            ]
          },
          "metadata": {}
        },
        {
          "output_type": "stream",
          "name": "stderr",
          "text": [
            "Downloading: \"https://www.adrianbulat.com/downloads/python-fan/depth-6c4283c0e0.zip\" to /root/.cache/torch/hub/checkpoints/depth-6c4283c0e0.zip\n"
          ]
        },
        {
          "output_type": "display_data",
          "data": {
            "application/vnd.jupyter.widget-view+json": {
              "model_id": "367c924aa266453fb9b9856a4561a0d6",
              "version_minor": 0,
              "version_major": 2
            },
            "text/plain": [
              "  0%|          | 0.00/224M [00:00<?, ?B/s]"
            ]
          },
          "metadata": {}
        }
      ]
    },
    {
      "cell_type": "code",
      "metadata": {
        "id": "nBlRNz8gfZ_q"
      },
      "source": [
        "from torchvision import models \n",
        "from torchvision import transforms\n",
        "import torch.nn as nn\n",
        "from PIL import Image\n",
        "from matplotlib import cm\n",
        "import torch\n",
        "from torch.utils.data.sampler import SubsetRandomSampler"
      ],
      "id": "nBlRNz8gfZ_q",
      "execution_count": 10,
      "outputs": []
    },
    {
      "cell_type": "code",
      "metadata": {
        "colab": {
          "base_uri": "https://localhost:8080/",
          "height": 87,
          "referenced_widgets": [
            "a67ea9bdbb9c464aa6baa387dd348eec",
            "b0b8eeba87dc42d989eb867df5cd09b2",
            "73ce35ef56a844a49ef02259598c70fc",
            "2f6bd5d91895434e87b66d1f9bce6553",
            "48a9f73f3fa3446e84463856cdfdd55d",
            "f59f01f34072424b95bdf43aab32106b",
            "6a660190f3e14cf3a916ca454ec2dd75",
            "b5d6b89dbd9c4dd2a0eb65ffbc925c62",
            "5baf4c6b42de44b3ba263ec37f24533e",
            "f136291d295a49c594eff6a9ce02c5ba",
            "167bab8bbbe441ddb4f159bd171462d6"
          ]
        },
        "id": "NU2JpqB5fiH1",
        "outputId": "421b94d9-4eaa-429f-c436-25d52d4bde79"
      },
      "source": [
        "resnet = models.resnet18(pretrained=True)\n",
        "resnet18 = nn.Sequential(*(list(resnet.children())[0:8])) #take 8 layers \n",
        "#resnet18.cpu()"
      ],
      "id": "NU2JpqB5fiH1",
      "execution_count": 11,
      "outputs": [
        {
          "output_type": "stream",
          "name": "stderr",
          "text": [
            "Downloading: \"https://download.pytorch.org/models/resnet18-f37072fd.pth\" to /root/.cache/torch/hub/checkpoints/resnet18-f37072fd.pth\n"
          ]
        },
        {
          "output_type": "display_data",
          "data": {
            "application/vnd.jupyter.widget-view+json": {
              "model_id": "a67ea9bdbb9c464aa6baa387dd348eec",
              "version_minor": 0,
              "version_major": 2
            },
            "text/plain": [
              "  0%|          | 0.00/44.7M [00:00<?, ?B/s]"
            ]
          },
          "metadata": {}
        }
      ]
    },
    {
      "cell_type": "markdown",
      "metadata": {
        "id": "2Nn-Z6DXnfDo"
      },
      "source": [
        "#create functions"
      ],
      "id": "2Nn-Z6DXnfDo"
    },
    {
      "cell_type": "code",
      "metadata": {
        "id": "afmDislBqlhO"
      },
      "source": [
        "#first check  of eye detection\n",
        "def  Kellnhofer_al_eye(imHead,headBBInFull,eyeBBInFull): \n",
        "        cropSizePx = [imHead.shape[1], imHead.shape[0]]\n",
        "        #eyeBBInFull = person_eye_left_bbox[i,:]\n",
        "        eyeBBInCrop = [\n",
        "            (eyeBBInFull[0] - headBBInFull[0]) / headBBInFull[2], # subtract offset of the crop\n",
        "            (eyeBBInFull[1] - headBBInFull[1]) / headBBInFull[3], \n",
        "            eyeBBInFull[2] / headBBInFull[2], # scale to smaller space of the crop\n",
        "            eyeBBInFull[3] / headBBInFull[3], \n",
        "            ]\n",
        "        eyeBBInCropPx_l = np.concatenate([np.multiply(eyeBBInCrop[:2], cropSizePx), np.multiply(eyeBBInCrop[2:], cropSizePx)]).astype(int)\n",
        "        imEye_l = imHead[\n",
        "            eyeBBInCropPx_l[1]:(eyeBBInCropPx_l[1]+eyeBBInCropPx_l[3]), \n",
        "            eyeBBInCropPx_l[0]:(eyeBBInCropPx_l[0]+eyeBBInCropPx_l[2]),\n",
        "            :]\n",
        "        fl= imEye_l.flatten()\n",
        "        imEye_l = cv2.resize(imEye_l,(60,36)) \n",
        "        return imEye_l"
      ],
      "id": "afmDislBqlhO",
      "execution_count": 12,
      "outputs": []
    },
    {
      "cell_type": "code",
      "metadata": {
        "id": "EiLCbn9ArtB5"
      },
      "source": [
        "#1st check of eye detection : using the technique of kellnhofer et al article, detect eyes if possible, else, return zeros \n",
        "def Kellnhofer_al_eyes(imHead,head_box,eye_left_box,eye_right_box):\n",
        "    if np.all(eye_left_box==np.array([-1,-1,-1,-1])):\n",
        "        imEye_l=np.zeros((36,60,3), np.uint8)\n",
        "    else:\n",
        "        imEye_l = Kellnhofer_al_eye(imHead,head_box,eye_left_box)\n",
        "\n",
        "    if np.all(eye_right_box==np.array([-1,-1,-1,-1])):\n",
        "        imEye_r= np.zeros((36,60,3), np.uint8)\n",
        "    else:\n",
        "        imEye_r = Kellnhofer_al_eye(imHead,head_box,eye_right_box)\n",
        "    #return fl,fr\n",
        "    return imEye_l,imEye_r"
      ],
      "id": "EiLCbn9ArtB5",
      "execution_count": 13,
      "outputs": []
    },
    {
      "cell_type": "code",
      "metadata": {
        "id": "r4Zoosn_neYC"
      },
      "source": [
        "#second check : using the 3D technique of bulat et al article, detect eyes, else return zeros\n",
        "def bulat_al(imHead,fa):#second check\n",
        "    try : \n",
        "      preds = fa.get_landmarks(imHead)[-1]#predict\n",
        "      # 2D-Plot\n",
        "      pred_type = collections.namedtuple('prediction_type', ['slice', 'color'])\n",
        "      pred_types = {\n",
        "                'eye1': pred_type(slice(36, 42), (0.596, 0.875, 0.541, 0.3)),\n",
        "                'eye2': pred_type(slice(42, 48), (0.596, 0.875, 0.541, 0.3)),\n",
        "                }\n",
        "      centers=[]\n",
        "      Avr_eye=24 #24 represents average eye length for adults, we use this to set the scale\n",
        "\n",
        "      for pred_type in pred_types.values():\n",
        "          x=preds[pred_type.slice, 0]\n",
        "          y=preds[pred_type.slice, 1]\n",
        "          centroid = (sum(x) / len(x), sum(y) / len(y)) #get centroid\n",
        "          centers.append(centroid) #append\n",
        "      dist = math.hypot(centers[0][0]-centers[1][0],centers[0][1]-centers[1][1]) #distance on image\n",
        "      dist_reel= np.divide(dist*24,x.max()-x.min() )#real distance\n",
        "      if (77 >dist_reel>51):  #normal distance between pupils is between 51 and 77\n",
        "          centers = [(int(element[0]), int(element[1])) for element in centers]\n",
        "          imEye_r=imHead[centers[0][0]-7:centers[0][0]+7,centers[0][1]-7:centers[0][1]+7,:]\n",
        "          imEye_l=imHead[centers[1][0]-7:centers[1][0]+7,centers[1][1]-7:centers[1][1]+7,:]\n",
        "          fl= imEye_l.flatten()\n",
        "          fr= imEye_r.flatten()\n",
        "          imEye_r = cv2.resize(imEye_r,(60,36)) \n",
        "          imEye_l = cv2.resize(imEye_l,(60,36)) \n",
        "      else :\n",
        "          blank_image = np.zeros((36,60,3), np.uint8)\n",
        "          imEye_l = blank_image\n",
        "          imEye_r = blank_image\n",
        "    except : \n",
        "      blank_image = np.zeros((36,60,3), np.uint8)\n",
        "      imEye_l = blank_image\n",
        "      imEye_r = blank_image\n",
        "    return imEye_l,imEye_r\n"
      ],
      "id": "r4Zoosn_neYC",
      "execution_count": 62,
      "outputs": []
    },
    {
      "cell_type": "code",
      "metadata": {
        "id": "EFptR_exvSuT"
      },
      "source": [
        "# extract eyes from head image function\n",
        "def head_eye_extractors(imHead,fa,head_box,target,eye_left_box,eye_right_box):\n",
        "      if np.all(eye_left_box==np.array([-1,-1,-1,-1])) and np.all(eye_right_box==np.array([-1,-1,-1,-1])):\n",
        "          print(\"eye_not_detected with Kellnhofer_al \")\n",
        "          imEye_l,imEye_r= bulat_al(imHead,fa)\n",
        "      else: \n",
        "          imEye_l,imEye_r= Kellnhofer_al_eyes(imHead,head_box,eye_left_box,eye_right_box)\n",
        "      x,y,z=target\n",
        "      yaw = atan(np.divide(z,x))\n",
        "      pitch=atan(np.divide(x,y))\n",
        "      h=[float(yaw),float(pitch)]\n",
        "      return h, imEye_l,imEye_r"
      ],
      "id": "EFptR_exvSuT",
      "execution_count": 63,
      "outputs": []
    },
    {
      "cell_type": "code",
      "metadata": {
        "id": "YSx9kxK8G3WG"
      },
      "source": [
        "from torchvision import models \n",
        "from torchvision import transforms\n",
        "import torch.nn as nn\n",
        "from PIL import Image\n",
        "from matplotlib import cm\n",
        "import torch\n",
        "from torch.utils.data import Dataset, DataLoader\n",
        "from torchvision import transforms, utils\n",
        "from torchvision import datasets\n",
        "import math\n",
        "device = torch.device(\"cpu\")"
      ],
      "id": "YSx9kxK8G3WG",
      "execution_count": 64,
      "outputs": []
    },
    {
      "cell_type": "code",
      "metadata": {
        "colab": {
          "base_uri": "https://localhost:8080/"
        },
        "id": "bR1XGTZtJ_XT",
        "outputId": "e84e013c-b312-434a-810c-131725ea848f"
      },
      "source": [
        "from torchvision import models\n",
        "from torchsummary import summary\n",
        "summary(resnet18,(3,224,224))"
      ],
      "id": "bR1XGTZtJ_XT",
      "execution_count": 65,
      "outputs": [
        {
          "output_type": "stream",
          "name": "stdout",
          "text": [
            "----------------------------------------------------------------\n",
            "        Layer (type)               Output Shape         Param #\n",
            "================================================================\n",
            "            Conv2d-1         [-1, 64, 112, 112]           9,408\n",
            "       BatchNorm2d-2         [-1, 64, 112, 112]             128\n",
            "              ReLU-3         [-1, 64, 112, 112]               0\n",
            "         MaxPool2d-4           [-1, 64, 56, 56]               0\n",
            "            Conv2d-5           [-1, 64, 56, 56]          36,864\n",
            "       BatchNorm2d-6           [-1, 64, 56, 56]             128\n",
            "              ReLU-7           [-1, 64, 56, 56]               0\n",
            "            Conv2d-8           [-1, 64, 56, 56]          36,864\n",
            "       BatchNorm2d-9           [-1, 64, 56, 56]             128\n",
            "             ReLU-10           [-1, 64, 56, 56]               0\n",
            "       BasicBlock-11           [-1, 64, 56, 56]               0\n",
            "           Conv2d-12           [-1, 64, 56, 56]          36,864\n",
            "      BatchNorm2d-13           [-1, 64, 56, 56]             128\n",
            "             ReLU-14           [-1, 64, 56, 56]               0\n",
            "           Conv2d-15           [-1, 64, 56, 56]          36,864\n",
            "      BatchNorm2d-16           [-1, 64, 56, 56]             128\n",
            "             ReLU-17           [-1, 64, 56, 56]               0\n",
            "       BasicBlock-18           [-1, 64, 56, 56]               0\n",
            "           Conv2d-19          [-1, 128, 28, 28]          73,728\n",
            "      BatchNorm2d-20          [-1, 128, 28, 28]             256\n",
            "             ReLU-21          [-1, 128, 28, 28]               0\n",
            "           Conv2d-22          [-1, 128, 28, 28]         147,456\n",
            "      BatchNorm2d-23          [-1, 128, 28, 28]             256\n",
            "           Conv2d-24          [-1, 128, 28, 28]           8,192\n",
            "      BatchNorm2d-25          [-1, 128, 28, 28]             256\n",
            "             ReLU-26          [-1, 128, 28, 28]               0\n",
            "       BasicBlock-27          [-1, 128, 28, 28]               0\n",
            "           Conv2d-28          [-1, 128, 28, 28]         147,456\n",
            "      BatchNorm2d-29          [-1, 128, 28, 28]             256\n",
            "             ReLU-30          [-1, 128, 28, 28]               0\n",
            "           Conv2d-31          [-1, 128, 28, 28]         147,456\n",
            "      BatchNorm2d-32          [-1, 128, 28, 28]             256\n",
            "             ReLU-33          [-1, 128, 28, 28]               0\n",
            "       BasicBlock-34          [-1, 128, 28, 28]               0\n",
            "           Conv2d-35          [-1, 256, 14, 14]         294,912\n",
            "      BatchNorm2d-36          [-1, 256, 14, 14]             512\n",
            "             ReLU-37          [-1, 256, 14, 14]               0\n",
            "           Conv2d-38          [-1, 256, 14, 14]         589,824\n",
            "      BatchNorm2d-39          [-1, 256, 14, 14]             512\n",
            "           Conv2d-40          [-1, 256, 14, 14]          32,768\n",
            "      BatchNorm2d-41          [-1, 256, 14, 14]             512\n",
            "             ReLU-42          [-1, 256, 14, 14]               0\n",
            "       BasicBlock-43          [-1, 256, 14, 14]               0\n",
            "           Conv2d-44          [-1, 256, 14, 14]         589,824\n",
            "      BatchNorm2d-45          [-1, 256, 14, 14]             512\n",
            "             ReLU-46          [-1, 256, 14, 14]               0\n",
            "           Conv2d-47          [-1, 256, 14, 14]         589,824\n",
            "      BatchNorm2d-48          [-1, 256, 14, 14]             512\n",
            "             ReLU-49          [-1, 256, 14, 14]               0\n",
            "       BasicBlock-50          [-1, 256, 14, 14]               0\n",
            "           Conv2d-51            [-1, 512, 7, 7]       1,179,648\n",
            "      BatchNorm2d-52            [-1, 512, 7, 7]           1,024\n",
            "             ReLU-53            [-1, 512, 7, 7]               0\n",
            "           Conv2d-54            [-1, 512, 7, 7]       2,359,296\n",
            "      BatchNorm2d-55            [-1, 512, 7, 7]           1,024\n",
            "           Conv2d-56            [-1, 512, 7, 7]         131,072\n",
            "      BatchNorm2d-57            [-1, 512, 7, 7]           1,024\n",
            "             ReLU-58            [-1, 512, 7, 7]               0\n",
            "       BasicBlock-59            [-1, 512, 7, 7]               0\n",
            "           Conv2d-60            [-1, 512, 7, 7]       2,359,296\n",
            "      BatchNorm2d-61            [-1, 512, 7, 7]           1,024\n",
            "             ReLU-62            [-1, 512, 7, 7]               0\n",
            "           Conv2d-63            [-1, 512, 7, 7]       2,359,296\n",
            "      BatchNorm2d-64            [-1, 512, 7, 7]           1,024\n",
            "             ReLU-65            [-1, 512, 7, 7]               0\n",
            "       BasicBlock-66            [-1, 512, 7, 7]               0\n",
            "================================================================\n",
            "Total params: 11,176,512\n",
            "Trainable params: 11,176,512\n",
            "Non-trainable params: 0\n",
            "----------------------------------------------------------------\n",
            "Input size (MB): 0.57\n",
            "Forward/backward pass size (MB): 62.78\n",
            "Params size (MB): 42.64\n",
            "Estimated Total Size (MB): 105.99\n",
            "----------------------------------------------------------------\n"
          ]
        }
      ]
    },
    {
      "cell_type": "markdown",
      "metadata": {
        "id": "W65usKpHbOYu"
      },
      "source": [
        "#form datasets"
      ],
      "id": "W65usKpHbOYu"
    },
    {
      "cell_type": "code",
      "metadata": {
        "id": "JoCZyi5Ib-u1"
      },
      "source": [
        "def dataset ( source_p,nb_image):\n",
        "    head_imgs=[]\n",
        "    l_imgs=[]\n",
        "    r_imgs=[]\n",
        "    heads=[]\n",
        "    h_list=[]\n",
        "    gaze=[]\n",
        "    for i in range(nb_image): \n",
        "          imHead = cv2.imread(os.path.join(\n",
        "            source_p,\n",
        "            recordings[0,recording[0,i]][0],\n",
        "            cropType,\n",
        "            '%06d' % person_identity[0,i],\n",
        "            '%06d.jpg' % frame[0,i]\n",
        "            ))\n",
        "          heads.append(cv2.resize(imHead,(224,224)))\n",
        "          h,imEye_l,imEye_r= head_eye_extractors(imHead,fa,person_head_bbox[i,:],target_pos3d[i],person_eye_left_bbox[i,:],person_eye_right_bbox[i,:])\n",
        "          l_imgs.append(imEye_l)\n",
        "          r_imgs.append(imEye_r)\n",
        "          h_list.append(h)\n",
        "          gaze.append(gaze_dir[i])\n",
        "    return l_imgs,r_imgs,h_list,heads,gaze\n",
        "\n"
      ],
      "id": "JoCZyi5Ib-u1",
      "execution_count": 66,
      "outputs": []
    },
    {
      "cell_type": "code",
      "metadata": {
        "id": "NlhKjcFD8CJb",
        "colab": {
          "base_uri": "https://localhost:8080/"
        },
        "outputId": "217de95c-2143-4361-a212-1ce065ecc292"
      },
      "source": [
        "source_p=('/content/gaze360/imgs') #path to dataset\n",
        "nb_image= len(frame[0])# number of images\n",
        "nb_image = 2000 #trial with 20 images only\n",
        "l_imgs,r_imgs,h,heads,gazes=dataset ( source_p,nb_image)"
      ],
      "id": "NlhKjcFD8CJb",
      "execution_count": null,
      "outputs": [
        {
          "output_type": "stream",
          "name": "stdout",
          "text": [
            "eye_not_detected with Kellnhofer_al \n",
            "eye_not_detected with Kellnhofer_al \n",
            "eye_not_detected with Kellnhofer_al \n",
            "eye_not_detected with Kellnhofer_al \n",
            "eye_not_detected with Kellnhofer_al \n",
            "eye_not_detected with Kellnhofer_al \n",
            "eye_not_detected with Kellnhofer_al \n",
            "eye_not_detected with Kellnhofer_al \n",
            "eye_not_detected with Kellnhofer_al \n",
            "eye_not_detected with Kellnhofer_al \n",
            "eye_not_detected with Kellnhofer_al \n",
            "eye_not_detected with Kellnhofer_al \n",
            "eye_not_detected with Kellnhofer_al \n",
            "eye_not_detected with Kellnhofer_al \n",
            "eye_not_detected with Kellnhofer_al \n",
            "eye_not_detected with Kellnhofer_al \n",
            "eye_not_detected with Kellnhofer_al \n",
            "eye_not_detected with Kellnhofer_al \n",
            "eye_not_detected with Kellnhofer_al \n",
            "eye_not_detected with Kellnhofer_al \n",
            "eye_not_detected with Kellnhofer_al \n",
            "eye_not_detected with Kellnhofer_al \n",
            "eye_not_detected with Kellnhofer_al \n",
            "eye_not_detected with Kellnhofer_al \n",
            "eye_not_detected with Kellnhofer_al \n",
            "eye_not_detected with Kellnhofer_al \n",
            "eye_not_detected with Kellnhofer_al \n",
            "eye_not_detected with Kellnhofer_al \n",
            "eye_not_detected with Kellnhofer_al \n",
            "eye_not_detected with Kellnhofer_al \n",
            "eye_not_detected with Kellnhofer_al \n",
            "eye_not_detected with Kellnhofer_al \n",
            "eye_not_detected with Kellnhofer_al \n",
            "eye_not_detected with Kellnhofer_al \n",
            "eye_not_detected with Kellnhofer_al \n",
            "eye_not_detected with Kellnhofer_al \n",
            "eye_not_detected with Kellnhofer_al \n",
            "eye_not_detected with Kellnhofer_al \n",
            "eye_not_detected with Kellnhofer_al \n",
            "eye_not_detected with Kellnhofer_al \n",
            "eye_not_detected with Kellnhofer_al \n",
            "eye_not_detected with Kellnhofer_al \n",
            "eye_not_detected with Kellnhofer_al \n",
            "eye_not_detected with Kellnhofer_al \n",
            "eye_not_detected with Kellnhofer_al \n",
            "eye_not_detected with Kellnhofer_al \n",
            "eye_not_detected with Kellnhofer_al \n",
            "eye_not_detected with Kellnhofer_al \n",
            "eye_not_detected with Kellnhofer_al \n",
            "eye_not_detected with Kellnhofer_al \n"
          ]
        },
        {
          "output_type": "stream",
          "name": "stderr",
          "text": [
            "/usr/local/lib/python3.7/dist-packages/face_alignment/api.py:144: UserWarning: No faces were detected.\n",
            "  warnings.warn(\"No faces were detected.\")\n"
          ]
        },
        {
          "output_type": "stream",
          "name": "stdout",
          "text": [
            "eye_not_detected with Kellnhofer_al \n",
            "eye_not_detected with Kellnhofer_al \n",
            "eye_not_detected with Kellnhofer_al \n",
            "eye_not_detected with Kellnhofer_al \n",
            "eye_not_detected with Kellnhofer_al \n",
            "eye_not_detected with Kellnhofer_al \n",
            "eye_not_detected with Kellnhofer_al \n",
            "eye_not_detected with Kellnhofer_al \n",
            "eye_not_detected with Kellnhofer_al \n",
            "eye_not_detected with Kellnhofer_al \n",
            "eye_not_detected with Kellnhofer_al \n",
            "eye_not_detected with Kellnhofer_al \n",
            "eye_not_detected with Kellnhofer_al \n",
            "eye_not_detected with Kellnhofer_al \n",
            "eye_not_detected with Kellnhofer_al \n",
            "eye_not_detected with Kellnhofer_al \n",
            "eye_not_detected with Kellnhofer_al \n",
            "eye_not_detected with Kellnhofer_al \n",
            "eye_not_detected with Kellnhofer_al \n",
            "eye_not_detected with Kellnhofer_al \n",
            "eye_not_detected with Kellnhofer_al \n",
            "eye_not_detected with Kellnhofer_al \n",
            "eye_not_detected with Kellnhofer_al \n",
            "eye_not_detected with Kellnhofer_al \n",
            "eye_not_detected with Kellnhofer_al \n",
            "eye_not_detected with Kellnhofer_al \n",
            "eye_not_detected with Kellnhofer_al \n",
            "eye_not_detected with Kellnhofer_al \n",
            "eye_not_detected with Kellnhofer_al \n",
            "eye_not_detected with Kellnhofer_al \n",
            "eye_not_detected with Kellnhofer_al \n",
            "eye_not_detected with Kellnhofer_al \n",
            "eye_not_detected with Kellnhofer_al \n",
            "eye_not_detected with Kellnhofer_al \n",
            "eye_not_detected with Kellnhofer_al \n",
            "eye_not_detected with Kellnhofer_al \n",
            "eye_not_detected with Kellnhofer_al \n",
            "eye_not_detected with Kellnhofer_al \n",
            "eye_not_detected with Kellnhofer_al \n",
            "eye_not_detected with Kellnhofer_al \n",
            "eye_not_detected with Kellnhofer_al \n",
            "eye_not_detected with Kellnhofer_al \n",
            "eye_not_detected with Kellnhofer_al \n",
            "eye_not_detected with Kellnhofer_al \n",
            "eye_not_detected with Kellnhofer_al \n",
            "eye_not_detected with Kellnhofer_al \n",
            "eye_not_detected with Kellnhofer_al \n",
            "eye_not_detected with Kellnhofer_al \n",
            "eye_not_detected with Kellnhofer_al \n",
            "eye_not_detected with Kellnhofer_al \n",
            "eye_not_detected with Kellnhofer_al \n",
            "eye_not_detected with Kellnhofer_al \n",
            "eye_not_detected with Kellnhofer_al \n",
            "eye_not_detected with Kellnhofer_al \n",
            "eye_not_detected with Kellnhofer_al \n",
            "eye_not_detected with Kellnhofer_al \n",
            "eye_not_detected with Kellnhofer_al \n",
            "eye_not_detected with Kellnhofer_al \n",
            "eye_not_detected with Kellnhofer_al \n",
            "eye_not_detected with Kellnhofer_al \n",
            "eye_not_detected with Kellnhofer_al \n",
            "eye_not_detected with Kellnhofer_al \n",
            "eye_not_detected with Kellnhofer_al \n",
            "eye_not_detected with Kellnhofer_al \n",
            "eye_not_detected with Kellnhofer_al \n",
            "eye_not_detected with Kellnhofer_al \n",
            "eye_not_detected with Kellnhofer_al \n",
            "eye_not_detected with Kellnhofer_al \n",
            "eye_not_detected with Kellnhofer_al \n",
            "eye_not_detected with Kellnhofer_al \n",
            "eye_not_detected with Kellnhofer_al \n",
            "eye_not_detected with Kellnhofer_al \n",
            "eye_not_detected with Kellnhofer_al \n",
            "eye_not_detected with Kellnhofer_al \n",
            "eye_not_detected with Kellnhofer_al \n",
            "eye_not_detected with Kellnhofer_al \n",
            "eye_not_detected with Kellnhofer_al \n",
            "eye_not_detected with Kellnhofer_al \n",
            "eye_not_detected with Kellnhofer_al \n",
            "eye_not_detected with Kellnhofer_al \n",
            "eye_not_detected with Kellnhofer_al \n",
            "eye_not_detected with Kellnhofer_al \n",
            "eye_not_detected with Kellnhofer_al \n",
            "eye_not_detected with Kellnhofer_al \n",
            "eye_not_detected with Kellnhofer_al \n",
            "eye_not_detected with Kellnhofer_al \n",
            "eye_not_detected with Kellnhofer_al \n",
            "eye_not_detected with Kellnhofer_al \n",
            "eye_not_detected with Kellnhofer_al \n",
            "eye_not_detected with Kellnhofer_al \n",
            "eye_not_detected with Kellnhofer_al \n",
            "eye_not_detected with Kellnhofer_al \n",
            "eye_not_detected with Kellnhofer_al \n",
            "eye_not_detected with Kellnhofer_al \n",
            "eye_not_detected with Kellnhofer_al \n",
            "eye_not_detected with Kellnhofer_al \n",
            "eye_not_detected with Kellnhofer_al \n",
            "eye_not_detected with Kellnhofer_al \n",
            "eye_not_detected with Kellnhofer_al \n",
            "eye_not_detected with Kellnhofer_al \n",
            "eye_not_detected with Kellnhofer_al \n",
            "eye_not_detected with Kellnhofer_al \n",
            "eye_not_detected with Kellnhofer_al \n",
            "eye_not_detected with Kellnhofer_al \n",
            "eye_not_detected with Kellnhofer_al \n",
            "eye_not_detected with Kellnhofer_al \n",
            "eye_not_detected with Kellnhofer_al \n",
            "eye_not_detected with Kellnhofer_al \n",
            "eye_not_detected with Kellnhofer_al \n",
            "eye_not_detected with Kellnhofer_al \n",
            "eye_not_detected with Kellnhofer_al \n",
            "eye_not_detected with Kellnhofer_al \n",
            "eye_not_detected with Kellnhofer_al \n",
            "eye_not_detected with Kellnhofer_al \n",
            "eye_not_detected with Kellnhofer_al \n",
            "eye_not_detected with Kellnhofer_al \n",
            "eye_not_detected with Kellnhofer_al \n",
            "eye_not_detected with Kellnhofer_al \n",
            "eye_not_detected with Kellnhofer_al \n",
            "eye_not_detected with Kellnhofer_al \n",
            "eye_not_detected with Kellnhofer_al \n",
            "eye_not_detected with Kellnhofer_al \n",
            "eye_not_detected with Kellnhofer_al \n",
            "eye_not_detected with Kellnhofer_al \n",
            "eye_not_detected with Kellnhofer_al \n",
            "eye_not_detected with Kellnhofer_al \n",
            "eye_not_detected with Kellnhofer_al \n",
            "eye_not_detected with Kellnhofer_al \n"
          ]
        }
      ]
    },
    {
      "cell_type": "code",
      "metadata": {
        "id": "qjWR6tFdNzH9"
      },
      "source": [
        "'''\n",
        "l_imgs is fl \n",
        "r_imgs is fr \n",
        "h is (yaw,pich) list \n",
        "heads is heads dataset\n",
        "gazes is (gx,gy,gz) a.k.a target \n",
        "'''"
      ],
      "id": "qjWR6tFdNzH9",
      "execution_count": null,
      "outputs": []
    },
    {
      "cell_type": "markdown",
      "metadata": {
        "id": "m9hiKiKjJ3jt"
      },
      "source": [
        "## Eye prediction"
      ],
      "id": "m9hiKiKjJ3jt"
    },
    {
      "cell_type": "code",
      "metadata": {
        "id": "Z7qcFtNU0BTk"
      },
      "source": [
        "class eyeDataset(Dataset):\n",
        "    \"\"\"eye landmark dataset.\"\"\"\n",
        "\n",
        "    def __init__(self, imgs, transform=None):\n",
        "       \n",
        "        self.imgs = imgs\n",
        "        self.transform = transform\n",
        "\n",
        "    def __len__(self):\n",
        "        return len(self.imgs)\n",
        "\n",
        "    def __getitem__(self, idx):\n",
        "        if torch.is_tensor(idx):\n",
        "            idx = idx.tolist()\n",
        "\n",
        "        #img_name = os.path.join(self.root_dir,self.landmarks_frame.iloc[idx, 0])\n",
        "        image = self.imgs[idx] #io.imread(img_name)\n",
        "        image = Image.fromarray(image)\n",
        "        sample = {'image': image}\n",
        "\n",
        "        if self.transform:\n",
        "            sample['image'] = self.transform(sample['image'])\n",
        "\n",
        "        return sample"
      ],
      "id": "Z7qcFtNU0BTk",
      "execution_count": null,
      "outputs": []
    },
    {
      "cell_type": "code",
      "metadata": {
        "id": "kGkxVIzcOkbo"
      },
      "source": [
        "preprocess = transforms.Compose([\n",
        "        transforms.ToTensor(),\n",
        "        transforms.Normalize(\n",
        "        mean=[0.485, 0.456, 0.406],\n",
        "        std=[0.229, 0.224, 0.225]\n",
        "    )])"
      ],
      "id": "kGkxVIzcOkbo",
      "execution_count": null,
      "outputs": []
    },
    {
      "cell_type": "code",
      "metadata": {
        "id": "32DgbHP00hJn"
      },
      "source": [
        "l_eye_set=eyeDataset(imgs=l_imgs,transform=preprocess)\n",
        "l_eye_loader = DataLoader(l_eye_set, batch_size=nb_image,\n",
        "                        shuffle=False, num_workers=0)\n",
        "\n",
        "l=next(iter(l_eye_loader))\n",
        "outputs_l=l['image'].to(device)\n",
        "resnet18.eval()\n",
        "\n",
        "features_left=resnet18(outputs_l).flatten(start_dim=1) # yields a tensor of size([nb_image, 2048])\n"
      ],
      "id": "32DgbHP00hJn",
      "execution_count": null,
      "outputs": []
    },
    {
      "cell_type": "code",
      "metadata": {
        "id": "kG1xJrUOa_PZ"
      },
      "source": [
        "features_left.shape"
      ],
      "id": "kG1xJrUOa_PZ",
      "execution_count": null,
      "outputs": []
    },
    {
      "cell_type": "code",
      "metadata": {
        "id": "qTBOQAEx9n_9"
      },
      "source": [
        "r_eye_set=eyeDataset(imgs=r_imgs,transform=preprocess)\n",
        "r_eye_loader = DataLoader(r_eye_set, batch_size=nb_image,\n",
        "                        shuffle=False, num_workers=0)\n",
        "\n",
        "r=next(iter(r_eye_loader))\n",
        "outputs_r=r['image'].to(device)\n",
        "resnet18.eval()\n",
        "\n",
        "features_right=resnet18(outputs_r).flatten(start_dim=1)# yields a tensor of size([n_images, 2048])"
      ],
      "id": "qTBOQAEx9n_9",
      "execution_count": null,
      "outputs": []
    },
    {
      "cell_type": "code",
      "metadata": {
        "id": "aiXZ3OsSO94U"
      },
      "source": [
        ""
      ],
      "id": "aiXZ3OsSO94U",
      "execution_count": null,
      "outputs": []
    },
    {
      "cell_type": "code",
      "metadata": {
        "id": "JDkjZSJE6o5v"
      },
      "source": [
        "from torchsummary import summary\n",
        "device = torch.device('cuda' if torch.cuda.is_available() else 'cpu')\n",
        "summary(resnet18.to(device),input_size=(3, 36, 60))# summary works only with gpu,so we change model to gpu then take it back to cpu\n",
        "device= torch.device('cpu')\n"
      ],
      "id": "JDkjZSJE6o5v",
      "execution_count": null,
      "outputs": []
    },
    {
      "cell_type": "markdown",
      "metadata": {
        "id": "G2SOUwp_MC53"
      },
      "source": [
        "##Head pose"
      ],
      "id": "G2SOUwp_MC53"
    },
    {
      "cell_type": "code",
      "metadata": {
        "id": "AM2Ahecpzden"
      },
      "source": [
        "\n",
        "class headposeDataset(Dataset):\n",
        "    \"\"\"Face Landmarks dataset.\"\"\"\n",
        "\n",
        "    def __init__(self, imgs, h, transform=None):\n",
        "        self.h = h\n",
        "        self.imgs = imgs\n",
        "        self.transform = transform\n",
        "\n",
        "    def __len__(self):\n",
        "        return len(self.imgs)\n",
        "\n",
        "    def __getitem__(self, idx):\n",
        "        if torch.is_tensor(idx):\n",
        "            idx = idx.tolist()\n",
        "\n",
        "        image = self.imgs[idx] \n",
        "        image = Image.fromarray(image)\n",
        "        ex = self.h[idx]\n",
        "        '''\n",
        "        landmarks = np.zeros(2)\n",
        "        landmarks=np.zeros(2)\n",
        "        landmarks[0]= ex[0]\n",
        "        landmarks[1]= ex[1]\n",
        "        '''\n",
        "        landmarks = np.array(ex)\n",
        "        if self.transform:\n",
        "            image = self.transform(image)\n",
        "        #sample = {'image': image, 'landmarks': landmarks}\n",
        "        sample = {'image': image, 'landmarks': landmarks}\n",
        "\n",
        "        return sample"
      ],
      "id": "AM2Ahecpzden",
      "execution_count": null,
      "outputs": []
    },
    {
      "cell_type": "code",
      "metadata": {
        "id": "1Td_uM91TUFZ"
      },
      "source": [
        "preprocess = transforms.Compose([\n",
        "        transforms.ToTensor(),\n",
        "        transforms.Lambda(lambda x: x.double()),\n",
        "        transforms.Normalize(\n",
        "        mean=[0.485, 0.456, 0.406],\n",
        "        std=[0.229, 0.224, 0.225]\n",
        "    )])\n",
        "face_pose_dataset = headposeDataset(imgs=heads,h=h,transform=preprocess)\n",
        "dataloader = DataLoader(face_pose_dataset, batch_size=4,\n",
        "                        shuffle=True, num_workers=0)\n"
      ],
      "id": "1Td_uM91TUFZ",
      "execution_count": null,
      "outputs": []
    },
    {
      "cell_type": "code",
      "metadata": {
        "id": "aOH0ar_j_Iz6"
      },
      "source": [
        "validation_split = .2\n",
        "shuffle_dataset = True\n",
        "random_seed= 42\n",
        "batch_size= 4\n",
        "\n",
        "# Creating data indices for training and validation splits:\n",
        "dataset_size = len(face_pose_dataset)\n",
        "indices = list(range(dataset_size))\n",
        "split = int(np.floor(validation_split * dataset_size))\n",
        "if shuffle_dataset :\n",
        "    np.random.seed(random_seed)\n",
        "    np.random.shuffle(indices)\n",
        "train_indices, val_indices = indices[split:], indices[:split]\n",
        "\n",
        "# Creating PT data samplers and loaders:\n",
        "train_sampler = SubsetRandomSampler(train_indices)\n",
        "valid_sampler = SubsetRandomSampler(val_indices)\n",
        "\n",
        "train_loader = torch.utils.data.DataLoader(face_pose_dataset, batch_size=batch_size, \n",
        "                                           sampler=train_sampler)\n",
        "validation_loader = torch.utils.data.DataLoader(face_pose_dataset, batch_size=batch_size,\n",
        "                                                sampler=valid_sampler)"
      ],
      "id": "aOH0ar_j_Iz6",
      "execution_count": null,
      "outputs": []
    },
    {
      "cell_type": "markdown",
      "metadata": {
        "id": "EZT7JvGhIv4_"
      },
      "source": [
        ""
      ],
      "id": "EZT7JvGhIv4_"
    },
    {
      "cell_type": "code",
      "metadata": {
        "id": "rm1WqwHufTrj"
      },
      "source": [
        "#Function to create a Pretrained Resnet Model with a Fully Connected Layer\n",
        "# (out_1: ouput of 1st layer), (out_2: ouput of 2nd layer)\n",
        "def createModel_resnet34(out_1, out_2):\n",
        "    model = torchvision.models.resnet34(pretrained = True)\n",
        "    num_ftrs = model.fc.in_features\n",
        "\n",
        "    for param in model.parameters():\n",
        "        param.requires_grad = False\n",
        "    \n",
        "    #Creating 3 Linear connected layers which can be trained\n",
        "    fc1 = nn.Linear(num_ftrs, out_1)\n",
        "    fc2 = nn.Linear(out_1, out_2)\n",
        "    fc3 = nn.Linear(out_2, 2)\n",
        "\n",
        "    layers = [fc1, fc2, fc3]\n",
        "    for linearLayer in layers:\n",
        "        #Applying He initialization to all layers\n",
        "        nn.init.kaiming_uniform_(linearLayer.weight, nonlinearity='leaky_relu')\n",
        "  \n",
        "\n",
        "\n",
        "    #Setting Resnet's fully connected layer to our collection of three Linear layers with nn.Sequential\n",
        "    model.fc = nn.Sequential(fc1, nn.LeakyReLU(),fc2, nn.LeakyReLU(),fc3)\n",
        "    model.double() #double to set variables to double\n",
        "    #Sending the device to the GPU if avaliable\n",
        "    model.to(device)\n",
        "\n",
        "    return model"
      ],
      "id": "rm1WqwHufTrj",
      "execution_count": null,
      "outputs": []
    },
    {
      "cell_type": "code",
      "metadata": {
        "id": "bg3RF9ziBnkS"
      },
      "source": [
        "device = torch.device('cuda' if torch.cuda.is_available() else 'cpu')\n",
        "#summary(m.to(device),input_size=(3, 224, 224))\n",
        "device= torch.device('cpu')\n"
      ],
      "id": "bg3RF9ziBnkS",
      "execution_count": null,
      "outputs": []
    },
    {
      "cell_type": "code",
      "metadata": {
        "id": "maNWaV-7SXya"
      },
      "source": [
        "#check types : make sure both types are the same\n",
        "print(next(iter(train_loader))['image'].type())\n",
        "print(next(iter(train_loader))['landmarks'].type())\n"
      ],
      "id": "maNWaV-7SXya",
      "execution_count": null,
      "outputs": []
    },
    {
      "cell_type": "code",
      "metadata": {
        "id": "VGxRLjSyCR84"
      },
      "source": [
        ""
      ],
      "id": "VGxRLjSyCR84",
      "execution_count": null,
      "outputs": []
    },
    {
      "cell_type": "code",
      "metadata": {
        "id": "gjW6vWkWRzBv"
      },
      "source": [
        "for batch_idx, (data_, target_) in enumerate(train_loader):\n",
        "        print(batch_idx,data_,target_)"
      ],
      "id": "gjW6vWkWRzBv",
      "execution_count": null,
      "outputs": []
    },
    {
      "cell_type": "code",
      "metadata": {
        "id": "BIiEKZs2RWr_"
      },
      "source": [
        "#Function to handle training\n",
        "#(model: model to train), (criterion: loss function for the model), (optimizer, what optimizer to use)\n",
        "def train(model, criterion, optimizer, file, epochs=9, trainLoss=[], validationLoss=[]):\n",
        "    device = torch.device(\"cpu\")\n",
        "    print(\"Starting training\")\n",
        "    for epoch in range(epochs):\n",
        "        print(f\"Epoch Number: {epoch}\")\n",
        "\n",
        "        testAccuracy = 0\n",
        "        totalLoss = 0\n",
        "\n",
        "        for i in range(len(train_loader)):\n",
        "            #Put model into training mode\n",
        "            model.train()\n",
        "            batch= next(iter(train_loader))\n",
        "            x=batch['image']\n",
        "            y=batch['landmarks']\n",
        "            #Zero out gradients\n",
        "            optimizer.zero_grad()\n",
        "            #Make a prediction\n",
        "            y_hat = model(x)\n",
        "            \n",
        "            #Calculate the loss\n",
        "            loss = criterion(y_hat, y)\n",
        "            l = torch.sqrt(loss)\n",
        "            #Update the total loss\n",
        "            totalLoss += l.item()\n",
        "            #Initiate backpropagation\n",
        "            l.backward()\n",
        "            \n",
        "            #Update parameters\n",
        "            optimizer.step()\n",
        "\n",
        "            #testAccuracy += (y_hat == y).sum().item()\n",
        "        trainLoss.append(totalLoss)\n",
        "        print(f\"loss: {totalLoss}\")\n",
        "        \n",
        "        valAccuracy = 0\n",
        "        totalLoss = 0\n",
        "        \n",
        "        \n",
        "        for j in range(len(validation_loader)):\n",
        "            # Put the model into evaluation mode\n",
        "            banch= next(iter(validation_loader))\n",
        "            x=banch['image']\n",
        "            y=banch['landmarks']\n",
        "            model.eval()\n",
        "            y_pred= model(x)\n",
        "            print(y_pred)\n",
        "            loss = criterion(y_pred, y)\n",
        "            l = torch.sqrt(loss)\n",
        "            totalLoss += l\n",
        "        print(f\"val loss: {totalLoss}\")\n",
        "        validationLoss.append(totalLoss)\n",
        "        #Save our model for each epoch\n",
        "    fig = plt.figure(figsize=(20,10))\n",
        "    plt.title(\"Train-Validation rmse\")\n",
        "    plt.plot(trainLoss, label='train')\n",
        "    plt.plot(validationLoss, label='validation')\n",
        "    plt.xlabel('num_epochs', fontsize=12)\n",
        "    plt.ylabel('accuracy', fontsize=12)\n",
        "    plt.legend(loc='best')\n",
        "\n",
        "\n",
        "    torch.save(model.state_dict(), file)\n",
        "    return trainLoss, validationLoss, model\n",
        "\n",
        "#Create a model using our function\n",
        "model = createModel_resnet34(512, 128)\n",
        "#Define our loss and optimizers\n",
        "criterion = nn.MSELoss()\n",
        "optimizer = optim.SGD(model.parameters(), lr=0.0001, momentum=0.9)\n",
        "#optimizer = optim.Adam(model.parameters(), lr = 0.001)\n",
        "#Specify output file name\n",
        "file = \"ResnetFinal.pth\" #save model\n",
        "\n",
        "#Try to use Colab's GPU here, otherwise it will take a long time to train.\n",
        "output = train(model, criterion, optimizer, file)"
      ],
      "id": "BIiEKZs2RWr_",
      "execution_count": null,
      "outputs": []
    },
    {
      "cell_type": "code",
      "metadata": {
        "id": "u54m2qfei_gY"
      },
      "source": [
        "h"
      ],
      "id": "u54m2qfei_gY",
      "execution_count": null,
      "outputs": []
    },
    {
      "cell_type": "code",
      "metadata": {
        "id": "hjQjzjBhBHOa"
      },
      "source": [
        "%reset # to reset all variables"
      ],
      "id": "hjQjzjBhBHOa",
      "execution_count": null,
      "outputs": []
    }
  ]
}
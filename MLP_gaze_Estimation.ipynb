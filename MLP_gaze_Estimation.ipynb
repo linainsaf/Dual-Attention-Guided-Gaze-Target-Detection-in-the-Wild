{
  "nbformat": 4,
  "nbformat_minor": 0,
  "metadata": {
    "colab": {
      "name": "MLP_gaze_Estimation",
      "provenance": []
    },
    "kernelspec": {
      "name": "python3",
      "display_name": "Python 3"
    },
    "language_info": {
      "name": "python"
    },
    "accelerator": "GPU"
  },
  "cells": [
    {
      "cell_type": "code",
      "metadata": {
        "id": "gOeVLyxKpQ4q",
        "colab": {
          "base_uri": "https://localhost:8080/"
        },
        "outputId": "cef7217a-1c06-40c2-a130-96a0481a7a26"
      },
      "source": [
        "from google.colab import drive\n",
        "drive.mount('/content/drive')"
      ],
      "execution_count": 1,
      "outputs": [
        {
          "output_type": "stream",
          "name": "stdout",
          "text": [
            "Drive already mounted at /content/drive; to attempt to forcibly remount, call drive.mount(\"/content/drive\", force_remount=True).\n"
          ]
        }
      ]
    },
    {
      "cell_type": "code",
      "metadata": {
        "id": "I7CMQOeCoX3t"
      },
      "source": [
        "import pickle\n",
        " \n",
        "\n",
        "# Import h= (yaw,pitch)\n",
        "with open(\"/content/drive/My Drive/h_list.txt\", \"rb\") as fp:   # Unpickling\n",
        "    h = pickle.load(fp)\n",
        "\n",
        "# Import fl\n",
        "with open(\"/content/drive/My Drive/features_left.txt\", \"rb\") as fp:   # Unpickling\n",
        "    features_left = pickle.load(fp)\n",
        "\n",
        "# Import fr\n",
        "with open(\"/content/drive/My Drive/features_right.txt\", \"rb\") as fp:   # Unpickling\n",
        "    features_right = pickle.load(fp)\n",
        "\n",
        "# Import target gaze\n",
        "with open(\"/content/drive/My Drive/gaze.txt\", \"rb\") as fp:   # Unpickling\n",
        "    gazes = pickle.load(fp)\n"
      ],
      "execution_count": 2,
      "outputs": []
    },
    {
      "cell_type": "code",
      "source": [
        "import numpy as np\n",
        "from os.path import dirname, join as pjoin\n",
        "import scipy.io as sio\n",
        "import cv2\n",
        "import os\n",
        "import matplotlib.pyplot as plt\n",
        "from matplotlib.pyplot import figure\n",
        "import matplotlib.patches as patches\n",
        "import math\n",
        "from math import *\n",
        "from torch.utils.data import Dataset\n",
        "import torchvision\n",
        "import torch.optim as optim\n",
        "from torchvision import models \n",
        "from torchvision import transforms\n",
        "import torch.nn as nn\n",
        "from PIL import Image\n",
        "from matplotlib import cm\n",
        "import torch\n",
        "from torch.utils.data.sampler import SubsetRandomSampler\n",
        "device = torch.device('cuda' if torch.cuda.is_available() else 'cpu')\n",
        "device"
      ],
      "metadata": {
        "colab": {
          "base_uri": "https://localhost:8080/"
        },
        "id": "b9Gb78aLZV3f",
        "outputId": "311e4170-97c4-4a2a-b3f1-9ef30f0b3eba"
      },
      "execution_count": 3,
      "outputs": [
        {
          "output_type": "execute_result",
          "data": {
            "text/plain": [
              "device(type='cuda')"
            ]
          },
          "metadata": {},
          "execution_count": 3
        }
      ]
    },
    {
      "cell_type": "code",
      "source": [
        "h2=torch.as_tensor(h).cuda()"
      ],
      "metadata": {
        "id": "xKhdJ-zicOuC"
      },
      "execution_count": 4,
      "outputs": []
    },
    {
      "cell_type": "code",
      "source": [
        "gazes2=torch.as_tensor(np.array(gazes)).cuda()"
      ],
      "metadata": {
        "id": "nFmssGGQeWgq"
      },
      "execution_count": 5,
      "outputs": []
    },
    {
      "cell_type": "code",
      "source": [
        "data_in = torch.cat((h2,features_right, features_left), 1)"
      ],
      "metadata": {
        "id": "RFTpVtYouCp2"
      },
      "execution_count": 6,
      "outputs": []
    },
    {
      "cell_type": "code",
      "source": [
        "data_in2= data_in.clone().detach()"
      ],
      "metadata": {
        "id": "cIvBmSJUEzMA"
      },
      "execution_count": 7,
      "outputs": []
    },
    {
      "cell_type": "code",
      "source": [
        "data_in2 = ((data_in2.T - data_in2.mean(axis = 1))/data_in2.std(axis = 1)).T"
      ],
      "metadata": {
        "id": "_6PGj86nSW8y"
      },
      "execution_count": 8,
      "outputs": []
    },
    {
      "cell_type": "code",
      "source": [
        "\n",
        "class MLPDataset(Dataset):\n",
        "    \"\"\"prep_data_for_MLP.\"\"\"\n",
        "\n",
        "    def __init__(self, data_in,gaze, transform=None):\n",
        "        self.data_in = data_in\n",
        "        self.target = gazes\n",
        "        self.transform = transform\n",
        "\n",
        "\n",
        "\n",
        "    def __len__(self):\n",
        "        return len(self.target)\n",
        "\n",
        "    def __getitem__(self, idx):\n",
        "        if torch.is_tensor(idx):\n",
        "            idx = idx.tolist()\n",
        "        x = self.data_in[idx]\n",
        "        y=  self.target[idx]\n",
        "        if self.transform:\n",
        "              x = self.transform(x)\n",
        "        #sample = {'input': x, 'gaze': y}\n",
        "        return x,y"
      ],
      "metadata": {
        "id": "CbZu0lA6aG9H"
      },
      "execution_count": 9,
      "outputs": []
    },
    {
      "cell_type": "markdown",
      "source": [
        ""
      ],
      "metadata": {
        "id": "CKQn5bNWtaXe"
      }
    },
    {
      "cell_type": "code",
      "source": [
        "from torch.utils.data import Dataset, DataLoader"
      ],
      "metadata": {
        "id": "DYTca5XVkgZe"
      },
      "execution_count": 10,
      "outputs": []
    },
    {
      "cell_type": "code",
      "metadata": {
        "id": "4RAX6xeKphPf"
      },
      "source": [
        "preprocess = transforms.Compose([\n",
        "        transforms.Lambda(lambda x: x.double()),\n",
        "\n",
        "        ])\n",
        "dataset = MLPDataset(data_in2,gazes2,transform=preprocess)"
      ],
      "execution_count": 11,
      "outputs": []
    },
    {
      "cell_type": "code",
      "source": [
        "validation_split = .2\n",
        "shuffle_dataset = True\n",
        "random_seed= 42\n",
        "batch_size= 128\n",
        "# Creating data indices for training and validation splits:\n",
        "dataset_size = len(dataset)\n",
        "indices = list(range(dataset_size))\n",
        "split = int(np.floor(validation_split * dataset_size))\n",
        "if shuffle_dataset :\n",
        "    np.random.seed(random_seed)\n",
        "    np.random.shuffle(indices)\n",
        "train_indices, val_indices = indices[split:], indices[:split]\n",
        "\n",
        "# Creating PT data samplers and loaders:\n",
        "train_sampler = SubsetRandomSampler(train_indices)\n",
        "valid_sampler = SubsetRandomSampler(val_indices)\n",
        "\n",
        "train_loader = torch.utils.data.DataLoader(dataset, batch_size=batch_size, \n",
        "                                           sampler=train_sampler)\n",
        "validation_loader = torch.utils.data.DataLoader(dataset, batch_size=batch_size,\n",
        "                                                sampler=valid_sampler)"
      ],
      "metadata": {
        "id": "ODtGye93lgdf"
      },
      "execution_count": 12,
      "outputs": []
    },
    {
      "cell_type": "code",
      "metadata": {
        "id": "rm1WqwHufTrj"
      },
      "source": [
        "#Function to create a Pretrained Resnet Model with a Fully Connected Layer\n",
        "# (out_1: ouput of 1st layer), (out_2: ouput of 2nd layer)\n",
        "def createModel_MLP(hidden):\n",
        "    model = nn.Sequential(\n",
        "      nn.Flatten(),\n",
        "      nn.Linear(2048*2+2, hidden),\n",
        "      nn.ReLU(),\n",
        "      nn.Linear(hidden, 128),\n",
        "      nn.ReLU(),\n",
        "      nn.Linear(128, 3 ),\n",
        "    )\n",
        "    \n",
        "    model.double() #double to set variables to double\n",
        "    #Sending the device to the GPU if avaliable\n",
        "    model.to(device)\n",
        "\n",
        "    return model"
      ],
      "execution_count": 13,
      "outputs": []
    },
    {
      "cell_type": "code",
      "metadata": {
        "colab": {
          "base_uri": "https://localhost:8080/",
          "height": 1000
        },
        "id": "BIiEKZs2RWr_",
        "outputId": "cd0cbfe9-e1f0-428e-c393-b48b95bfd915"
      },
      "source": [
        "#Function to handle training\n",
        "#(model: model to train), (criterion: loss function for the model), (optimizer, what optimizer to use)\n",
        "def train(model, criterion, optimizer, file, epochs=80, trainLoss=[], validationLoss=[]):\n",
        "    #device = torch.device(\"cpu\")\n",
        "    print(\"Starting training\")\n",
        "    for epoch in range(epochs):\n",
        "        print(f\"Epoch Number: {epoch}\")\n",
        "\n",
        "        testAccuracy = 0\n",
        "        totalLoss = 0\n",
        "\n",
        "        for i in range(len(train_loader)):\n",
        "            #Put model into training mode\n",
        "            model.train()\n",
        "            batch= next(iter(train_loader))\n",
        "            x=batch[0]\n",
        "            y=batch[1].to(device)\n",
        "            #Zero out gradients\n",
        "            optimizer.zero_grad()\n",
        "            #Make a prediction\n",
        "            y_hat = model(x)\n",
        "            \n",
        "            #Calculate the loss\n",
        "            loss = criterion(y_hat, y)\n",
        "            l = torch.sqrt(loss)\n",
        "            #Update the total loss\n",
        "            totalLoss += l.item()\n",
        "            #Initiate backpropagation\n",
        "            l.backward()\n",
        "            \n",
        "            #Update parameters\n",
        "            optimizer.step()\n",
        "\n",
        "            #testAccuracy += (y_hat == y).sum().item()\n",
        "        trainLoss.append(totalLoss)\n",
        "        print(f\"loss: {totalLoss}\")\n",
        "        \n",
        "        valAccuracy = 0\n",
        "        totalLoss = 0\n",
        "        \n",
        "        \n",
        "        for j in range(len(validation_loader)):\n",
        "            # Put the model into evaluation mode\n",
        "            banch= next(iter(validation_loader))\n",
        "            x=banch[0]\n",
        "            y=banch[1].to(device)\n",
        "            model.eval()\n",
        "            y_pred= model(x)\n",
        "            #print(y_pred)\n",
        "            loss = criterion(y_pred, y)\n",
        "            l = torch.sqrt(loss)\n",
        "            totalLoss += l\n",
        "        print(f\"val loss: {totalLoss}\")\n",
        "        validationLoss.append(totalLoss)\n",
        "        #Save our model for each epoch\n",
        "    fig = plt.figure(figsize=(20,10))\n",
        "    plt.title(\"Train-Validation rmse\")\n",
        "    plt.plot(trainLoss, label='train')\n",
        "    plt.plot(validationLoss, label='validation')\n",
        "    plt.xlabel('num_epochs', fontsize=12)\n",
        "    plt.ylabel('RMSE', fontsize=12)\n",
        "    plt.legend(loc='best')\n",
        "    plt.savefig('MLP_RMSE_normalized.png')\n",
        "\n",
        "\n",
        "    torch.save(model.state_dict(), file)\n",
        "    torch.save(model.state_dict(), \"/content/drive/MyDrive/\"+file)\n",
        "    return trainLoss, validationLoss, model\n",
        "\n",
        "#Create a model using our function\n",
        "model = createModel_MLP(256)\n",
        "#Define our loss and optimizers\n",
        "criterion = nn.MSELoss()\n",
        "optimizer = optim.Adam(model.parameters(),lr=0.001)\n",
        "#Specify output file name\n",
        "file = \"MLP.pth\" #save model\n",
        "\n",
        "#Try to use Colab's GPU here, otherwise it will take a long time to train.\n",
        "output = train(model, criterion, optimizer, file)"
      ],
      "execution_count": 14,
      "outputs": [
        {
          "output_type": "stream",
          "name": "stdout",
          "text": [
            "Starting training\n",
            "Epoch Number: 0\n",
            "loss: 31.0700128154349\n",
            "val loss: 7.545045667824686\n",
            "Epoch Number: 1\n",
            "loss: 29.815956212844185\n",
            "val loss: 7.605753597489819\n",
            "Epoch Number: 2\n",
            "loss: 29.694638301989805\n",
            "val loss: 7.476167103674154\n",
            "Epoch Number: 3\n",
            "loss: 29.314425954270448\n",
            "val loss: 7.5090350156298395\n",
            "Epoch Number: 4\n",
            "loss: 29.612395750925884\n",
            "val loss: 7.558741187773747\n",
            "Epoch Number: 5\n",
            "loss: 29.442167308856167\n",
            "val loss: 7.4138561468225666\n",
            "Epoch Number: 6\n",
            "loss: 29.41348356601696\n",
            "val loss: 7.571071624884098\n",
            "Epoch Number: 7\n",
            "loss: 29.380953167965497\n",
            "val loss: 7.505232859137025\n",
            "Epoch Number: 8\n",
            "loss: 29.225808770144457\n",
            "val loss: 7.435970605271609\n",
            "Epoch Number: 9\n",
            "loss: 29.30059680522803\n",
            "val loss: 7.456028970192376\n",
            "Epoch Number: 10\n",
            "loss: 29.059090008183734\n",
            "val loss: 7.4812773251451805\n",
            "Epoch Number: 11\n",
            "loss: 29.372307928434314\n",
            "val loss: 7.405822395034271\n",
            "Epoch Number: 12\n",
            "loss: 29.28768449431446\n",
            "val loss: 7.482557777663625\n",
            "Epoch Number: 13\n",
            "loss: 29.065191299574455\n",
            "val loss: 7.4668337150033155\n",
            "Epoch Number: 14\n",
            "loss: 29.40156115125853\n",
            "val loss: 7.401533442550833\n",
            "Epoch Number: 15\n",
            "loss: 29.15451127814754\n",
            "val loss: 7.397807043290287\n",
            "Epoch Number: 16\n",
            "loss: 28.969312545662092\n",
            "val loss: 7.672157856703267\n",
            "Epoch Number: 17\n",
            "loss: 29.013987063516726\n",
            "val loss: 7.469195093771204\n",
            "Epoch Number: 18\n",
            "loss: 29.192755745718678\n",
            "val loss: 7.44466272976407\n",
            "Epoch Number: 19\n",
            "loss: 28.87361715489043\n",
            "val loss: 7.3015382689306225\n",
            "Epoch Number: 20\n",
            "loss: 28.79407022537162\n",
            "val loss: 7.397264634802966\n",
            "Epoch Number: 21\n",
            "loss: 28.835952859439207\n",
            "val loss: 7.401767354705724\n",
            "Epoch Number: 22\n",
            "loss: 28.86871456039876\n",
            "val loss: 7.507285663872612\n",
            "Epoch Number: 23\n",
            "loss: 28.921064919476066\n",
            "val loss: 7.514430744917726\n",
            "Epoch Number: 24\n",
            "loss: 28.830662043604185\n",
            "val loss: 7.34290453291539\n",
            "Epoch Number: 25\n",
            "loss: 28.83058238607651\n",
            "val loss: 7.315385376127311\n",
            "Epoch Number: 26\n",
            "loss: 28.666993048473927\n",
            "val loss: 7.401086900230029\n",
            "Epoch Number: 27\n",
            "loss: 28.7657008422377\n",
            "val loss: 7.287363582585382\n",
            "Epoch Number: 28\n",
            "loss: 28.614464770692965\n",
            "val loss: 7.281342339006363\n",
            "Epoch Number: 29\n",
            "loss: 28.711015183467566\n",
            "val loss: 7.40700336926712\n",
            "Epoch Number: 30\n",
            "loss: 28.790170889159384\n",
            "val loss: 7.362313649031799\n",
            "Epoch Number: 31\n",
            "loss: 28.81034295136377\n",
            "val loss: 7.410908877391327\n",
            "Epoch Number: 32\n",
            "loss: 28.845774587877717\n",
            "val loss: 7.321192594052419\n",
            "Epoch Number: 33\n",
            "loss: 28.713367807767348\n",
            "val loss: 7.285144413579864\n",
            "Epoch Number: 34\n",
            "loss: 28.53565727781981\n",
            "val loss: 7.385271420162825\n",
            "Epoch Number: 35\n",
            "loss: 28.690639411635036\n",
            "val loss: 7.2606869810187105\n",
            "Epoch Number: 36\n",
            "loss: 28.603534031305916\n",
            "val loss: 7.3387758708482975\n",
            "Epoch Number: 37\n",
            "loss: 28.528473491951154\n",
            "val loss: 7.2960873171117955\n",
            "Epoch Number: 38\n",
            "loss: 28.64930600104173\n",
            "val loss: 7.323509882142429\n",
            "Epoch Number: 39\n",
            "loss: 28.653075987484012\n",
            "val loss: 7.2914629787935805\n",
            "Epoch Number: 40\n",
            "loss: 28.410810293950284\n",
            "val loss: 7.2657848153144915\n",
            "Epoch Number: 41\n",
            "loss: 28.499796195369335\n",
            "val loss: 7.272058728777139\n",
            "Epoch Number: 42\n",
            "loss: 28.64111300467943\n",
            "val loss: 7.23547504133159\n",
            "Epoch Number: 43\n",
            "loss: 28.59575433767232\n",
            "val loss: 7.319116069946273\n",
            "Epoch Number: 44\n",
            "loss: 28.459861748389883\n",
            "val loss: 7.278910860840857\n",
            "Epoch Number: 45\n",
            "loss: 28.496811080996668\n",
            "val loss: 7.24822967559492\n",
            "Epoch Number: 46\n",
            "loss: 28.514303857954513\n",
            "val loss: 7.293566879728224\n",
            "Epoch Number: 47\n",
            "loss: 28.47795797091105\n",
            "val loss: 7.290646340269818\n",
            "Epoch Number: 48\n",
            "loss: 28.38681953738346\n",
            "val loss: 7.316160952741061\n",
            "Epoch Number: 49\n",
            "loss: 28.39393738552594\n",
            "val loss: 7.228716785292513\n",
            "Epoch Number: 50\n",
            "loss: 28.545298837950135\n",
            "val loss: 7.211044477961621\n",
            "Epoch Number: 51\n",
            "loss: 28.569334310259134\n",
            "val loss: 7.286075579134192\n",
            "Epoch Number: 52\n",
            "loss: 28.57915586947796\n",
            "val loss: 7.316888250735429\n",
            "Epoch Number: 53\n",
            "loss: 28.387971863623907\n",
            "val loss: 7.396665945137233\n",
            "Epoch Number: 54\n",
            "loss: 28.64889186848203\n",
            "val loss: 7.347732263171147\n",
            "Epoch Number: 55\n",
            "loss: 28.191962551806228\n",
            "val loss: 7.328418871382392\n",
            "Epoch Number: 56\n",
            "loss: 28.38122366613119\n",
            "val loss: 7.300476240749928\n",
            "Epoch Number: 57\n",
            "loss: 28.473124233348795\n",
            "val loss: 7.241348555705802\n",
            "Epoch Number: 58\n",
            "loss: 28.27292386067589\n",
            "val loss: 7.308579854469576\n",
            "Epoch Number: 59\n",
            "loss: 28.31761411408345\n",
            "val loss: 7.248786783954226\n",
            "Epoch Number: 60\n",
            "loss: 28.188363709516178\n",
            "val loss: 7.212475625308188\n",
            "Epoch Number: 61\n",
            "loss: 28.32886274713276\n",
            "val loss: 7.187529538437178\n",
            "Epoch Number: 62\n",
            "loss: 28.385327406956502\n",
            "val loss: 7.320652441370095\n",
            "Epoch Number: 63\n",
            "loss: 28.226855467331298\n",
            "val loss: 7.372947743538101\n",
            "Epoch Number: 64\n",
            "loss: 28.35816448195008\n",
            "val loss: 7.279057452696181\n",
            "Epoch Number: 65\n",
            "loss: 28.451389717604364\n",
            "val loss: 7.265186390869786\n",
            "Epoch Number: 66\n",
            "loss: 28.53279775219844\n",
            "val loss: 7.2659358102913085\n",
            "Epoch Number: 67\n",
            "loss: 28.502946851737963\n",
            "val loss: 7.25939754162694\n",
            "Epoch Number: 68\n",
            "loss: 28.531391750714402\n",
            "val loss: 7.218110394807906\n",
            "Epoch Number: 69\n",
            "loss: 28.621129656083955\n",
            "val loss: 7.267105545500003\n",
            "Epoch Number: 70\n",
            "loss: 28.420178225999205\n",
            "val loss: 7.311345992149572\n",
            "Epoch Number: 71\n",
            "loss: 28.29692373028933\n",
            "val loss: 7.2987056257732394\n",
            "Epoch Number: 72\n",
            "loss: 28.36395843163981\n",
            "val loss: 7.251887117672582\n",
            "Epoch Number: 73\n",
            "loss: 28.450992185345164\n",
            "val loss: 7.341307523534714\n",
            "Epoch Number: 74\n",
            "loss: 28.408670418466794\n",
            "val loss: 7.339550275015479\n",
            "Epoch Number: 75\n",
            "loss: 28.351205486619765\n",
            "val loss: 7.311303443858777\n",
            "Epoch Number: 76\n",
            "loss: 28.422657939676068\n",
            "val loss: 7.199381226278622\n",
            "Epoch Number: 77\n",
            "loss: 28.41234846469739\n",
            "val loss: 7.252412987263794\n",
            "Epoch Number: 78\n",
            "loss: 28.35899853288709\n",
            "val loss: 7.262669975626193\n",
            "Epoch Number: 79\n",
            "loss: 28.554473126973456\n",
            "val loss: 7.275391156270735\n"
          ]
        },
        {
          "output_type": "display_data",
          "data": {
            "image/png": "[encoded data removed]",
            "text/plain": [
              "<Figure size 1440x720 with 1 Axes>"
            ]
          },
          "metadata": {
            "needs_background": "light"
          }
        }
      ]
    }
  ]
}
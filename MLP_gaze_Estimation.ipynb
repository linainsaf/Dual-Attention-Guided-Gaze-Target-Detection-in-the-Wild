{
  "nbformat": 4,
  "nbformat_minor": 0,
  "metadata": {
    "colab": {
      "name": "MLP_gaze_Estimation",
      "provenance": []
    },
    "kernelspec": {
      "name": "python3",
      "display_name": "Python 3"
    },
    "language_info": {
      "name": "python"
    },
    "accelerator": "GPU"
  },
  "cells": [
    {
      "cell_type": "code",
      "metadata": {
        "id": "gOeVLyxKpQ4q",
        "colab": {
          "base_uri": "https://localhost:8080/"
        },
        "outputId": "ab8b311d-6acc-4b50-9713-af83e1d3f079"
      },
      "source": [
        "from google.colab import drive\n",
        "drive.mount('/content/drive')"
      ],
      "execution_count": 1,
      "outputs": [
        {
          "output_type": "stream",
          "name": "stdout",
          "text": [
            "Mounted at /content/drive\n"
          ]
        }
      ]
    },
    {
      "cell_type": "code",
      "source": [
        "import pickle"
      ],
      "metadata": {
        "id": "Uoe0il1zLlBG"
      },
      "execution_count": 1,
      "outputs": []
    },
    {
      "cell_type": "code",
      "metadata": {
        "id": "I7CMQOeCoX3t"
      },
      "source": [
        "\n",
        " \n",
        "\n",
        "# Import h= (yaw,pitch)\n",
        "with open(\"/content/drive/My Drive/h_list.txt\", \"rb\") as fp:   # Unpickling\n",
        "    h = pickle.load(fp)\n",
        "\n",
        "# Import fl\n",
        "with open(\"/content/drive/My Drive/features_left512.txt\", \"rb\") as fp:   # Unpickling\n",
        "    features_left = pickle.load(fp)\n",
        "\n",
        "# Import fr\n",
        "with open(\"/content/drive/My Drive/features_right512.txt\", \"rb\") as fp:   # Unpickling\n",
        "    features_right = pickle.load(fp)\n",
        "\n",
        "# Import target gaze\n",
        "with open(\"/content/drive/My Drive/gaze.txt\", \"rb\") as fp:   # Unpickling\n",
        "    gazes = pickle.load(fp)\n",
        "\n",
        "# Import left eye images\n",
        "with open(\"/content/drive/My Drive/l_imgs.txt\", \"rb\") as fp:   # Unpickling\n",
        "    l_imgs = pickle.load(fp)\n",
        "\n",
        "\n",
        "# Import right eye images\n",
        "with open(\"/content/drive/My Drive/r_imgs.txt\", \"rb\") as fp:   # Unpickling\n",
        "    r_imgs = pickle.load(fp)"
      ],
      "execution_count": 2,
      "outputs": []
    },
    {
      "cell_type": "code",
      "source": [
        "import numpy as np\n",
        "from os.path import dirname, join as pjoin\n",
        "import scipy.io as sio\n",
        "import cv2\n",
        "import os\n",
        "import matplotlib.pyplot as plt\n",
        "from matplotlib.pyplot import figure\n",
        "import matplotlib.patches as patches\n",
        "import math\n",
        "from math import *\n",
        "from torch.utils.data import Dataset\n",
        "import torchvision\n",
        "import torch.optim as optim\n",
        "from torchvision import models \n",
        "from torchvision import transforms\n",
        "import torch.nn as nn\n",
        "from PIL import Image\n",
        "from matplotlib import cm\n",
        "import torch\n",
        "from torch.utils.data.sampler import SubsetRandomSampler\n",
        "from torch.utils.data import Dataset, DataLoader\n",
        "device = torch.device('cuda' if torch.cuda.is_available() else 'cpu')\n",
        "device"
      ],
      "metadata": {
        "colab": {
          "base_uri": "https://localhost:8080/"
        },
        "id": "b9Gb78aLZV3f",
        "outputId": "125c866c-8377-4c61-ee98-d83037a2475c"
      },
      "execution_count": 4,
      "outputs": [
        {
          "output_type": "execute_result",
          "data": {
            "text/plain": [
              "device(type='cuda')"
            ]
          },
          "metadata": {},
          "execution_count": 4
        }
      ]
    },
    {
      "cell_type": "markdown",
      "source": [
        "# Data preparation and concatenation"
      ],
      "metadata": {
        "id": "byOKx3mzIi5W"
      }
    },
    {
      "cell_type": "code",
      "source": [
        "#l operator = {0,1} 0 if eyes are not detected, 1 if eyes are detected \n",
        "#we multiply this operator with the features extracted from the resnet\n",
        "def l_op(l_imgs,r_imgs): \n",
        "    l_imgs = torch.as_tensor(np.array(l_imgs)).cuda()\n",
        "    r_imgs = torch.as_tensor(np.array(r_imgs)).cuda()\n",
        "    eyes_b =l_imgs.sum(axis = (3,2,1)) +r_imgs.sum(axis = (3,2,1))\n",
        "    lop = (eyes_b).bool()\n",
        "    lop = lop.int()\n",
        "    return lop\n",
        "\n",
        "def lop_eyes_features( lop, eyes_features):\n",
        "    x= eyes_features\n",
        "    for i in range(len(lop)):\n",
        "      x[i] = torch.mul(eyes_features[i],lop[i])\n",
        "    return x"
      ],
      "metadata": {
        "id": "xzBFlrqbBoHW"
      },
      "execution_count": 3,
      "outputs": []
    },
    {
      "cell_type": "code",
      "source": [
        "h2=torch.as_tensor(h).cuda()"
      ],
      "metadata": {
        "id": "xKhdJ-zicOuC"
      },
      "execution_count": 5,
      "outputs": []
    },
    {
      "cell_type": "code",
      "source": [
        "gazes2=torch.as_tensor(np.array(gazes)).cuda()"
      ],
      "metadata": {
        "id": "nFmssGGQeWgq"
      },
      "execution_count": 6,
      "outputs": []
    },
    {
      "cell_type": "code",
      "source": [
        "#prepare eyes features : concatenation + multiplication with l operator \n",
        "eyes_features = torch.cat((features_right, features_left), 1)\n",
        "lop = l_op(l_imgs,r_imgs)"
      ],
      "metadata": {
        "id": "5Aq9rF7HC8Jh"
      },
      "execution_count": 7,
      "outputs": []
    },
    {
      "cell_type": "code",
      "source": [
        "# Multiply eyes features and L operator\n",
        "lop_EyesFeatures = lop_eyes_features(lop,eyes_features)"
      ],
      "metadata": {
        "id": "N8uyndeSHyil"
      },
      "execution_count": 8,
      "outputs": []
    },
    {
      "cell_type": "code",
      "source": [
        "# Concatenate eyes features with h\n",
        "data_in = torch.cat((h2,lop_EyesFeatures), 1)"
      ],
      "metadata": {
        "id": "RFTpVtYouCp2"
      },
      "execution_count": 9,
      "outputs": []
    },
    {
      "cell_type": "code",
      "source": [
        "#Normalize the concatenated tensor\n",
        "data_in2= data_in.clone().detach()\n",
        "data_in2 = ((data_in2.T - data_in2.mean(axis = 1))/data_in2.std(axis = 1)).T"
      ],
      "metadata": {
        "id": "cIvBmSJUEzMA"
      },
      "execution_count": 10,
      "outputs": []
    },
    {
      "cell_type": "code",
      "source": [
        "data_in2.shape"
      ],
      "metadata": {
        "colab": {
          "base_uri": "https://localhost:8080/"
        },
        "id": "F_IZfee1GxFv",
        "outputId": "c92b847e-c1fe-4f7c-e2d8-9682f54c6a97"
      },
      "execution_count": 12,
      "outputs": [
        {
          "output_type": "execute_result",
          "data": {
            "text/plain": [
              "torch.Size([10000, 1026])"
            ]
          },
          "metadata": {},
          "execution_count": 12
        }
      ]
    },
    {
      "cell_type": "code",
      "source": [
        "\n",
        "class MLPDataset(Dataset):\n",
        "    \"\"\"prep_data_for_MLP.\"\"\"\n",
        "\n",
        "    def __init__(self, data_in,gaze, transform=None):\n",
        "        self.data_in = data_in\n",
        "        self.target = gazes\n",
        "        self.transform = transform\n",
        "\n",
        "\n",
        "\n",
        "    def __len__(self):\n",
        "        return len(self.target)\n",
        "\n",
        "    def __getitem__(self, idx):\n",
        "        if torch.is_tensor(idx):\n",
        "            idx = idx.tolist()\n",
        "        x = self.data_in[idx]\n",
        "        y=  self.target[idx]\n",
        "        if self.transform:\n",
        "              x = self.transform(x)\n",
        "        return x,y"
      ],
      "metadata": {
        "id": "CbZu0lA6aG9H"
      },
      "execution_count": 14,
      "outputs": []
    },
    {
      "cell_type": "code",
      "metadata": {
        "id": "4RAX6xeKphPf"
      },
      "source": [
        "preprocess = transforms.Compose([\n",
        "        transforms.Lambda(lambda x: x.double()),\n",
        "        ])\n",
        "dataset = MLPDataset(data_in2,gazes2,transform=preprocess)"
      ],
      "execution_count": 16,
      "outputs": []
    },
    {
      "cell_type": "code",
      "source": [
        "validation_split = .2\n",
        "shuffle_dataset = True\n",
        "random_seed= 42\n",
        "batch_size= 128\n",
        "# Creating data indices for training and validation splits:\n",
        "dataset_size = len(dataset)\n",
        "indices = list(range(dataset_size))\n",
        "split = int(np.floor(validation_split * dataset_size))\n",
        "if shuffle_dataset :\n",
        "    np.random.seed(random_seed)\n",
        "    np.random.shuffle(indices)\n",
        "train_indices, val_indices = indices[split:], indices[:split]\n",
        "\n",
        "# Creating PT data samplers and loaders:\n",
        "train_sampler = SubsetRandomSampler(train_indices)\n",
        "valid_sampler = SubsetRandomSampler(val_indices)\n",
        "\n",
        "train_loader = torch.utils.data.DataLoader(dataset, batch_size=batch_size, \n",
        "                                           sampler=train_sampler)\n",
        "validation_loader = torch.utils.data.DataLoader(dataset, batch_size=batch_size,\n",
        "                                                sampler=valid_sampler)"
      ],
      "metadata": {
        "id": "ODtGye93lgdf"
      },
      "execution_count": 17,
      "outputs": []
    },
    {
      "cell_type": "code",
      "source": [
        "#input tensor size\n",
        "tensor_size= len(features_left[0])*2+len(h[0])"
      ],
      "metadata": {
        "id": "Q5LMkGFIGm6V"
      },
      "execution_count": 18,
      "outputs": []
    },
    {
      "cell_type": "code",
      "metadata": {
        "id": "rm1WqwHufTrj"
      },
      "source": [
        "#Function to create a Pretrained Resnet Model with a Fully Connected Layer\n",
        "# (out_1: ouput of 1st layer), (out_2: ouput of 2nd layer)\n",
        "def createModel_MLP(hidden,tensor_size):\n",
        "    model = nn.Sequential(\n",
        "      nn.Flatten(),\n",
        "      nn.Linear(tensor_size, hidden),\n",
        "      nn.ReLU(),\n",
        "      #nn.Linear(hidden, 128),\n",
        "      #nn.ReLU(),\n",
        "      nn.Linear(hidden, 3 ),\n",
        "    )\n",
        "    \n",
        "    model.double() #double to set variables to double\n",
        "    #Sending the device to the GPU if avaliable\n",
        "    model.to(device)\n",
        "\n",
        "    return model"
      ],
      "execution_count": 19,
      "outputs": []
    },
    {
      "cell_type": "code",
      "source": [
        "#Function to handle training\n",
        "#(model: model to train), (criterion: loss function for the model), (optimizer, what optimizer to use)\n",
        "def train(model, criterion, optimizer, file, epochs=80, trainLoss=[], validationLoss=[]):\n",
        "    #device = torch.device(\"cpu\")\n",
        "    print(\"Starting training\")\n",
        "    for epoch in range(epochs):\n",
        "        print(f\"Epoch Number: {epoch}\")\n",
        "\n",
        "        testAccuracy = 0\n",
        "        totalLoss = 0\n",
        "\n",
        "        for i, data in enumerate(train_loader, 0):\n",
        "            #Put model into training mode\n",
        "            model.train()\n",
        "            #batch= next(iter(train_loader))\n",
        "            x=data[0]\n",
        "            y=data[1].to(device)\n",
        "            #Zero out gradients\n",
        "            optimizer.zero_grad()\n",
        "            #Make a prediction\n",
        "            y_hat = model(x)\n",
        "            \n",
        "            #Calculate the loss\n",
        "            loss = criterion(y_hat, y)\n",
        "            #l = torch.sqrt(loss)\n",
        "            #Update the total loss\n",
        "            totalLoss += loss\n",
        "            #Initiate backpropagation\n",
        "            loss.backward()\n",
        "            \n",
        "            #Update parameters\n",
        "            optimizer.step()\n",
        "\n",
        "            #testAccuracy += (y_hat == y).sum().item()\n",
        "        trainLoss.append(totalLoss)\n",
        "        print(f\"loss: {totalLoss}\")\n",
        "        \n",
        "        valAccuracy = 0\n",
        "        totalLoss = 0\n",
        "        \n",
        "        \n",
        "        for j, data in enumerate(validation_loader, 0):\n",
        "            # Put the model into evaluation mode\n",
        "            #banch= next(iter(validation_loader))\n",
        "            x=data[0]\n",
        "            y=data[1].to(device)\n",
        "            model.eval()\n",
        "            y_pred= model(x)\n",
        "            #print(y_pred)\n",
        "            loss = criterion(y_pred, y)\n",
        "            #l = torch.sqrt(loss)\n",
        "            totalLoss += loss\n",
        "        print(f\"val loss: {totalLoss}\")\n",
        "        validationLoss.append(totalLoss)\n",
        "        #Save our model for each epoch\n",
        "    fig = plt.figure(figsize=(20,10))\n",
        "    plt.title(\"Train-Validation rmse\")\n",
        "    plt.plot(trainLoss, label='train')\n",
        "    plt.plot(validationLoss, label='validation')\n",
        "    plt.xlabel('num_epochs', fontsize=12)\n",
        "    plt.ylabel('MSE', fontsize=12)\n",
        "    plt.legend(loc='best')\n",
        "    plt.savefig('MLP_MSE_normalized1026.png')\n",
        "    plt.savefig(\"/content/drive/MyDrive/\"+'MLP_MSE_normalized1026.png')\n",
        "\n",
        "    torch.save(model.state_dict(), file)\n",
        "    torch.save(model.state_dict(), \"/content/drive/MyDrive/\"+file)\n",
        "    return trainLoss, validationLoss, model\n",
        "\n",
        "#Create a model using our function\n",
        "model = createModel_MLP(256,tensor_size)\n",
        "#Define our loss and optimizers\n",
        "criterion = nn.MSELoss()\n",
        "optimizer = optim.Adam(model.parameters(),lr=0.0001)\n",
        "#Specify output file name\n",
        "file = \"MLP.pth\" #save model\n",
        "\n",
        "#Try to use Colab's GPU here, otherwise it will take a long time to train.\n",
        "output = train(model, criterion, optimizer, file,epochs= 100)"
      ],
      "metadata": {
        "colab": {
          "base_uri": "https://localhost:8080/",
          "height": 1000
        },
        "id": "CDVlIOi1JD_x",
        "outputId": "39ba7f90-7c4d-4d18-9543-3d74f9efc222"
      },
      "execution_count": 23,
      "outputs": [
        {
          "output_type": "stream",
          "name": "stdout",
          "text": [
            "Starting training\n",
            "Epoch Number: 0\n",
            "loss: 11.098617509833238\n",
            "val loss: 2.6047674627190207\n",
            "Epoch Number: 1\n",
            "loss: 9.648586850031837\n",
            "val loss: 2.557532906549756\n",
            "Epoch Number: 2\n",
            "loss: 9.578530719102773\n",
            "val loss: 2.541201517978924\n",
            "Epoch Number: 3\n",
            "loss: 9.543880914217299\n",
            "val loss: 2.5154621557068926\n",
            "Epoch Number: 4\n",
            "loss: 9.50878817635817\n",
            "val loss: 2.5107452320892683\n",
            "Epoch Number: 5\n",
            "loss: 9.586014811129786\n",
            "val loss: 2.5850049182363746\n",
            "Epoch Number: 6\n",
            "loss: 9.521385757143205\n",
            "val loss: 2.508413028230408\n",
            "Epoch Number: 7\n",
            "loss: 9.494090997558967\n",
            "val loss: 2.514394467302332\n",
            "Epoch Number: 8\n",
            "loss: 9.50360320101332\n",
            "val loss: 2.514060974377643\n",
            "Epoch Number: 9\n",
            "loss: 9.482078968747215\n",
            "val loss: 2.527190506573185\n",
            "Epoch Number: 10\n",
            "loss: 9.497353013638403\n",
            "val loss: 2.59309128582563\n",
            "Epoch Number: 11\n",
            "loss: 9.500809323567946\n",
            "val loss: 2.512597498162035\n",
            "Epoch Number: 12\n",
            "loss: 9.458667298517016\n",
            "val loss: 2.544770093602089\n",
            "Epoch Number: 13\n",
            "loss: 9.502194448441045\n",
            "val loss: 2.5130302150899273\n",
            "Epoch Number: 14\n",
            "loss: 9.498674325897282\n",
            "val loss: 2.515770414549671\n",
            "Epoch Number: 15\n",
            "loss: 9.451718246786832\n",
            "val loss: 2.5258593330651706\n",
            "Epoch Number: 16\n",
            "loss: 9.485525075889633\n",
            "val loss: 2.4850099495169604\n",
            "Epoch Number: 17\n",
            "loss: 9.431790376289932\n",
            "val loss: 2.5088321868151358\n",
            "Epoch Number: 18\n",
            "loss: 9.440632594901201\n",
            "val loss: 2.5323764718214394\n",
            "Epoch Number: 19\n",
            "loss: 9.445717177841075\n",
            "val loss: 2.5260455470627106\n",
            "Epoch Number: 20\n",
            "loss: 9.404135301748466\n",
            "val loss: 2.504716769220655\n",
            "Epoch Number: 21\n",
            "loss: 9.427572597125215\n",
            "val loss: 2.4871522908946524\n",
            "Epoch Number: 22\n",
            "loss: 9.416688140004748\n",
            "val loss: 2.5012089831772246\n",
            "Epoch Number: 23\n",
            "loss: 9.403861557490421\n",
            "val loss: 2.544132471228468\n",
            "Epoch Number: 24\n",
            "loss: 9.448458952155123\n",
            "val loss: 2.501375638291853\n",
            "Epoch Number: 25\n",
            "loss: 9.399666618500808\n",
            "val loss: 2.49462687543192\n",
            "Epoch Number: 26\n",
            "loss: 9.441712395983975\n",
            "val loss: 2.4850924615866727\n",
            "Epoch Number: 27\n",
            "loss: 9.43008775166708\n",
            "val loss: 2.5056376351239487\n",
            "Epoch Number: 28\n",
            "loss: 9.384819668970454\n",
            "val loss: 2.4992288819157182\n",
            "Epoch Number: 29\n",
            "loss: 9.365197725364114\n",
            "val loss: 2.490988954408702\n",
            "Epoch Number: 30\n",
            "loss: 9.411570119361308\n",
            "val loss: 2.476469435039292\n",
            "Epoch Number: 31\n",
            "loss: 9.351231137725454\n",
            "val loss: 2.514207661884152\n",
            "Epoch Number: 32\n",
            "loss: 9.320842801982996\n",
            "val loss: 2.484264424694164\n",
            "Epoch Number: 33\n",
            "loss: 9.392324991461484\n",
            "val loss: 2.4699724972039703\n",
            "Epoch Number: 34\n",
            "loss: 9.362422295908921\n",
            "val loss: 2.5045601637412176\n",
            "Epoch Number: 35\n",
            "loss: 9.365783565044406\n",
            "val loss: 2.4839962147425503\n",
            "Epoch Number: 36\n",
            "loss: 9.32030349540546\n",
            "val loss: 2.4698343789414885\n",
            "Epoch Number: 37\n",
            "loss: 9.302817484681535\n",
            "val loss: 2.4658066122459354\n",
            "Epoch Number: 38\n",
            "loss: 9.340869923317822\n",
            "val loss: 2.469916049101356\n",
            "Epoch Number: 39\n",
            "loss: 9.314555674650348\n",
            "val loss: 2.4699550442133087\n",
            "Epoch Number: 40\n",
            "loss: 9.307449118484689\n",
            "val loss: 2.475002638571346\n",
            "Epoch Number: 41\n",
            "loss: 9.320033513314314\n",
            "val loss: 2.482778825237194\n",
            "Epoch Number: 42\n",
            "loss: 9.346071398795264\n",
            "val loss: 2.473724978944794\n",
            "Epoch Number: 43\n",
            "loss: 9.321853787483745\n",
            "val loss: 2.480660125669426\n",
            "Epoch Number: 44\n",
            "loss: 9.330666694837555\n",
            "val loss: 2.4663816710839837\n",
            "Epoch Number: 45\n",
            "loss: 9.328991241269453\n",
            "val loss: 2.4994238766690664\n",
            "Epoch Number: 46\n",
            "loss: 9.300888737780951\n",
            "val loss: 2.4651026501149245\n",
            "Epoch Number: 47\n",
            "loss: 9.306528942911562\n",
            "val loss: 2.4928116187214595\n",
            "Epoch Number: 48\n",
            "loss: 9.277646225050432\n",
            "val loss: 2.4595996322427096\n",
            "Epoch Number: 49\n",
            "loss: 9.326576304624492\n",
            "val loss: 2.473750284098421\n",
            "Epoch Number: 50\n",
            "loss: 9.302831312628275\n",
            "val loss: 2.487116834803551\n",
            "Epoch Number: 51\n",
            "loss: 9.317036792505567\n",
            "val loss: 2.4554277448543975\n",
            "Epoch Number: 52\n",
            "loss: 9.333695070863449\n",
            "val loss: 2.4778577651751506\n",
            "Epoch Number: 53\n",
            "loss: 9.316100885352375\n",
            "val loss: 2.4765800980071084\n",
            "Epoch Number: 54\n",
            "loss: 9.265185916441842\n",
            "val loss: 2.46484272332218\n",
            "Epoch Number: 55\n",
            "loss: 9.262590782948392\n",
            "val loss: 2.464134020739269\n",
            "Epoch Number: 56\n",
            "loss: 9.28263386604361\n",
            "val loss: 2.4797194792604422\n",
            "Epoch Number: 57\n",
            "loss: 9.276750622857282\n",
            "val loss: 2.4676838580997633\n",
            "Epoch Number: 58\n",
            "loss: 9.261715214020645\n",
            "val loss: 2.4664079555936396\n",
            "Epoch Number: 59\n",
            "loss: 9.280087713590778\n",
            "val loss: 2.4629114461199286\n",
            "Epoch Number: 60\n",
            "loss: 9.282505686480677\n",
            "val loss: 2.4992835900349104\n",
            "Epoch Number: 61\n",
            "loss: 9.24893356674698\n",
            "val loss: 2.472101957846498\n",
            "Epoch Number: 62\n",
            "loss: 9.270578985581624\n",
            "val loss: 2.478230396677023\n",
            "Epoch Number: 63\n",
            "loss: 9.288988316467908\n",
            "val loss: 2.4717826614398732\n",
            "Epoch Number: 64\n",
            "loss: 9.276689813453032\n",
            "val loss: 2.462717442739214\n",
            "Epoch Number: 65\n",
            "loss: 9.277612250962687\n",
            "val loss: 2.470318154284766\n",
            "Epoch Number: 66\n",
            "loss: 9.250278950590497\n",
            "val loss: 2.4660692914186604\n",
            "Epoch Number: 67\n",
            "loss: 9.288247022978698\n",
            "val loss: 2.4583387804154753\n",
            "Epoch Number: 68\n",
            "loss: 9.249841426322217\n",
            "val loss: 2.4736738201690054\n",
            "Epoch Number: 69\n",
            "loss: 9.296479839818181\n",
            "val loss: 2.481201304742036\n",
            "Epoch Number: 70\n",
            "loss: 9.263150123363237\n",
            "val loss: 2.481016955456415\n",
            "Epoch Number: 71\n",
            "loss: 9.265823384994324\n",
            "val loss: 2.4610352163164566\n",
            "Epoch Number: 72\n",
            "loss: 9.264091961056096\n",
            "val loss: 2.4569098721681772\n",
            "Epoch Number: 73\n",
            "loss: 9.24232956584398\n",
            "val loss: 2.477583129903802\n",
            "Epoch Number: 74\n",
            "loss: 9.254875005663486\n",
            "val loss: 2.46138223479049\n",
            "Epoch Number: 75\n",
            "loss: 9.25657244446472\n",
            "val loss: 2.4953413063640526\n",
            "Epoch Number: 76\n",
            "loss: 9.269565092427653\n",
            "val loss: 2.4598671212772953\n",
            "Epoch Number: 77\n",
            "loss: 9.255129198497677\n",
            "val loss: 2.483268746925722\n",
            "Epoch Number: 78\n",
            "loss: 9.2327576572819\n",
            "val loss: 2.4575396811443815\n",
            "Epoch Number: 79\n",
            "loss: 9.2501534477431\n",
            "val loss: 2.4612292977647146\n",
            "Epoch Number: 80\n",
            "loss: 9.237716851995065\n",
            "val loss: 2.4834296458332754\n",
            "Epoch Number: 81\n",
            "loss: 9.239721528257594\n",
            "val loss: 2.4780042221364815\n",
            "Epoch Number: 82\n",
            "loss: 9.257917374817117\n",
            "val loss: 2.4826450359668395\n",
            "Epoch Number: 83\n",
            "loss: 9.25418807888919\n",
            "val loss: 2.4708771023920417\n",
            "Epoch Number: 84\n",
            "loss: 9.254989725397818\n",
            "val loss: 2.4573634474351933\n",
            "Epoch Number: 85\n",
            "loss: 9.279459002346186\n",
            "val loss: 2.455828049057138\n",
            "Epoch Number: 86\n",
            "loss: 9.248415977974979\n",
            "val loss: 2.4566158419237776\n",
            "Epoch Number: 87\n",
            "loss: 9.231939326168806\n",
            "val loss: 2.459012521744929\n",
            "Epoch Number: 88\n",
            "loss: 9.24710661685161\n",
            "val loss: 2.4711961792202426\n",
            "Epoch Number: 89\n",
            "loss: 9.228177244626506\n",
            "val loss: 2.4534772659023916\n",
            "Epoch Number: 90\n",
            "loss: 9.227016949445302\n",
            "val loss: 2.458011059868164\n",
            "Epoch Number: 91\n",
            "loss: 9.231778866849409\n",
            "val loss: 2.461787722733547\n",
            "Epoch Number: 92\n",
            "loss: 9.236549590174686\n",
            "val loss: 2.469537247461843\n",
            "Epoch Number: 93\n",
            "loss: 9.211532766957294\n",
            "val loss: 2.4699660031433543\n",
            "Epoch Number: 94\n",
            "loss: 9.22796455333653\n",
            "val loss: 2.445597079933773\n",
            "Epoch Number: 95\n",
            "loss: 9.214625392147969\n",
            "val loss: 2.4636292368781607\n",
            "Epoch Number: 96\n",
            "loss: 9.20370700988937\n",
            "val loss: 2.471477449878509\n",
            "Epoch Number: 97\n",
            "loss: 9.203565282418651\n",
            "val loss: 2.4592494192689993\n",
            "Epoch Number: 98\n",
            "loss: 9.209928729902396\n",
            "val loss: 2.4541054590345905\n",
            "Epoch Number: 99\n",
            "loss: 9.209520894832428\n",
            "val loss: 2.469969982159737\n"
          ]
        },
        {
          "output_type": "display_data",
          "data": {
            "image/png": "[encoded data removed]",
            "text/plain": [
              "<Figure size 1440x720 with 1 Axes>"
            ]
          },
          "metadata": {
            "needs_background": "light"
          }
        }
      ]
    }
  ]
}
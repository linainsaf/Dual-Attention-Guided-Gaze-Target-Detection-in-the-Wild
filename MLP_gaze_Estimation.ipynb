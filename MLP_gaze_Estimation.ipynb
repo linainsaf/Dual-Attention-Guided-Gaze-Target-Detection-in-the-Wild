{
  "nbformat": 4,
  "nbformat_minor": 0,
  "metadata": {
    "colab": {
      "name": "MLP_gaze_Estimation",
      "provenance": []
    },
    "kernelspec": {
      "name": "python3",
      "display_name": "Python 3"
    },
    "language_info": {
      "name": "python"
    },
    "accelerator": "GPU"
  },
  "cells": [
    {
      "cell_type": "code",
      "metadata": {
        "id": "gOeVLyxKpQ4q",
        "colab": {
          "base_uri": "https://localhost:8080/"
        },
        "outputId": "a7fa8433-63c6-474f-8600-fa77f04c133b"
      },
      "source": [
        "from google.colab import drive\n",
        "drive.mount('/content/drive')"
      ],
      "execution_count": 1,
      "outputs": [
        {
          "output_type": "stream",
          "name": "stdout",
          "text": [
            "Mounted at /content/drive\n"
          ]
        }
      ]
    },
    {
      "cell_type": "code",
      "source": [
        "import pickle"
      ],
      "metadata": {
        "id": "Uoe0il1zLlBG"
      },
      "execution_count": 2,
      "outputs": []
    },
    {
      "cell_type": "code",
      "metadata": {
        "id": "I7CMQOeCoX3t"
      },
      "source": [
        "\n",
        " \n",
        "\n",
        "# Import h= (yaw,pitch)\n",
        "with open(\"/content/drive/My Drive/h_list.txt\", \"rb\") as fp:   # Unpickling\n",
        "    h = pickle.load(fp)\n",
        "\n",
        "# Import fl\n",
        "with open(\"/content/drive/My Drive/features_left512.txt\", \"rb\") as fp:   # Unpickling\n",
        "    features_left = pickle.load(fp)\n",
        "\n",
        "# Import fr\n",
        "with open(\"/content/drive/My Drive/features_right512.txt\", \"rb\") as fp:   # Unpickling\n",
        "    features_right = pickle.load(fp)\n",
        "\n",
        "# Import target gaze\n",
        "with open(\"/content/drive/My Drive/gaze.txt\", \"rb\") as fp:   # Unpickling\n",
        "    gazes = pickle.load(fp)\n"
      ],
      "execution_count": 3,
      "outputs": []
    },
    {
      "cell_type": "code",
      "source": [
        "# Import l_imgs\n",
        "\"\"\"\n",
        "with open(\"/content/drive/My Drive/l_imgs.txt\", \"rb\") as fp:   # Unpickling\n",
        "    l_imgs = pickle.load(fp)\n",
        "\n",
        "for i in range(len(l_imgs)):\n",
        "    if (l_imgs[i]).all==0 : \n",
        "      print(\"\\n eye_not_detected: \", i )\n",
        "\"\"\""
      ],
      "metadata": {
        "id": "4RREBg0_LJU3"
      },
      "execution_count": null,
      "outputs": []
    },
    {
      "cell_type": "code",
      "source": [
        "import numpy as np\n",
        "from os.path import dirname, join as pjoin\n",
        "import scipy.io as sio\n",
        "import cv2\n",
        "import os\n",
        "import matplotlib.pyplot as plt\n",
        "from matplotlib.pyplot import figure\n",
        "import matplotlib.patches as patches\n",
        "import math\n",
        "from math import *\n",
        "from torch.utils.data import Dataset\n",
        "import torchvision\n",
        "import torch.optim as optim\n",
        "from torchvision import models \n",
        "from torchvision import transforms\n",
        "import torch.nn as nn\n",
        "from PIL import Image\n",
        "from matplotlib import cm\n",
        "import torch\n",
        "from torch.utils.data.sampler import SubsetRandomSampler\n",
        "device = torch.device('cuda' if torch.cuda.is_available() else 'cpu')\n",
        "device"
      ],
      "metadata": {
        "colab": {
          "base_uri": "https://localhost:8080/"
        },
        "id": "b9Gb78aLZV3f",
        "outputId": "e476dd6a-5c72-42f4-a884-461b12a1c947"
      },
      "execution_count": 4,
      "outputs": [
        {
          "output_type": "execute_result",
          "data": {
            "text/plain": [
              "device(type='cuda')"
            ]
          },
          "metadata": {},
          "execution_count": 4
        }
      ]
    },
    {
      "cell_type": "code",
      "source": [
        "h2=torch.as_tensor(h).cuda()"
      ],
      "metadata": {
        "id": "xKhdJ-zicOuC"
      },
      "execution_count": 5,
      "outputs": []
    },
    {
      "cell_type": "code",
      "source": [
        "gazes2=torch.as_tensor(np.array(gazes)).cuda()"
      ],
      "metadata": {
        "id": "nFmssGGQeWgq"
      },
      "execution_count": 6,
      "outputs": []
    },
    {
      "cell_type": "code",
      "source": [
        "data_in = torch.cat((h2,features_right, features_left), 1)"
      ],
      "metadata": {
        "id": "RFTpVtYouCp2"
      },
      "execution_count": 7,
      "outputs": []
    },
    {
      "cell_type": "code",
      "source": [
        "data_in2= data_in.clone().detach()"
      ],
      "metadata": {
        "id": "cIvBmSJUEzMA"
      },
      "execution_count": 8,
      "outputs": []
    },
    {
      "cell_type": "code",
      "source": [
        "data_in2 = ((data_in2.T - data_in2.mean(axis = 1))/data_in2.std(axis = 1)).T"
      ],
      "metadata": {
        "id": "_6PGj86nSW8y"
      },
      "execution_count": 9,
      "outputs": []
    },
    {
      "cell_type": "code",
      "source": [
        "\n",
        "class MLPDataset(Dataset):\n",
        "    \"\"\"prep_data_for_MLP.\"\"\"\n",
        "\n",
        "    def __init__(self, data_in,gaze, transform=None):\n",
        "        self.data_in = data_in\n",
        "        self.target = gazes\n",
        "        self.transform = transform\n",
        "\n",
        "\n",
        "\n",
        "    def __len__(self):\n",
        "        return len(self.target)\n",
        "\n",
        "    def __getitem__(self, idx):\n",
        "        if torch.is_tensor(idx):\n",
        "            idx = idx.tolist()\n",
        "        x = self.data_in[idx]\n",
        "        y=  self.target[idx]\n",
        "        if self.transform:\n",
        "              x = self.transform(x)\n",
        "        #sample = {'input': x, 'gaze': y}\n",
        "        return x,y"
      ],
      "metadata": {
        "id": "CbZu0lA6aG9H"
      },
      "execution_count": 10,
      "outputs": []
    },
    {
      "cell_type": "markdown",
      "source": [
        ""
      ],
      "metadata": {
        "id": "CKQn5bNWtaXe"
      }
    },
    {
      "cell_type": "code",
      "source": [
        "from torch.utils.data import Dataset, DataLoader"
      ],
      "metadata": {
        "id": "DYTca5XVkgZe"
      },
      "execution_count": 11,
      "outputs": []
    },
    {
      "cell_type": "code",
      "metadata": {
        "id": "4RAX6xeKphPf"
      },
      "source": [
        "preprocess = transforms.Compose([\n",
        "        transforms.Lambda(lambda x: x.double()),\n",
        "\n",
        "        ])\n",
        "dataset = MLPDataset(data_in2,gazes2,transform=preprocess)"
      ],
      "execution_count": 12,
      "outputs": []
    },
    {
      "cell_type": "code",
      "source": [
        "validation_split = .2\n",
        "shuffle_dataset = True\n",
        "random_seed= 42\n",
        "batch_size= 128\n",
        "# Creating data indices for training and validation splits:\n",
        "dataset_size = len(dataset)\n",
        "indices = list(range(dataset_size))\n",
        "split = int(np.floor(validation_split * dataset_size))\n",
        "if shuffle_dataset :\n",
        "    np.random.seed(random_seed)\n",
        "    np.random.shuffle(indices)\n",
        "train_indices, val_indices = indices[split:], indices[:split]\n",
        "\n",
        "# Creating PT data samplers and loaders:\n",
        "train_sampler = SubsetRandomSampler(train_indices)\n",
        "valid_sampler = SubsetRandomSampler(val_indices)\n",
        "\n",
        "train_loader = torch.utils.data.DataLoader(dataset, batch_size=batch_size, \n",
        "                                           sampler=train_sampler)\n",
        "validation_loader = torch.utils.data.DataLoader(dataset, batch_size=batch_size,\n",
        "                                                sampler=valid_sampler)"
      ],
      "metadata": {
        "id": "ODtGye93lgdf"
      },
      "execution_count": 13,
      "outputs": []
    },
    {
      "cell_type": "code",
      "source": [
        "#input tensor size\n",
        "tensor_size= len(features_left[0])*2+len(h[0])"
      ],
      "metadata": {
        "id": "Q5LMkGFIGm6V"
      },
      "execution_count": 14,
      "outputs": []
    },
    {
      "cell_type": "code",
      "metadata": {
        "id": "rm1WqwHufTrj"
      },
      "source": [
        "#Function to create a Pretrained Resnet Model with a Fully Connected Layer\n",
        "# (out_1: ouput of 1st layer), (out_2: ouput of 2nd layer)\n",
        "def createModel_MLP(hidden,tensor_size):\n",
        "    model = nn.Sequential(\n",
        "      nn.Flatten(),\n",
        "      nn.Linear(tensor_size, hidden),\n",
        "      nn.ReLU(),\n",
        "      #nn.Linear(hidden, 128),\n",
        "      #nn.ReLU(),\n",
        "      nn.Linear(hidden, 3 ),\n",
        "    )\n",
        "    \n",
        "    model.double() #double to set variables to double\n",
        "    #Sending the device to the GPU if avaliable\n",
        "    model.to(device)\n",
        "\n",
        "    return model"
      ],
      "execution_count": 15,
      "outputs": []
    },
    {
      "cell_type": "code",
      "source": [
        "#Function to handle training\n",
        "#(model: model to train), (criterion: loss function for the model), (optimizer, what optimizer to use)\n",
        "def train(model, criterion, optimizer, file, epochs=80, trainLoss=[], validationLoss=[]):\n",
        "    #device = torch.device(\"cpu\")\n",
        "    print(\"Starting training\")\n",
        "    for epoch in range(epochs):\n",
        "        print(f\"Epoch Number: {epoch}\")\n",
        "\n",
        "        testAccuracy = 0\n",
        "        totalLoss = 0\n",
        "\n",
        "        for i, data in enumerate(train_loader, 0):\n",
        "            #Put model into training mode\n",
        "            model.train()\n",
        "            #batch= next(iter(train_loader))\n",
        "            x=data[0]\n",
        "            y=data[1].to(device)\n",
        "            #Zero out gradients\n",
        "            optimizer.zero_grad()\n",
        "            #Make a prediction\n",
        "            y_hat = model(x)\n",
        "            \n",
        "            #Calculate the loss\n",
        "            loss = criterion(y_hat, y)\n",
        "            #l = torch.sqrt(loss)\n",
        "            #Update the total loss\n",
        "            totalLoss += loss\n",
        "            #Initiate backpropagation\n",
        "            loss.backward()\n",
        "            \n",
        "            #Update parameters\n",
        "            optimizer.step()\n",
        "\n",
        "            #testAccuracy += (y_hat == y).sum().item()\n",
        "        trainLoss.append(totalLoss)\n",
        "        print(f\"loss: {totalLoss}\")\n",
        "        \n",
        "        valAccuracy = 0\n",
        "        totalLoss = 0\n",
        "        \n",
        "        \n",
        "        for j, data in enumerate(validation_loader, 0):\n",
        "            # Put the model into evaluation mode\n",
        "            #banch= next(iter(validation_loader))\n",
        "            x=data[0]\n",
        "            y=data[1].to(device)\n",
        "            model.eval()\n",
        "            y_pred= model(x)\n",
        "            #print(y_pred)\n",
        "            loss = criterion(y_pred, y)\n",
        "            #l = torch.sqrt(loss)\n",
        "            totalLoss += loss\n",
        "        print(f\"val loss: {totalLoss}\")\n",
        "        validationLoss.append(totalLoss)\n",
        "        #Save our model for each epoch\n",
        "    fig = plt.figure(figsize=(20,10))\n",
        "    plt.title(\"Train-Validation rmse\")\n",
        "    plt.plot(trainLoss, label='train')\n",
        "    plt.plot(validationLoss, label='validation')\n",
        "    plt.xlabel('num_epochs', fontsize=12)\n",
        "    plt.ylabel('RMSE', fontsize=12)\n",
        "    plt.legend(loc='best')\n",
        "    plt.savefig('MLP_RMSE_normalized1026.png')\n",
        "\n",
        "\n",
        "    torch.save(model.state_dict(), file)\n",
        "    torch.save(model.state_dict(), \"/content/drive/MyDrive/\"+file)\n",
        "    return trainLoss, validationLoss, model\n",
        "\n",
        "#Create a model using our function\n",
        "model = createModel_MLP(256,tensor_size)\n",
        "#Define our loss and optimizers\n",
        "criterion = nn.MSELoss()\n",
        "optimizer = optim.Adam(model.parameters(),lr=0.001)\n",
        "#Specify output file name\n",
        "file = \"MLP.pth\" #save model\n",
        "\n",
        "#Try to use Colab's GPU here, otherwise it will take a long time to train.\n",
        "output = train(model, criterion, optimizer, file)"
      ],
      "metadata": {
        "colab": {
          "base_uri": "https://localhost:8080/",
          "height": 1000
        },
        "id": "CDVlIOi1JD_x",
        "outputId": "5f44cce8-7162-44a1-ea32-fb5d9c376ccc"
      },
      "execution_count": 16,
      "outputs": [
        {
          "output_type": "stream",
          "name": "stdout",
          "text": [
            "Starting training\n",
            "Epoch Number: 0\n",
            "loss: 15.918250044883417\n",
            "val loss: 3.517362549864483\n",
            "Epoch Number: 1\n",
            "loss: 14.000605320885864\n",
            "val loss: 3.4728191968917286\n",
            "Epoch Number: 2\n",
            "loss: 13.683991921139413\n",
            "val loss: 3.4199362740660204\n",
            "Epoch Number: 3\n",
            "loss: 13.613116990481302\n",
            "val loss: 3.4484889945908987\n",
            "Epoch Number: 4\n",
            "loss: 13.471515285664696\n",
            "val loss: 3.4163530142920253\n",
            "Epoch Number: 5\n",
            "loss: 13.3739641164564\n",
            "val loss: 3.3746925606672\n",
            "Epoch Number: 6\n",
            "loss: 13.279116256634447\n",
            "val loss: 3.3872609584606614\n",
            "Epoch Number: 7\n",
            "loss: 13.260420189139992\n",
            "val loss: 3.431188402216049\n",
            "Epoch Number: 8\n",
            "loss: 13.307366806445156\n",
            "val loss: 3.412671600431235\n",
            "Epoch Number: 9\n",
            "loss: 13.202104574888294\n",
            "val loss: 3.3279668097428945\n",
            "Epoch Number: 10\n",
            "loss: 13.128874803684166\n",
            "val loss: 3.3535822006303215\n",
            "Epoch Number: 11\n",
            "loss: 13.127088154353025\n",
            "val loss: 3.313847429820264\n",
            "Epoch Number: 12\n",
            "loss: 13.116636626799782\n",
            "val loss: 3.3352470654282453\n",
            "Epoch Number: 13\n",
            "loss: 13.122716126540508\n",
            "val loss: 3.320514424925971\n",
            "Epoch Number: 14\n",
            "loss: 13.102187044834812\n",
            "val loss: 3.329470942802883\n",
            "Epoch Number: 15\n",
            "loss: 13.054196598643307\n",
            "val loss: 3.3326663740264726\n",
            "Epoch Number: 16\n",
            "loss: 13.049821125638884\n",
            "val loss: 3.3110554806922634\n",
            "Epoch Number: 17\n",
            "loss: 13.013442862760817\n",
            "val loss: 3.322724548421543\n",
            "Epoch Number: 18\n",
            "loss: 13.090447031412957\n",
            "val loss: 3.3054627962447922\n",
            "Epoch Number: 19\n",
            "loss: 12.972418387293507\n",
            "val loss: 3.3367957803876087\n",
            "Epoch Number: 20\n",
            "loss: 13.014393767219431\n",
            "val loss: 3.33561323965286\n",
            "Epoch Number: 21\n",
            "loss: 12.983090897795371\n",
            "val loss: 3.2853893983127924\n",
            "Epoch Number: 22\n",
            "loss: 13.011730598385315\n",
            "val loss: 3.308520937740693\n",
            "Epoch Number: 23\n",
            "loss: 12.933889362795997\n",
            "val loss: 3.295165504359249\n",
            "Epoch Number: 24\n",
            "loss: 12.92678291925923\n",
            "val loss: 3.288430552002022\n",
            "Epoch Number: 25\n",
            "loss: 12.937395891417928\n",
            "val loss: 3.2898193216508615\n",
            "Epoch Number: 26\n",
            "loss: 12.912668387290122\n",
            "val loss: 3.3167410226464744\n",
            "Epoch Number: 27\n",
            "loss: 12.922518114358756\n",
            "val loss: 3.283226256167678\n",
            "Epoch Number: 28\n",
            "loss: 12.882109581949205\n",
            "val loss: 3.2857129248782946\n",
            "Epoch Number: 29\n",
            "loss: 12.910159258530689\n",
            "val loss: 3.290320214732241\n",
            "Epoch Number: 30\n",
            "loss: 12.87791588269258\n",
            "val loss: 3.300687823693626\n",
            "Epoch Number: 31\n",
            "loss: 12.836055481072812\n",
            "val loss: 3.331338285016648\n",
            "Epoch Number: 32\n",
            "loss: 12.94398517210376\n",
            "val loss: 3.2623239238151354\n",
            "Epoch Number: 33\n",
            "loss: 12.820437017287274\n",
            "val loss: 3.2815004086264548\n",
            "Epoch Number: 34\n",
            "loss: 12.82305229268859\n",
            "val loss: 3.291417098886934\n",
            "Epoch Number: 35\n",
            "loss: 12.852790406100816\n",
            "val loss: 3.260660416854952\n",
            "Epoch Number: 36\n",
            "loss: 12.773495440541815\n",
            "val loss: 3.3025287341973297\n",
            "Epoch Number: 37\n",
            "loss: 12.82281158389775\n",
            "val loss: 3.2760454834162545\n",
            "Epoch Number: 38\n",
            "loss: 12.777137592408126\n",
            "val loss: 3.2664135310422404\n",
            "Epoch Number: 39\n",
            "loss: 12.823267050522581\n",
            "val loss: 3.276069036892033\n",
            "Epoch Number: 40\n",
            "loss: 12.7736582160171\n",
            "val loss: 3.2742805350957935\n",
            "Epoch Number: 41\n",
            "loss: 12.788163933920218\n",
            "val loss: 3.278985354422278\n",
            "Epoch Number: 42\n",
            "loss: 12.787204136744021\n",
            "val loss: 3.265561184022655\n",
            "Epoch Number: 43\n",
            "loss: 12.743678004431136\n",
            "val loss: 3.2647865988659337\n",
            "Epoch Number: 44\n",
            "loss: 12.733682947492545\n",
            "val loss: 3.241632396282467\n",
            "Epoch Number: 45\n",
            "loss: 12.762139559699818\n",
            "val loss: 3.2592940845118052\n",
            "Epoch Number: 46\n",
            "loss: 12.76326366077718\n",
            "val loss: 3.251524944377163\n",
            "Epoch Number: 47\n",
            "loss: 12.715653568984258\n",
            "val loss: 3.2430164431744806\n",
            "Epoch Number: 48\n",
            "loss: 12.873247362705253\n",
            "val loss: 3.2819494626916246\n",
            "Epoch Number: 49\n",
            "loss: 12.733118058310072\n",
            "val loss: 3.2630539127964027\n",
            "Epoch Number: 50\n",
            "loss: 12.694182486556182\n",
            "val loss: 3.2645547434721056\n",
            "Epoch Number: 51\n",
            "loss: 12.699556779783999\n",
            "val loss: 3.2550728182829953\n",
            "Epoch Number: 52\n",
            "loss: 12.700661414457691\n",
            "val loss: 3.2590735120787646\n",
            "Epoch Number: 53\n",
            "loss: 12.76827044410311\n",
            "val loss: 3.2616963714860354\n",
            "Epoch Number: 54\n",
            "loss: 12.727659513358429\n",
            "val loss: 3.2640225992999365\n",
            "Epoch Number: 55\n",
            "loss: 12.716108466781366\n",
            "val loss: 3.2441100383594788\n",
            "Epoch Number: 56\n",
            "loss: 12.698482962999666\n",
            "val loss: 3.2940421486291305\n",
            "Epoch Number: 57\n",
            "loss: 12.7182194614846\n",
            "val loss: 3.248906906484301\n",
            "Epoch Number: 58\n",
            "loss: 12.697471001187155\n",
            "val loss: 3.2421806142356577\n",
            "Epoch Number: 59\n",
            "loss: 12.703751029583916\n",
            "val loss: 3.2583291621048334\n",
            "Epoch Number: 60\n",
            "loss: 12.696626263841473\n",
            "val loss: 3.330073372106091\n",
            "Epoch Number: 61\n",
            "loss: 12.73358179609807\n",
            "val loss: 3.2767464883449686\n",
            "Epoch Number: 62\n",
            "loss: 12.658003916674797\n",
            "val loss: 3.2496300040089507\n",
            "Epoch Number: 63\n",
            "loss: 12.65594189229939\n",
            "val loss: 3.2349798764935698\n",
            "Epoch Number: 64\n",
            "loss: 12.625292164007442\n",
            "val loss: 3.2573963481563504\n",
            "Epoch Number: 65\n",
            "loss: 12.639510915870442\n",
            "val loss: 3.239886120765734\n",
            "Epoch Number: 66\n",
            "loss: 12.668907202352711\n",
            "val loss: 3.2647471645386354\n",
            "Epoch Number: 67\n",
            "loss: 12.652979188662794\n",
            "val loss: 3.2630980671552425\n",
            "Epoch Number: 68\n",
            "loss: 12.695702579788078\n",
            "val loss: 3.2649214699301767\n",
            "Epoch Number: 69\n",
            "loss: 12.705929239626526\n",
            "val loss: 3.235739134682322\n",
            "Epoch Number: 70\n",
            "loss: 12.647688641098593\n",
            "val loss: 3.230782142442469\n",
            "Epoch Number: 71\n",
            "loss: 12.598114699209273\n",
            "val loss: 3.2464101654659547\n",
            "Epoch Number: 72\n",
            "loss: 12.64909611059318\n",
            "val loss: 3.2632508891341785\n",
            "Epoch Number: 73\n",
            "loss: 12.614401400634922\n",
            "val loss: 3.241411224933067\n",
            "Epoch Number: 74\n",
            "loss: 12.640636748569689\n",
            "val loss: 3.241321609127689\n",
            "Epoch Number: 75\n",
            "loss: 12.657038790107098\n",
            "val loss: 3.2433792773406775\n",
            "Epoch Number: 76\n",
            "loss: 12.613347609457344\n",
            "val loss: 3.2374081167796818\n",
            "Epoch Number: 77\n",
            "loss: 12.591653767199697\n",
            "val loss: 3.2378069022714135\n",
            "Epoch Number: 78\n",
            "loss: 12.591166129173857\n",
            "val loss: 3.2284097824083275\n",
            "Epoch Number: 79\n",
            "loss: 12.580625710534408\n",
            "val loss: 3.2139115398195237\n"
          ]
        },
        {
          "output_type": "display_data",
          "data": {
            "image/png": "[encoded data removed]",
            "text/plain": [
              "<Figure size 1440x720 with 1 Axes>"
            ]
          },
          "metadata": {
            "needs_background": "light"
          }
        }
      ]
    }
  ]
}
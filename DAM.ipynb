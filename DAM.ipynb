{
 "cells": [
  {
   "cell_type": "code",
   "execution_count": 3,
   "metadata": {},
   "outputs": [],
   "source": [
    "# get depth maps  from pickle file\n",
    "# buils heatmaps\n",
    "# use Md and Mf functions\n",
    "from depth_rebasing.Md import Md, normalize  # for depth rebasing\n",
    "from FOV_generator.Mf import Mf              # for fov generation"
   ]
  },
  {
   "cell_type": "code",
   "execution_count": null,
   "metadata": {},
   "outputs": [],
   "source": [
    "# build the heatmaps\n",
    "# depth_maps -- depth maps\n",
    "#imgs_heads -- head images\n",
    "#gz \n",
    "#H -- head position\n",
    "#G -- gx, gy\n",
    "#I -- image\n",
    "def DAM(depth_maps,imgs_heads, gz, H, G, I, alpha=6):\n",
    "    \n",
    "    for i in range (np.size(depth_maps)):    \n",
    "        heat_maps=Md(depth_maps[i], imgs_heads[i], gz[i])*Mf(H[i], G[i], I[i], alpha) # on doit multiplier par le module FOV\n",
    "    \n",
    "    return heat_maps"
   ]
  }
 ],
 "metadata": {
  "kernelspec": {
   "display_name": "Python 3",
   "language": "python",
   "name": "python3"
  },
  "language_info": {
   "codemirror_mode": {
    "name": "ipython",
    "version": 3
   },
   "file_extension": ".py",
   "mimetype": "text/x-python",
   "name": "python",
   "nbconvert_exporter": "python",
   "pygments_lexer": "ipython3",
   "version": "3.8.3"
  }
 },
 "nbformat": 4,
 "nbformat_minor": 4
}

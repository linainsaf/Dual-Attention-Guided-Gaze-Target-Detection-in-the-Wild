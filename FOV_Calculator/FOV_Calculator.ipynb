{
 "cells": [
  {
   "cell_type": "code",
   "execution_count": 1,
   "metadata": {},
   "outputs": [],
   "source": [
    "import numpy as np"
   ]
  },
  {
   "cell_type": "code",
   "execution_count": null,
   "metadata": {},
   "outputs": [],
   "source": [
    "def FOV_Calculator(H, G, I, alpha=6):\n",
    "    \"\"\"\n",
    "        H     : (hx, hy) head position\n",
    "        G     : (gx, gy) gaze target direction\n",
    "        I     : image\n",
    "        alpha : parameter to decide the angle of view\n",
    "        \n",
    "        return : MF attention Map\n",
    "    \"\"\"\n",
    "    \n",
    "    Mf = np.zeros_like(I)\n",
    "    \n",
    "    for i in range(I.shape[0]):\n",
    "        for j in range(I.shape[1]):\n",
    "            \n",
    "            theta   = np.arccos( ( (np.array([i,j])-H)*G )/( np.linalg.norm(np.array([i,j])-H)*np.linalg.norm(G)) )\n",
    "            Mf[i,j] = np.max(1-((alpha*theta)/np.pi), 0)\n",
    "    \n",
    "    return Mf"
   ]
  }
 ],
 "metadata": {
  "kernelspec": {
   "display_name": "Python 3",
   "language": "python",
   "name": "python3"
  },
  "language_info": {
   "codemirror_mode": {
    "name": "ipython",
    "version": 3
   },
   "file_extension": ".py",
   "mimetype": "text/x-python",
   "name": "python",
   "nbconvert_exporter": "python",
   "pygments_lexer": "ipython3",
   "version": "3.7.3"
  }
 },
 "nbformat": 4,
 "nbformat_minor": 2
}
